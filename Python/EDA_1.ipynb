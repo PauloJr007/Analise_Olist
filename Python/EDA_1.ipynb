{
 "cells": [
  {
   "cell_type": "markdown",
   "id": "45fa8f10",
   "metadata": {},
   "source": [
    "# <a id='toc1_'></a>[📊 Análise Exploratória de Dados — Parte 1](#toc0_)\n",
    "\n",
    "**Nesta primeira etapa da EDA (Exploratory Data Analysis), examinarei cada tabela de forma isolada com o objetivo de identificar possíveis inconsistências, outliers, valores nulos, e erros de entrada nos dados.**\n",
    "\n",
    "🔍 A análise será conduzida de maneira sistemática, priorizando:\n",
    "\n",
    "- Estrutura e tipos de dados  \n",
    "- Distribuições estatísticas  \n",
    "- Detecção de valores faltantes e inválidos  \n",
    "- Identificação de padrões suspeitos ou anomalias  \n",
    "\n",
    "Esse processo é essencial para garantir a qualidade dos dados antes de aplicar qualquer técnica de limpeza ou transformação."
   ]
  },
  {
   "cell_type": "markdown",
   "id": "2763b16a",
   "metadata": {},
   "source": [
    "**Tópicos do Notebook**<a id='toc0_'></a>    \n",
    "- [📊 Análise Exploratória de Dados — Parte 1](#toc1_)    \n",
    "- [Importações e Extração dos Dados](#toc2_)    \n",
    "- [Análise Exploratória de Dados (EDA)](#toc3_)    \n",
    "  - [Tabela: olist_geolocation](#toc3_1_)    \n",
    "    - [Resumo da tabela](#toc3_1_1_)    \n",
    "    - [Coluna \"geolocation_zip_code_prefix\"](#toc3_1_2_)    \n",
    "    - [Colunas \"geolocation_lat\" e \"geolocation_lng\"](#toc3_1_3_)    \n",
    "    - [Coluna \"geolocation_city\"](#toc3_1_4_)    \n",
    "      - [Funções para análise de colunas de cidades](#toc3_1_4_1_)    \n",
    "    - [Coluna \"geolocation_state\"](#toc3_1_5_)    \n",
    "  - [Tabela: olist_customers](#toc3_2_)    \n",
    "    - [Resumo da Tabela](#toc3_2_1_)    \n",
    "    - [Coluna \"customer_zip_code_prefix\"](#toc3_2_2_)    \n",
    "    - [Coluna \"customer_city\"](#toc3_2_3_)    \n",
    "    - [Coluna \"customer_state\"](#toc3_2_4_)    \n",
    "  - [Tabela: olist_sellers](#toc3_3_)    \n",
    "    - [Resumo da Tabela](#toc3_3_1_)    \n",
    "    - [Coluna \"seller_zip_code_prefix\"](#toc3_3_2_)    \n",
    "    - [Coluna \"seller_city\"](#toc3_3_3_)    \n",
    "    - [Coluna \"seller_state\"](#toc3_3_4_)    \n",
    "  - [Tabela: olist_products](#toc3_4_)    \n",
    "    - [Resumo da Tabela](#toc3_4_1_)    \n",
    "    - [Analisando Valores ausentes/nulos](#toc3_4_2_)    \n",
    "  - [Tabela: olist_orders](#toc3_5_)    \n",
    "    - [Resumo da Tabela](#toc3_5_1_)    \n",
    "    - [Analisando dados ausentes/nulos + Coluna \"order_status\"](#toc3_5_2_)    \n",
    "  - [Tabela: olist_order_items](#toc3_6_)    \n",
    "    - [Resumo da tabela](#toc3_6_1_)    \n",
    "    - [Coluna \"shipping_limit_date\"](#toc3_6_2_)    \n",
    "    - [Coluna \"price\"](#toc3_6_3_)    \n",
    "    - [Coluna \"freight_value\"](#toc3_6_4_)    \n",
    "  - [Tabela: olist_order_payments](#toc3_7_)    \n",
    "    - [Resumo da tabela](#toc3_7_1_)    \n",
    "    - [Coluna \"payment_sequential\"](#toc3_7_2_)    \n",
    "    - [Coluna \"payment_installments\"](#toc3_7_3_)    \n",
    "    - [Coluna \"payment_value\"](#toc3_7_4_)    \n",
    "    - [Coluna \"payment_type\"](#toc3_7_5_)    \n",
    "  - [Tabela: olist_order_reviews](#toc3_8_)    \n",
    "    - [Resumo da tabela](#toc3_8_1_)    \n",
    "\n",
    "<!-- vscode-jupyter-toc-config\n",
    "\tnumbering=false\n",
    "\tanchor=true\n",
    "\tflat=false\n",
    "\tminLevel=1\n",
    "\tmaxLevel=6\n",
    "\t/vscode-jupyter-toc-config -->\n",
    "<!-- THIS CELL WILL BE REPLACED ON TOC UPDATE. DO NOT WRITE YOUR TEXT IN THIS CELL -->"
   ]
  },
  {
   "cell_type": "markdown",
   "id": "587f15ab",
   "metadata": {},
   "source": [
    "# <a id='toc2_'></a>[Importações e Extração dos Dados](#toc0_)\n"
   ]
  },
  {
   "cell_type": "code",
   "execution_count": null,
   "id": "f61d85cc",
   "metadata": {},
   "outputs": [],
   "source": [
    "import pandas as pd  # Biblioteca para leitura e manipulação de dados tabulares\n",
    "import numpy as np  # Biblioteca para operações numéricas e estatísticas\n",
    "import matplotlib.pyplot as plt  # Biblioteca para geração de gráficos básicos (visualização inicial dos dados)\n",
    "import seaborn as sns  # Biblioteca para gráficos estatísticos mais avançados e visualmente atraentes\n",
    "import unicodedata # Para padronização dos Dados\n",
    "import re # Biblioteca para uso de expressões regulares, útil na limpeza e validação de dados textuais\n",
    "from sqlalchemy import create_engine  # Utilizada para criar uma conexão com bancos de dados SQL (ex: MySQL)"
   ]
  },
  {
   "cell_type": "code",
   "execution_count": null,
   "id": "2b19fb46",
   "metadata": {},
   "outputs": [],
   "source": [
    "# Estabelecendo conexão com o banco de dados MySQL usando SQLAlchemy\n",
    "\n",
    "conn = create_engine(\"mysql+mysqlconnector://root:...\")"
   ]
  },
  {
   "cell_type": "code",
   "execution_count": null,
   "id": "c9a06cee",
   "metadata": {},
   "outputs": [],
   "source": [
    "# Extração completa das tabelas do banco de dados para análise em pandas\n",
    "\n",
    "olist_geolocation = pd.read_sql(\n",
    "    \"SELECT * FROM olist_geolocation\", con=conn)\n",
    "\n",
    "olist_customers = pd.read_sql(\n",
    "    \"SELECT * FROM olist_customers\", con=conn)\n",
    "\n",
    "olist_sellers = pd.read_sql(\n",
    "    \"SELECT * FROM olist_sellers\", con=conn)\n",
    "\n",
    "olist_products = pd.read_sql(\n",
    "    \"SELECT * FROM olist_products\", con=conn)\n",
    "\n",
    "olist_orders = pd.read_sql(\n",
    "    \"SELECT * FROM olist_orders\", con=conn)\n",
    "\n",
    "olist_order_items = pd.read_sql(\n",
    "    \"SELECT * FROM olist_order_items\", con=conn)\n",
    "\n",
    "olist_order_payments = pd.read_sql(\n",
    "    \"SELECT * FROM olist_order_payments\", con=conn)\n",
    "\n",
    "olist_order_reviews = pd.read_sql(\n",
    "    \"SELECT * FROM olist_order_reviews\", con=conn)"
   ]
  },
  {
   "cell_type": "markdown",
   "id": "13f7ed86",
   "metadata": {},
   "source": [
    "# <a id='toc3_'></a>[Análise Exploratória de Dados (EDA)](#toc0_)\n",
    "\n",
    "**Análise Individual por Tabela e Variável**\n"
   ]
  },
  {
   "cell_type": "markdown",
   "id": "80daf2e2",
   "metadata": {},
   "source": [
    "## <a id='toc3_1_'></a>[Tabela: olist_geolocation](#toc0_)\n"
   ]
  },
  {
   "cell_type": "markdown",
   "id": "8b0991f8",
   "metadata": {},
   "source": [
    "### <a id='toc3_1_1_'></a>[Resumo da tabela](#toc0_)\n"
   ]
  },
  {
   "cell_type": "code",
   "execution_count": 4,
   "id": "12ea711d",
   "metadata": {},
   "outputs": [
    {
     "data": {
      "text/html": [
       "<div>\n",
       "<style scoped>\n",
       "    .dataframe tbody tr th:only-of-type {\n",
       "        vertical-align: middle;\n",
       "    }\n",
       "\n",
       "    .dataframe tbody tr th {\n",
       "        vertical-align: top;\n",
       "    }\n",
       "\n",
       "    .dataframe thead th {\n",
       "        text-align: right;\n",
       "    }\n",
       "</style>\n",
       "<table border=\"1\" class=\"dataframe\">\n",
       "  <thead>\n",
       "    <tr style=\"text-align: right;\">\n",
       "      <th></th>\n",
       "      <th>geolocation_zip_code_prefix</th>\n",
       "      <th>geolocation_lat</th>\n",
       "      <th>geolocation_lng</th>\n",
       "      <th>geolocation_city</th>\n",
       "      <th>geolocation_state</th>\n",
       "    </tr>\n",
       "  </thead>\n",
       "  <tbody>\n",
       "    <tr>\n",
       "      <th>0</th>\n",
       "      <td>1037</td>\n",
       "      <td>-23.5456</td>\n",
       "      <td>-46.6393</td>\n",
       "      <td>sao paulo</td>\n",
       "      <td>SP</td>\n",
       "    </tr>\n",
       "    <tr>\n",
       "      <th>1</th>\n",
       "      <td>1046</td>\n",
       "      <td>-23.5461</td>\n",
       "      <td>-46.6448</td>\n",
       "      <td>sao paulo</td>\n",
       "      <td>SP</td>\n",
       "    </tr>\n",
       "    <tr>\n",
       "      <th>2</th>\n",
       "      <td>1046</td>\n",
       "      <td>-23.5461</td>\n",
       "      <td>-46.6430</td>\n",
       "      <td>sao paulo</td>\n",
       "      <td>SP</td>\n",
       "    </tr>\n",
       "    <tr>\n",
       "      <th>3</th>\n",
       "      <td>1041</td>\n",
       "      <td>-23.5444</td>\n",
       "      <td>-46.6395</td>\n",
       "      <td>sao paulo</td>\n",
       "      <td>SP</td>\n",
       "    </tr>\n",
       "    <tr>\n",
       "      <th>4</th>\n",
       "      <td>1035</td>\n",
       "      <td>-23.5416</td>\n",
       "      <td>-46.6416</td>\n",
       "      <td>sao paulo</td>\n",
       "      <td>SP</td>\n",
       "    </tr>\n",
       "  </tbody>\n",
       "</table>\n",
       "</div>"
      ],
      "text/plain": [
       "  geolocation_zip_code_prefix  geolocation_lat  geolocation_lng  \\\n",
       "0                        1037         -23.5456         -46.6393   \n",
       "1                        1046         -23.5461         -46.6448   \n",
       "2                        1046         -23.5461         -46.6430   \n",
       "3                        1041         -23.5444         -46.6395   \n",
       "4                        1035         -23.5416         -46.6416   \n",
       "\n",
       "  geolocation_city geolocation_state  \n",
       "0        sao paulo                SP  \n",
       "1        sao paulo                SP  \n",
       "2        sao paulo                SP  \n",
       "3        sao paulo                SP  \n",
       "4        sao paulo                SP  "
      ]
     },
     "execution_count": 4,
     "metadata": {},
     "output_type": "execute_result"
    }
   ],
   "source": [
    "# Visualização das primeiras linhas para entender estrutura, tipos e possíveis padrões nos dados\n",
    "olist_geolocation.head()"
   ]
  },
  {
   "cell_type": "code",
   "execution_count": 5,
   "id": "aae47fa4",
   "metadata": {},
   "outputs": [
    {
     "name": "stdout",
     "output_type": "stream",
     "text": [
      "<class 'pandas.core.frame.DataFrame'>\n",
      "RangeIndex: 1000163 entries, 0 to 1000162\n",
      "Data columns (total 5 columns):\n",
      " #   Column                       Non-Null Count    Dtype  \n",
      "---  ------                       --------------    -----  \n",
      " 0   geolocation_zip_code_prefix  1000163 non-null  object \n",
      " 1   geolocation_lat              1000163 non-null  float64\n",
      " 2   geolocation_lng              1000163 non-null  float64\n",
      " 3   geolocation_city             1000163 non-null  object \n",
      " 4   geolocation_state            1000163 non-null  object \n",
      "dtypes: float64(2), object(3)\n",
      "memory usage: 38.2+ MB\n"
     ]
    }
   ],
   "source": [
    "# Análise inicial da tabela: tipos de dados, quantidade de entradas, valores nulos\n",
    "olist_geolocation.info()"
   ]
  },
  {
   "cell_type": "code",
   "execution_count": 6,
   "id": "f3a995b0",
   "metadata": {},
   "outputs": [
    {
     "data": {
      "text/html": [
       "<div>\n",
       "<style scoped>\n",
       "    .dataframe tbody tr th:only-of-type {\n",
       "        vertical-align: middle;\n",
       "    }\n",
       "\n",
       "    .dataframe tbody tr th {\n",
       "        vertical-align: top;\n",
       "    }\n",
       "\n",
       "    .dataframe thead th {\n",
       "        text-align: right;\n",
       "    }\n",
       "</style>\n",
       "<table border=\"1\" class=\"dataframe\">\n",
       "  <thead>\n",
       "    <tr style=\"text-align: right;\">\n",
       "      <th></th>\n",
       "      <th>geolocation_zip_code_prefix</th>\n",
       "      <th>geolocation_lat</th>\n",
       "      <th>geolocation_lng</th>\n",
       "      <th>geolocation_city</th>\n",
       "      <th>geolocation_state</th>\n",
       "    </tr>\n",
       "  </thead>\n",
       "  <tbody>\n",
       "    <tr>\n",
       "      <th>count</th>\n",
       "      <td>1000163</td>\n",
       "      <td>1.000163e+06</td>\n",
       "      <td>1.000163e+06</td>\n",
       "      <td>1000163</td>\n",
       "      <td>1000163</td>\n",
       "    </tr>\n",
       "    <tr>\n",
       "      <th>unique</th>\n",
       "      <td>19015</td>\n",
       "      <td>NaN</td>\n",
       "      <td>NaN</td>\n",
       "      <td>8011</td>\n",
       "      <td>27</td>\n",
       "    </tr>\n",
       "    <tr>\n",
       "      <th>top</th>\n",
       "      <td>24220</td>\n",
       "      <td>NaN</td>\n",
       "      <td>NaN</td>\n",
       "      <td>sao paulo</td>\n",
       "      <td>SP</td>\n",
       "    </tr>\n",
       "    <tr>\n",
       "      <th>freq</th>\n",
       "      <td>1146</td>\n",
       "      <td>NaN</td>\n",
       "      <td>NaN</td>\n",
       "      <td>135800</td>\n",
       "      <td>404268</td>\n",
       "    </tr>\n",
       "    <tr>\n",
       "      <th>mean</th>\n",
       "      <td>NaN</td>\n",
       "      <td>-2.117615e+01</td>\n",
       "      <td>-4.639054e+01</td>\n",
       "      <td>NaN</td>\n",
       "      <td>NaN</td>\n",
       "    </tr>\n",
       "    <tr>\n",
       "      <th>std</th>\n",
       "      <td>NaN</td>\n",
       "      <td>5.715866e+00</td>\n",
       "      <td>4.269748e+00</td>\n",
       "      <td>NaN</td>\n",
       "      <td>NaN</td>\n",
       "    </tr>\n",
       "    <tr>\n",
       "      <th>min</th>\n",
       "      <td>NaN</td>\n",
       "      <td>-3.660540e+01</td>\n",
       "      <td>-1.014670e+02</td>\n",
       "      <td>NaN</td>\n",
       "      <td>NaN</td>\n",
       "    </tr>\n",
       "    <tr>\n",
       "      <th>25%</th>\n",
       "      <td>NaN</td>\n",
       "      <td>-2.360350e+01</td>\n",
       "      <td>-4.857315e+01</td>\n",
       "      <td>NaN</td>\n",
       "      <td>NaN</td>\n",
       "    </tr>\n",
       "    <tr>\n",
       "      <th>50%</th>\n",
       "      <td>NaN</td>\n",
       "      <td>-2.291940e+01</td>\n",
       "      <td>-4.663790e+01</td>\n",
       "      <td>NaN</td>\n",
       "      <td>NaN</td>\n",
       "    </tr>\n",
       "    <tr>\n",
       "      <th>75%</th>\n",
       "      <td>NaN</td>\n",
       "      <td>-1.997960e+01</td>\n",
       "      <td>-4.376770e+01</td>\n",
       "      <td>NaN</td>\n",
       "      <td>NaN</td>\n",
       "    </tr>\n",
       "    <tr>\n",
       "      <th>max</th>\n",
       "      <td>NaN</td>\n",
       "      <td>4.506590e+01</td>\n",
       "      <td>1.211050e+02</td>\n",
       "      <td>NaN</td>\n",
       "      <td>NaN</td>\n",
       "    </tr>\n",
       "  </tbody>\n",
       "</table>\n",
       "</div>"
      ],
      "text/plain": [
       "       geolocation_zip_code_prefix  geolocation_lat  geolocation_lng  \\\n",
       "count                      1000163     1.000163e+06     1.000163e+06   \n",
       "unique                       19015              NaN              NaN   \n",
       "top                          24220              NaN              NaN   \n",
       "freq                          1146              NaN              NaN   \n",
       "mean                           NaN    -2.117615e+01    -4.639054e+01   \n",
       "std                            NaN     5.715866e+00     4.269748e+00   \n",
       "min                            NaN    -3.660540e+01    -1.014670e+02   \n",
       "25%                            NaN    -2.360350e+01    -4.857315e+01   \n",
       "50%                            NaN    -2.291940e+01    -4.663790e+01   \n",
       "75%                            NaN    -1.997960e+01    -4.376770e+01   \n",
       "max                            NaN     4.506590e+01     1.211050e+02   \n",
       "\n",
       "       geolocation_city geolocation_state  \n",
       "count           1000163           1000163  \n",
       "unique             8011                27  \n",
       "top           sao paulo                SP  \n",
       "freq             135800            404268  \n",
       "mean                NaN               NaN  \n",
       "std                 NaN               NaN  \n",
       "min                 NaN               NaN  \n",
       "25%                 NaN               NaN  \n",
       "50%                 NaN               NaN  \n",
       "75%                 NaN               NaN  \n",
       "max                 NaN               NaN  "
      ]
     },
     "execution_count": 6,
     "metadata": {},
     "output_type": "execute_result"
    }
   ],
   "source": [
    "# Resumo estatístico da tabela\n",
    "olist_geolocation.describe(include=\"all\") # Acrescentando o Parâmetro (include=\"all\") para inclusão dos dados categoricos no resumo"
   ]
  },
  {
   "cell_type": "code",
   "execution_count": null,
   "id": "5eed2095",
   "metadata": {},
   "outputs": [],
   "source": [
    "# Função auxiliar para identificar e retornar todas as linhas duplicadas em um DataFrame\n",
    "\n",
    "def encontrar_linhas_duplicadas(df):\n",
    "    \"\"\"\n",
    "    Retorna todas as instâncias duplicadas em um DataFrame (todas as colunas iguais).\n",
    "\n",
    "    Parâmetros:\n",
    "        df (pd.DataFrame): DataFrame a ser analisado.\n",
    "\n",
    "    Retorna:\n",
    "        pd.DataFrame: Linhas duplicadas (excluindo a primeira ocorrência).\n",
    "    \"\"\"\n",
    "    duplicadas = df[df.duplicated(keep=False)]\n",
    "    return duplicadas"
   ]
  },
  {
   "cell_type": "code",
   "execution_count": null,
   "id": "4e24be38",
   "metadata": {},
   "outputs": [
    {
     "data": {
      "text/html": [
       "<div>\n",
       "<style scoped>\n",
       "    .dataframe tbody tr th:only-of-type {\n",
       "        vertical-align: middle;\n",
       "    }\n",
       "\n",
       "    .dataframe tbody tr th {\n",
       "        vertical-align: top;\n",
       "    }\n",
       "\n",
       "    .dataframe thead th {\n",
       "        text-align: right;\n",
       "    }\n",
       "</style>\n",
       "<table border=\"1\" class=\"dataframe\">\n",
       "  <thead>\n",
       "    <tr style=\"text-align: right;\">\n",
       "      <th></th>\n",
       "      <th>geolocation_zip_code_prefix</th>\n",
       "      <th>geolocation_lat</th>\n",
       "      <th>geolocation_lng</th>\n",
       "      <th>geolocation_city</th>\n",
       "      <th>geolocation_state</th>\n",
       "    </tr>\n",
       "  </thead>\n",
       "  <tbody>\n",
       "    <tr>\n",
       "      <th>0</th>\n",
       "      <td>1037</td>\n",
       "      <td>-23.5456</td>\n",
       "      <td>-46.6393</td>\n",
       "      <td>sao paulo</td>\n",
       "      <td>SP</td>\n",
       "    </tr>\n",
       "    <tr>\n",
       "      <th>1</th>\n",
       "      <td>1046</td>\n",
       "      <td>-23.5461</td>\n",
       "      <td>-46.6448</td>\n",
       "      <td>sao paulo</td>\n",
       "      <td>SP</td>\n",
       "    </tr>\n",
       "    <tr>\n",
       "      <th>2</th>\n",
       "      <td>1046</td>\n",
       "      <td>-23.5461</td>\n",
       "      <td>-46.6430</td>\n",
       "      <td>sao paulo</td>\n",
       "      <td>SP</td>\n",
       "    </tr>\n",
       "    <tr>\n",
       "      <th>6</th>\n",
       "      <td>1047</td>\n",
       "      <td>-23.5463</td>\n",
       "      <td>-46.6412</td>\n",
       "      <td>sao paulo</td>\n",
       "      <td>SP</td>\n",
       "    </tr>\n",
       "    <tr>\n",
       "      <th>7</th>\n",
       "      <td>1013</td>\n",
       "      <td>-23.5469</td>\n",
       "      <td>-46.6343</td>\n",
       "      <td>sao paulo</td>\n",
       "      <td>SP</td>\n",
       "    </tr>\n",
       "    <tr>\n",
       "      <th>...</th>\n",
       "      <td>...</td>\n",
       "      <td>...</td>\n",
       "      <td>...</td>\n",
       "      <td>...</td>\n",
       "      <td>...</td>\n",
       "    </tr>\n",
       "    <tr>\n",
       "      <th>1000153</th>\n",
       "      <td>99970</td>\n",
       "      <td>-28.3433</td>\n",
       "      <td>-51.8737</td>\n",
       "      <td>ciriaco</td>\n",
       "      <td>RS</td>\n",
       "    </tr>\n",
       "    <tr>\n",
       "      <th>1000154</th>\n",
       "      <td>99950</td>\n",
       "      <td>-28.0705</td>\n",
       "      <td>-52.0113</td>\n",
       "      <td>tapejara</td>\n",
       "      <td>RS</td>\n",
       "    </tr>\n",
       "    <tr>\n",
       "      <th>1000159</th>\n",
       "      <td>99900</td>\n",
       "      <td>-27.8771</td>\n",
       "      <td>-52.2249</td>\n",
       "      <td>getulio vargas</td>\n",
       "      <td>RS</td>\n",
       "    </tr>\n",
       "    <tr>\n",
       "      <th>1000160</th>\n",
       "      <td>99950</td>\n",
       "      <td>-28.0719</td>\n",
       "      <td>-52.0147</td>\n",
       "      <td>tapejara</td>\n",
       "      <td>RS</td>\n",
       "    </tr>\n",
       "    <tr>\n",
       "      <th>1000162</th>\n",
       "      <td>99950</td>\n",
       "      <td>-28.0701</td>\n",
       "      <td>-52.0187</td>\n",
       "      <td>tapejara</td>\n",
       "      <td>RS</td>\n",
       "    </tr>\n",
       "  </tbody>\n",
       "</table>\n",
       "<p>406630 rows × 5 columns</p>\n",
       "</div>"
      ],
      "text/plain": [
       "        geolocation_zip_code_prefix  geolocation_lat  geolocation_lng  \\\n",
       "0                              1037         -23.5456         -46.6393   \n",
       "1                              1046         -23.5461         -46.6448   \n",
       "2                              1046         -23.5461         -46.6430   \n",
       "6                              1047         -23.5463         -46.6412   \n",
       "7                              1013         -23.5469         -46.6343   \n",
       "...                             ...              ...              ...   \n",
       "1000153                       99970         -28.3433         -51.8737   \n",
       "1000154                       99950         -28.0705         -52.0113   \n",
       "1000159                       99900         -27.8771         -52.2249   \n",
       "1000160                       99950         -28.0719         -52.0147   \n",
       "1000162                       99950         -28.0701         -52.0187   \n",
       "\n",
       "        geolocation_city geolocation_state  \n",
       "0              sao paulo                SP  \n",
       "1              sao paulo                SP  \n",
       "2              sao paulo                SP  \n",
       "6              sao paulo                SP  \n",
       "7              sao paulo                SP  \n",
       "...                  ...               ...  \n",
       "1000153          ciriaco                RS  \n",
       "1000154         tapejara                RS  \n",
       "1000159   getulio vargas                RS  \n",
       "1000160         tapejara                RS  \n",
       "1000162         tapejara                RS  \n",
       "\n",
       "[406630 rows x 5 columns]"
      ]
     },
     "execution_count": 8,
     "metadata": {},
     "output_type": "execute_result"
    }
   ],
   "source": [
    "# Aplica a função de verificação de duplicatas no DataFrame 'olist_geolocation'\n",
    "# A função retorna todas as linhas completamente duplicadas (considerando todas as colunas)\n",
    "encontrar_linhas_duplicadas(olist_geolocation)"
   ]
  },
  {
   "cell_type": "code",
   "execution_count": null,
   "id": "bcc85cfc",
   "metadata": {},
   "outputs": [
    {
     "data": {
      "text/html": [
       "<div>\n",
       "<style scoped>\n",
       "    .dataframe tbody tr th:only-of-type {\n",
       "        vertical-align: middle;\n",
       "    }\n",
       "\n",
       "    .dataframe tbody tr th {\n",
       "        vertical-align: top;\n",
       "    }\n",
       "\n",
       "    .dataframe thead th {\n",
       "        text-align: right;\n",
       "    }\n",
       "</style>\n",
       "<table border=\"1\" class=\"dataframe\">\n",
       "  <thead>\n",
       "    <tr style=\"text-align: right;\">\n",
       "      <th></th>\n",
       "      <th>geolocation_zip_code_prefix</th>\n",
       "      <th>geolocation_lat</th>\n",
       "      <th>geolocation_lng</th>\n",
       "      <th>geolocation_city</th>\n",
       "      <th>geolocation_state</th>\n",
       "    </tr>\n",
       "  </thead>\n",
       "  <tbody>\n",
       "    <tr>\n",
       "      <th>999802</th>\n",
       "      <td>99900</td>\n",
       "      <td>-27.8771</td>\n",
       "      <td>-52.2249</td>\n",
       "      <td>getulio vargas</td>\n",
       "      <td>RS</td>\n",
       "    </tr>\n",
       "    <tr>\n",
       "      <th>1000159</th>\n",
       "      <td>99900</td>\n",
       "      <td>-27.8771</td>\n",
       "      <td>-52.2249</td>\n",
       "      <td>getulio vargas</td>\n",
       "      <td>RS</td>\n",
       "    </tr>\n",
       "  </tbody>\n",
       "</table>\n",
       "</div>"
      ],
      "text/plain": [
       "        geolocation_zip_code_prefix  geolocation_lat  geolocation_lng  \\\n",
       "999802                        99900         -27.8771         -52.2249   \n",
       "1000159                       99900         -27.8771         -52.2249   \n",
       "\n",
       "        geolocation_city geolocation_state  \n",
       "999802    getulio vargas                RS  \n",
       "1000159   getulio vargas                RS  "
      ]
     },
     "metadata": {},
     "output_type": "display_data"
    }
   ],
   "source": [
    "# Verificando se a função de identificação de duplicatas está correta\n",
    "# Criação de um filtro com múltiplas condições para localizar registros específicos no DataFrame\n",
    "\n",
    "filtro = (\n",
    "    (olist_geolocation['geolocation_zip_code_prefix'] == '99900') &\n",
    "    (olist_geolocation['geolocation_lat'] == -27.8771) &\n",
    "    (olist_geolocation['geolocation_lng'] == -52.2249) &\n",
    "    (olist_geolocation['geolocation_city'] == 'getulio vargas') &\n",
    "    (olist_geolocation['geolocation_state'] == 'RS')\n",
    ")\n",
    "\n",
    "# Aplicando o filtro para extrair todas as linhas que correspondem exatamente aos critérios definidos\n",
    "dados_filtrados = olist_geolocation[filtro]\n",
    "\n",
    "# Exibindo o resultado\n",
    "display(dados_filtrados)"
   ]
  },
  {
   "cell_type": "markdown",
   "id": "fb029968",
   "metadata": {},
   "source": [
    "✅ A função `encontrar_linhas_duplicadas()` está funcionando corretamente.  \n",
    "As linhas filtradas manualmente coincidem com as duplicatas identificadas automaticamente no DataFrame `olist_geolocation`."
   ]
  },
  {
   "cell_type": "markdown",
   "id": "af2d6866",
   "metadata": {},
   "source": [
    "### <a id='toc3_1_2_'></a>[Coluna \"geolocation_zip_code_prefix\"](#toc0_)\n"
   ]
  },
  {
   "cell_type": "code",
   "execution_count": null,
   "id": "948122c5",
   "metadata": {},
   "outputs": [
    {
     "data": {
      "text/plain": [
       "('1001', '99990')"
      ]
     },
     "execution_count": 10,
     "metadata": {},
     "output_type": "execute_result"
    }
   ],
   "source": [
    "# Verificando o intervalo de valores presentes na coluna de CEPs ('geolocation_zip_code_prefix')\n",
    "# Essa análise ajuda a entender o padrão e a faixa de valores cadastrados no dataset\n",
    "olist_geolocation[\"geolocation_zip_code_prefix\"].min(), olist_geolocation[\"geolocation_zip_code_prefix\"].max()"
   ]
  },
  {
   "cell_type": "markdown",
   "id": "18c884f1",
   "metadata": {},
   "source": [
    "**Verificação de integridade na coluna.**\n",
    "\n",
    "- A coluna foi classificada como tipo 'object' pelo Pandas, indicando que pode conter caracteres não numéricos.\n",
    "- Isso pode representar erro, já que um prefixo de código postal deveria conter apenas dígitos.\n",
    "- Utiliza-se expressão regular para identificar valores que contenham qualquer caractere que não seja número.\n"
   ]
  },
  {
   "cell_type": "code",
   "execution_count": null,
   "id": "9bfa1c4c",
   "metadata": {},
   "outputs": [
    {
     "data": {
      "text/plain": [
       "geolocation_zip_code_prefix\n",
       "False    1000163\n",
       "Name: count, dtype: int64"
      ]
     },
     "execution_count": 11,
     "metadata": {},
     "output_type": "execute_result"
    }
   ],
   "source": [
    "# Define uma expressão regular para identificar qualquer caractere que não seja numérico\n",
    "padrao = r\"[^0-9]\"\n",
    "\n",
    "# Aplica a verificação em cada valor da coluna 'geolocation_zip_code_prefix'\n",
    "# Retorna True se o valor contém algum caractere não numérico (indicando erro)\n",
    "# Em seguida, conta quantos valores válidos (False) e inválidos (True) existem\n",
    "olist_geolocation[\"geolocation_zip_code_prefix\"].apply(lambda x: bool(re.search(padrao, str(x)))).value_counts()\n"
   ]
  },
  {
   "cell_type": "markdown",
   "id": "4afa6e8a",
   "metadata": {},
   "source": [
    "### <a id='toc3_1_3_'></a>[Colunas \"geolocation_lat\" e \"geolocation_lng\"](#toc0_)\n"
   ]
  },
  {
   "cell_type": "code",
   "execution_count": null,
   "id": "e3e9aef4",
   "metadata": {},
   "outputs": [
    {
     "data": {
      "text/plain": [
       "(-36.6054, 45.0659)"
      ]
     },
     "execution_count": 12,
     "metadata": {},
     "output_type": "execute_result"
    }
   ],
   "source": [
    "# Verificando os valores mínimo e máximo da coluna 'geolocation_lat'\n",
    "# A latitude deve obrigatoriamente estar no intervalo de -90. a +90. graus\n",
    "# Valores fora desse intervalo indicam erro ou dado corrompido\n",
    "olist_geolocation[\"geolocation_lat\"].min(), olist_geolocation[\"geolocation_lat\"].max()"
   ]
  },
  {
   "cell_type": "code",
   "execution_count": null,
   "id": "0a6ebc83",
   "metadata": {},
   "outputs": [
    {
     "data": {
      "text/plain": [
       "(-101.467, 121.105)"
      ]
     },
     "execution_count": 13,
     "metadata": {},
     "output_type": "execute_result"
    }
   ],
   "source": [
    "# Verificando os valores mínimo e máximo da coluna 'geolocation_lng'\n",
    "# A longitude deve obrigatoriamente estar no intervalo de -180 a +180 graus\n",
    "# Valores fora desse intervalo indicam erro ou coordenada inválida\n",
    "olist_geolocation[\"geolocation_lng\"].min(), olist_geolocation[\"geolocation_lng\"].max()"
   ]
  },
  {
   "cell_type": "markdown",
   "id": "296fbe60",
   "metadata": {},
   "source": [
    "### <a id='toc3_1_4_'></a>[Coluna \"geolocation_city\"](#toc0_)\n"
   ]
  },
  {
   "cell_type": "markdown",
   "id": "d91f3f54",
   "metadata": {},
   "source": [
    "#### 🔧 Funções Criadas para Automatizar a Análise de Colunas de Cidades\n",
    "\n",
    "Para evitar repetição de códigos e facilitar a análise de outras tabelas com colunas de nomes de cidades, foram criadas três funções específicas. Elas automatizam etapas comuns de limpeza e validação, permitindo aplicar os mesmos critérios de forma rápida e consistente:\n",
    "\n",
    "1. **`analisar_variacao_de_valores()`**  \n",
    "   Compara a quantidade de valores únicos **antes e depois da normalização** (remoção de acentos, conversão para minúsculas e remoção de espaços) em uma coluna.  \n",
    "   Útil para identificar variações desnecessárias causadas por inconsistências de digitação ou formatação.\n",
    "\n",
    "2. **`checar_abreviacoes()`**  \n",
    "   Localiza valores com poucos caracteres, que podem indicar **abreviações ou registros incompletos**.  \n",
    "   Por padrão, analisa entradas com até 3 caracteres.\n",
    "\n",
    "3. **`checar_valores_com_numeros()`**  \n",
    "   Detecta valores que contêm **dígitos numéricos**, o que é incomum em nomes de cidades e pode sinalizar erros de entrada ou contaminação da coluna com outros tipos de dados.\n",
    "\n",
    "Essas funções tornam o processo mais eficiente e padronizado, permitindo reaproveitamento fácil em diferentes tabelas do dataset.\n"
   ]
  },
  {
   "cell_type": "code",
   "execution_count": 14,
   "id": "30f30fc9",
   "metadata": {},
   "outputs": [],
   "source": [
    "def analisar_variacao_de_valores(df, nome_coluna):\n",
    "    \"\"\"\n",
    "    Analisa a diferença entre os valores únicos originais e os valores únicos após normalização\n",
    "    (remoção de acentos, conversão para minúsculas e remoção de espaços) em uma coluna específica.\n",
    "\n",
    "    Parâmetros:\n",
    "        df (pd.DataFrame): DataFrame que contém a coluna a ser analisada.\n",
    "        nome_coluna (str): Nome da coluna que será normalizada e analisada.\n",
    "\n",
    "    Retorna:\n",
    "        dict: Dicionário com contagem de valores únicos antes e depois, e o delta.\n",
    "    \"\"\"\n",
    "    \n",
    "    # Função interna para remover acentos\n",
    "    def remover_acentos(texto):\n",
    "        return unicodedata.normalize('NFKD', str(texto)).encode('ASCII', 'ignore').decode('utf-8')\n",
    "\n",
    "    # Coluna original\n",
    "    coluna = df[nome_coluna]\n",
    "\n",
    "    # Criando versão padronizada\n",
    "    coluna_normalizada = (\n",
    "        coluna\n",
    "        .astype(str)\n",
    "        .str.lower()\n",
    "        .str.strip()\n",
    "        .apply(remover_acentos)\n",
    "    )\n",
    "\n",
    "    # Comparando os conjuntos\n",
    "    n_original = coluna.nunique()\n",
    "    n_normalizada = coluna_normalizada.nunique()\n",
    "    delta = n_original - n_normalizada\n",
    "\n",
    "    # Exibe o resultado\n",
    "    print(f\"Análise da coluna: '{nome_coluna}'\")\n",
    "    print(f\"Valores únicos (original): {n_original}\")\n",
    "    print(f\"Valores únicos (normalizados): {n_normalizada}\")\n",
    "    print(f\"Variações possivelmente causadas por acentos, caixa ou espaços: {delta}\")\n",
    "\n",
    "    return {\n",
    "        \"coluna\": nome_coluna,\n",
    "        \"valores_unicos_original\": n_original,\n",
    "        \"valores_unicos_normalizados\": n_normalizada,\n",
    "        \"delta\": delta\n",
    "    }\n"
   ]
  },
  {
   "cell_type": "code",
   "execution_count": 15,
   "id": "3fc2ce96",
   "metadata": {},
   "outputs": [],
   "source": [
    "def checar_abreviacoes(df, nome_coluna, limite_caracteres=3):\n",
    "    \"\"\"\n",
    "    Identifica valores com poucos caracteres (possíveis abreviações) em uma coluna específica.\n",
    "\n",
    "    Parâmetros:\n",
    "        df (pd.DataFrame): DataFrame com os dados.\n",
    "        nome_coluna (str): Nome da coluna a ser analisada.\n",
    "        limite_caracteres (int): Número máximo de caracteres para considerar uma possível abreviação. Padrão é 3.\n",
    "\n",
    "    Retorna:\n",
    "        list: Lista de valores únicos com tamanho menor ou igual ao limite definido.\n",
    "    \"\"\"\n",
    "\n",
    "    # Garante que os dados sejam string e não nulos\n",
    "    coluna = df[nome_coluna].dropna().astype(str)\n",
    "\n",
    "    # Filtra os valores curtos\n",
    "    filtro = coluna[coluna.str.len() <= limite_caracteres]\n",
    "\n",
    "    # Valores únicos\n",
    "    valores_curto = filtro.unique()\n",
    "\n",
    "    # Exibe resultado\n",
    "    print(f\"Valores com {limite_caracteres} ou menos caracteres na coluna '{nome_coluna}':\")\n",
    "    print(valores_curto)\n",
    "\n",
    "    return list(valores_curto)\n"
   ]
  },
  {
   "cell_type": "code",
   "execution_count": 16,
   "id": "b9e9678f",
   "metadata": {},
   "outputs": [],
   "source": [
    "def checar_valores_com_numeros(df, nome_coluna):\n",
    "    \"\"\"\n",
    "    Identifica e exibe valores em uma coluna que contêm dígitos numéricos.\n",
    "\n",
    "    Parâmetros:\n",
    "        df (pd.DataFrame): DataFrame contendo os dados.\n",
    "        nome_coluna (str): Nome da coluna a ser inspecionada.\n",
    "\n",
    "    Retorna:\n",
    "        pd.Series: Série com os valores únicos e suas contagens que contêm números.\n",
    "    \"\"\"\n",
    "    filtro = df[df[nome_coluna].astype(str).str.contains(r'\\d', regex=True)]\n",
    "    print(f\"Valores com números encontrados na coluna '{nome_coluna}':\")\n",
    "    print(filtro[nome_coluna].value_counts())\n",
    "    print(f\"\\nTotal de registros com números: {len(filtro)}\")\n",
    "    return filtro[nome_coluna].value_counts()"
   ]
  },
  {
   "cell_type": "code",
   "execution_count": null,
   "id": "373e3c5d",
   "metadata": {},
   "outputs": [
    {
     "name": "stdout",
     "output_type": "stream",
     "text": [
      "Análise da coluna: 'geolocation_city'\n",
      "Valores únicos (original): 8011\n",
      "Valores únicos (normalizados): 5967\n",
      "Variações possivelmente causadas por acentos, caixa ou espaços: 2044\n"
     ]
    }
   ],
   "source": [
    "# Aplicando a função de análise de variação de valores únicos na coluna 'geolocation_city'\n",
    "# A função compara a quantidade de valores únicos antes e depois da normalização\n",
    "# Isso ajuda a identificar variações causadas por inconsistências como acentos, maiúsculas/minúsculas e espaços\n",
    "analise = analisar_variacao_de_valores(olist_geolocation, \"geolocation_city\")"
   ]
  },
  {
   "cell_type": "code",
   "execution_count": null,
   "id": "d66c8e1d",
   "metadata": {},
   "outputs": [
    {
     "name": "stdout",
     "output_type": "stream",
     "text": [
      "Valores com 3 ou menos caracteres na coluna 'geolocation_city':\n",
      "['sp' 'poa' 'poá' 'itu' 'uru' 'jau' 'jaú' 'rj' 'bh' 'luz' 'uba' 'ubá'\n",
      " 'una' 'ibo' 'exu' 'acu' 'açu' 'ipu' 'ico' 'icó' 'ita' 'itá' 'ipe' 'ipê']\n"
     ]
    }
   ],
   "source": [
    "# Utilizando a função 'checar_abreviacoes' para identificar possíveis abreviações\n",
    "# Analisa valores na coluna 'geolocation_city' com até 3 caracteres, que podem indicar nomes truncados ou erros\n",
    "analise = checar_abreviacoes(olist_geolocation, \"geolocation_city\", 3)"
   ]
  },
  {
   "cell_type": "code",
   "execution_count": null,
   "id": "851951f3",
   "metadata": {},
   "outputs": [
    {
     "name": "stdout",
     "output_type": "stream",
     "text": [
      "Valores com números encontrados na coluna 'geolocation_city':\n",
      "geolocation_city\n",
      "quilometro 14 do mutum             2\n",
      "4º centenario                      2\n",
      "colônia z-3                        2\n",
      "são joão do pau d%26apos%3balho    1\n",
      "riacho fundo 2                     1\n",
      "lambari d%26apos%3boeste           1\n",
      "4o. centenario                     1\n",
      "colonia z-3                        1\n",
      "Name: count, dtype: int64\n",
      "\n",
      "Total de registros com números: 11\n"
     ]
    }
   ],
   "source": [
    "# Aplicando a função 'checar_valores_com_numeros' para detectar valores que contêm dígitos numéricos\n",
    "# Essa análise é importante para identificar entradas inválidas ou inconsistentes na coluna 'geolocation_city'\n",
    "analise = checar_valores_com_numeros(olist_geolocation, \"geolocation_city\")"
   ]
  },
  {
   "cell_type": "markdown",
   "id": "9eb1b70a",
   "metadata": {},
   "source": [
    "### <a id='toc3_1_5_'></a>[Coluna \"geolocation_state\"](#toc0_)\n"
   ]
  },
  {
   "cell_type": "code",
   "execution_count": null,
   "id": "ea30b186",
   "metadata": {},
   "outputs": [
    {
     "data": {
      "text/plain": [
       "array(['SP', 'RN', 'AC', 'RJ', 'ES', 'MG', 'BA', 'SE', 'PE', 'AL', 'PB',\n",
       "       'CE', 'PI', 'MA', 'PA', 'AP', 'AM', 'RR', 'DF', 'GO', 'RO', 'TO',\n",
       "       'MT', 'MS', 'RS', 'PR', 'SC'], dtype=object)"
      ]
     },
     "execution_count": 20,
     "metadata": {},
     "output_type": "execute_result"
    }
   ],
   "source": [
    "# Exibindo os valores únicos presentes na coluna 'geolocation_state'\n",
    "# Isso ajuda a identificar estados distintos e possíveis inconsistências ou entradas inválidas\n",
    "olist_geolocation['geolocation_state'].unique()"
   ]
  },
  {
   "cell_type": "markdown",
   "id": "ac9c8179",
   "metadata": {},
   "source": [
    "## <a id='toc3_2_'></a>[Tabela: olist_customers](#toc0_)\n"
   ]
  },
  {
   "cell_type": "markdown",
   "id": "fc9adcd5",
   "metadata": {},
   "source": [
    "### <a id='toc3_2_1_'></a>[Resumo da Tabela](#toc0_)\n"
   ]
  },
  {
   "cell_type": "code",
   "execution_count": 21,
   "id": "9dc309f4",
   "metadata": {},
   "outputs": [
    {
     "data": {
      "text/html": [
       "<div>\n",
       "<style scoped>\n",
       "    .dataframe tbody tr th:only-of-type {\n",
       "        vertical-align: middle;\n",
       "    }\n",
       "\n",
       "    .dataframe tbody tr th {\n",
       "        vertical-align: top;\n",
       "    }\n",
       "\n",
       "    .dataframe thead th {\n",
       "        text-align: right;\n",
       "    }\n",
       "</style>\n",
       "<table border=\"1\" class=\"dataframe\">\n",
       "  <thead>\n",
       "    <tr style=\"text-align: right;\">\n",
       "      <th></th>\n",
       "      <th>customer_id</th>\n",
       "      <th>customer_unique_id</th>\n",
       "      <th>customer_zip_code_prefix</th>\n",
       "      <th>customer_city</th>\n",
       "      <th>customer_state</th>\n",
       "    </tr>\n",
       "  </thead>\n",
       "  <tbody>\n",
       "    <tr>\n",
       "      <th>0</th>\n",
       "      <td>00012a2ce6f8dcda20d059ce98491703</td>\n",
       "      <td>248ffe10d632bebe4f7267f1f44844c9</td>\n",
       "      <td>6273</td>\n",
       "      <td>osasco</td>\n",
       "      <td>SP</td>\n",
       "    </tr>\n",
       "    <tr>\n",
       "      <th>1</th>\n",
       "      <td>000161a058600d5901f007fab4c27140</td>\n",
       "      <td>b0015e09bb4b6e47c52844fab5fb6638</td>\n",
       "      <td>35550</td>\n",
       "      <td>itapecerica</td>\n",
       "      <td>MG</td>\n",
       "    </tr>\n",
       "    <tr>\n",
       "      <th>2</th>\n",
       "      <td>0001fd6190edaaf884bcaf3d49edf079</td>\n",
       "      <td>94b11d37cd61cb2994a194d11f89682b</td>\n",
       "      <td>29830</td>\n",
       "      <td>nova venecia</td>\n",
       "      <td>ES</td>\n",
       "    </tr>\n",
       "    <tr>\n",
       "      <th>3</th>\n",
       "      <td>0002414f95344307404f0ace7a26f1d5</td>\n",
       "      <td>4893ad4ea28b2c5b3ddf4e82e79db9e6</td>\n",
       "      <td>39664</td>\n",
       "      <td>mendonca</td>\n",
       "      <td>MG</td>\n",
       "    </tr>\n",
       "    <tr>\n",
       "      <th>4</th>\n",
       "      <td>000379cdec625522490c315e70c7a9fb</td>\n",
       "      <td>0b83f73b19c2019e182fd552c048a22c</td>\n",
       "      <td>4841</td>\n",
       "      <td>sao paulo</td>\n",
       "      <td>SP</td>\n",
       "    </tr>\n",
       "  </tbody>\n",
       "</table>\n",
       "</div>"
      ],
      "text/plain": [
       "                        customer_id                customer_unique_id  \\\n",
       "0  00012a2ce6f8dcda20d059ce98491703  248ffe10d632bebe4f7267f1f44844c9   \n",
       "1  000161a058600d5901f007fab4c27140  b0015e09bb4b6e47c52844fab5fb6638   \n",
       "2  0001fd6190edaaf884bcaf3d49edf079  94b11d37cd61cb2994a194d11f89682b   \n",
       "3  0002414f95344307404f0ace7a26f1d5  4893ad4ea28b2c5b3ddf4e82e79db9e6   \n",
       "4  000379cdec625522490c315e70c7a9fb  0b83f73b19c2019e182fd552c048a22c   \n",
       "\n",
       "  customer_zip_code_prefix customer_city customer_state  \n",
       "0                     6273        osasco             SP  \n",
       "1                    35550   itapecerica             MG  \n",
       "2                    29830  nova venecia             ES  \n",
       "3                    39664      mendonca             MG  \n",
       "4                     4841     sao paulo             SP  "
      ]
     },
     "execution_count": 21,
     "metadata": {},
     "output_type": "execute_result"
    }
   ],
   "source": [
    "# Visualização das primeiras linhas para entender estrutura, tipos e possíveis padrões nos dados\n",
    "olist_customers.head()"
   ]
  },
  {
   "cell_type": "code",
   "execution_count": 22,
   "id": "0fe261fe",
   "metadata": {},
   "outputs": [
    {
     "name": "stdout",
     "output_type": "stream",
     "text": [
      "<class 'pandas.core.frame.DataFrame'>\n",
      "RangeIndex: 99441 entries, 0 to 99440\n",
      "Data columns (total 5 columns):\n",
      " #   Column                    Non-Null Count  Dtype \n",
      "---  ------                    --------------  ----- \n",
      " 0   customer_id               99441 non-null  object\n",
      " 1   customer_unique_id        99441 non-null  object\n",
      " 2   customer_zip_code_prefix  99441 non-null  object\n",
      " 3   customer_city             99441 non-null  object\n",
      " 4   customer_state            99441 non-null  object\n",
      "dtypes: object(5)\n",
      "memory usage: 3.8+ MB\n"
     ]
    }
   ],
   "source": [
    "# Análise inicial da tabela: tipos de dados, quantidade de entradas, valores nulos\n",
    "olist_customers.info()"
   ]
  },
  {
   "cell_type": "code",
   "execution_count": 23,
   "id": "b2c071e5",
   "metadata": {},
   "outputs": [
    {
     "data": {
      "text/html": [
       "<div>\n",
       "<style scoped>\n",
       "    .dataframe tbody tr th:only-of-type {\n",
       "        vertical-align: middle;\n",
       "    }\n",
       "\n",
       "    .dataframe tbody tr th {\n",
       "        vertical-align: top;\n",
       "    }\n",
       "\n",
       "    .dataframe thead th {\n",
       "        text-align: right;\n",
       "    }\n",
       "</style>\n",
       "<table border=\"1\" class=\"dataframe\">\n",
       "  <thead>\n",
       "    <tr style=\"text-align: right;\">\n",
       "      <th></th>\n",
       "      <th>customer_id</th>\n",
       "      <th>customer_unique_id</th>\n",
       "      <th>customer_zip_code_prefix</th>\n",
       "      <th>customer_city</th>\n",
       "      <th>customer_state</th>\n",
       "    </tr>\n",
       "  </thead>\n",
       "  <tbody>\n",
       "    <tr>\n",
       "      <th>count</th>\n",
       "      <td>99441</td>\n",
       "      <td>99441</td>\n",
       "      <td>99441</td>\n",
       "      <td>99441</td>\n",
       "      <td>99441</td>\n",
       "    </tr>\n",
       "    <tr>\n",
       "      <th>unique</th>\n",
       "      <td>99441</td>\n",
       "      <td>96096</td>\n",
       "      <td>14994</td>\n",
       "      <td>4119</td>\n",
       "      <td>27</td>\n",
       "    </tr>\n",
       "    <tr>\n",
       "      <th>top</th>\n",
       "      <td>00012a2ce6f8dcda20d059ce98491703</td>\n",
       "      <td>8d50f5eadf50201ccdcedfb9e2ac8455</td>\n",
       "      <td>22790</td>\n",
       "      <td>sao paulo</td>\n",
       "      <td>SP</td>\n",
       "    </tr>\n",
       "    <tr>\n",
       "      <th>freq</th>\n",
       "      <td>1</td>\n",
       "      <td>17</td>\n",
       "      <td>142</td>\n",
       "      <td>15540</td>\n",
       "      <td>41746</td>\n",
       "    </tr>\n",
       "  </tbody>\n",
       "</table>\n",
       "</div>"
      ],
      "text/plain": [
       "                             customer_id                customer_unique_id  \\\n",
       "count                              99441                             99441   \n",
       "unique                             99441                             96096   \n",
       "top     00012a2ce6f8dcda20d059ce98491703  8d50f5eadf50201ccdcedfb9e2ac8455   \n",
       "freq                                   1                                17   \n",
       "\n",
       "       customer_zip_code_prefix customer_city customer_state  \n",
       "count                     99441         99441          99441  \n",
       "unique                    14994          4119             27  \n",
       "top                       22790     sao paulo             SP  \n",
       "freq                        142         15540          41746  "
      ]
     },
     "execution_count": 23,
     "metadata": {},
     "output_type": "execute_result"
    }
   ],
   "source": [
    "# Resumo estatístico da tabela\n",
    "olist_customers.describe(include=\"all\") # Acrescentando o Parâmetro (include=\"all\") para inclusão dos dados categoricos no resumo"
   ]
  },
  {
   "cell_type": "markdown",
   "id": "7ec6ef69",
   "metadata": {},
   "source": [
    "### <a id='toc3_2_2_'></a>[Coluna \"customer_zip_code_prefix\"](#toc0_)\n"
   ]
  },
  {
   "cell_type": "code",
   "execution_count": null,
   "id": "32b0da06",
   "metadata": {},
   "outputs": [
    {
     "data": {
      "text/plain": [
       "('1003', '99990')"
      ]
     },
     "execution_count": 24,
     "metadata": {},
     "output_type": "execute_result"
    }
   ],
   "source": [
    "# Verificando o intervalo de valores presentes na coluna de CEPs dos clientes ('customer_zip_code_prefix')\n",
    "# Essa análise ajuda a entender o padrão e a faixa de valores cadastrados no dataset\n",
    "olist_customers['customer_zip_code_prefix'].min(), olist_customers['customer_zip_code_prefix'].max()"
   ]
  },
  {
   "cell_type": "code",
   "execution_count": null,
   "id": "85eb527d",
   "metadata": {},
   "outputs": [
    {
     "data": {
      "text/plain": [
       "\"A variável 'padrao' foi criada na Analise da tabela 'olist_geolocation' \""
      ]
     },
     "execution_count": 25,
     "metadata": {},
     "output_type": "execute_result"
    }
   ],
   "source": [
    "# Aplica a verificação na coluna 'customer_zip_code_prefix' do DataFrame 'olist_customers'\n",
    "# Retorna False para valores que contêm apenas caracteres numéricos\n",
    "# Retorna True para valores que possuem qualquer caractere não numérico (indicando possíveis erros)\n",
    "# Conta e exibe a quantidade de ocorrências de cada caso\n",
    "\n",
    "olist_customers[\"customer_zip_code_prefix\"].apply(lambda x: bool(re.search(padrao, str(x)))).value_counts()\n",
    "\n",
    "# Obs: A variável 'padrao' (expressão regular para caracteres não numéricos) foi definida anteriormente na análise da tabela 'olist_geolocation'"
   ]
  },
  {
   "cell_type": "markdown",
   "id": "bef91cbd",
   "metadata": {},
   "source": [
    "### <a id='toc3_2_3_'></a>[Coluna \"customer_city\"](#toc0_)\n"
   ]
  },
  {
   "cell_type": "code",
   "execution_count": null,
   "id": "68e7d315",
   "metadata": {},
   "outputs": [
    {
     "name": "stdout",
     "output_type": "stream",
     "text": [
      "Análise da coluna: 'customer_city'\n",
      "Valores únicos (original): 4119\n",
      "Valores únicos (normalizados): 4119\n",
      "Variações possivelmente causadas por acentos, caixa ou espaços: 0\n"
     ]
    }
   ],
   "source": [
    "\"\"\"\n",
    "📌 Análise de possíveis inconsistências nos valores da coluna 'customer_city'\n",
    "\n",
    "Utiliza a função 'analisar_variacao_de_valores', originalmente desenvolvida \n",
    "durante a análise da tabela 'olist_geolocation'.\n",
    "\n",
    "Objetivo:\n",
    "- Detectar variações nos valores únicos causadas por acentos, letras maiúsculas/minúsculas ou espaços extras.\n",
    "\n",
    "Retorno:\n",
    "- Quantidade de valores únicos originais\n",
    "- Quantidade de valores únicos normalizados\n",
    "- Diferença entre eles (possíveis erros ou duplicidades ocultas)\n",
    "\"\"\"\n",
    "\n",
    "analisar_variacao_de_valores(olist_customers, \"customer_city\")\n"
   ]
  },
  {
   "cell_type": "code",
   "execution_count": null,
   "id": "0bb33cc9",
   "metadata": {},
   "outputs": [
    {
     "name": "stdout",
     "output_type": "stream",
     "text": [
      "Valores com 3 ou menos caracteres na coluna 'customer_city':\n",
      "['uba' 'ico' 'itu' 'poa' 'ipu' 'jau' 'acu' 'ipe' 'una' 'ita' 'luz']\n"
     ]
    }
   ],
   "source": [
    "\"\"\"\n",
    "🔍 Verificação de possíveis abreviações nos nomes de cidades\n",
    "\n",
    "Objetivo:\n",
    "Identificar valores na coluna 'customer_city' com 3 ou menos caracteres, que podem representar \n",
    "abreviações, siglas, erros de digitação ou registros incompletos.\n",
    "\n",
    "Função utilizada:\n",
    "- checar_abreviacoes(df, nome_coluna, limite_caracteres)\n",
    "\n",
    "Parâmetros:\n",
    "- DataFrame: olist_customers\n",
    "- Coluna analisada: 'customer_city'\n",
    "- Limite de caracteres: 3\n",
    "\n",
    "Retorno:\n",
    "- Lista de valores únicos com 3 ou menos caracteres\n",
    "\"\"\"\n",
    "\n",
    "checar_abreviacoes(olist_customers, \"customer_city\", 3)"
   ]
  },
  {
   "cell_type": "code",
   "execution_count": null,
   "id": "3f11057a",
   "metadata": {},
   "outputs": [
    {
     "name": "stdout",
     "output_type": "stream",
     "text": [
      "Valores com números encontrados na coluna 'customer_city':\n",
      "customer_city\n",
      "quilometro 14 do mutum    1\n",
      "Name: count, dtype: int64\n",
      "\n",
      "Total de registros com números: 1\n"
     ]
    },
    {
     "name": "stderr",
     "output_type": "stream",
     "text": [
      "<>:1: SyntaxWarning: invalid escape sequence '\\d'\n",
      "<>:1: SyntaxWarning: invalid escape sequence '\\d'\n",
      "C:\\Users\\Paulo\\AppData\\Local\\Temp\\ipykernel_22692\\4142422496.py:1: SyntaxWarning: invalid escape sequence '\\d'\n",
      "  \"\"\"\n"
     ]
    }
   ],
   "source": [
    "\"\"\"\n",
    "🔍 Verificação de possíveis valores incorretos contendo números\n",
    "\n",
    "Objetivo:\n",
    "Detectar registros na coluna 'customer_city' que contenham dígitos numéricos (0–9),\n",
    "o que pode indicar erros de entrada, códigos inseridos no lugar de nomes de cidade\n",
    "ou valores não padronizados.\n",
    "\n",
    "Função utilizada:\n",
    "- checar_valores_com_numeros(df, nome_coluna)\n",
    "\n",
    "Parâmetros:\n",
    "- DataFrame: olist_customers\n",
    "- Coluna analisada: 'customer_city'\n",
    "\n",
    "Retorno:\n",
    "- Série com contagem dos valores contendo números\n",
    "- Total de registros que apresentam esse padrão\n",
    "\n",
    "Observação:\n",
    "- A função utiliza expressão regular r'\\d' para identificar qualquer dígito numérico.\n",
    "\"\"\"\n",
    "\n",
    "checar_valores_com_numeros(olist_customers, \"customer_city\")"
   ]
  },
  {
   "cell_type": "markdown",
   "id": "c075af79",
   "metadata": {},
   "source": [
    "### <a id='toc3_2_4_'></a>[Coluna \"customer_state\"](#toc0_)\n"
   ]
  },
  {
   "cell_type": "code",
   "execution_count": null,
   "id": "105802a7",
   "metadata": {},
   "outputs": [
    {
     "data": {
      "text/plain": [
       "array(['SP', 'MG', 'ES', 'RJ', 'RS', 'BA', 'CE', 'PR', 'MS', 'PB', 'SC',\n",
       "       'MT', 'PA', 'RN', 'PI', 'DF', 'GO', 'PE', 'RO', 'MA', 'SE', 'AM',\n",
       "       'AL', 'TO', 'AC', 'AP', 'RR'], dtype=object)"
      ]
     },
     "execution_count": 29,
     "metadata": {},
     "output_type": "execute_result"
    }
   ],
   "source": [
    "# Exibindo os valores únicos presentes na coluna 'customer_state' do DataFrame 'olist_customers'\n",
    "# Essa checagem permite identificar todos os estados cadastrados e possíveis inconsistências ou valores inválidos\n",
    "olist_customers['customer_state'].unique()"
   ]
  },
  {
   "cell_type": "markdown",
   "id": "1c2fd280",
   "metadata": {},
   "source": [
    "## <a id='toc3_3_'></a>[Tabela: olist_sellers](#toc0_)\n"
   ]
  },
  {
   "cell_type": "markdown",
   "id": "c5bbef0e",
   "metadata": {},
   "source": [
    "### <a id='toc3_3_1_'></a>[Resumo da Tabela](#toc0_)\n"
   ]
  },
  {
   "cell_type": "code",
   "execution_count": 30,
   "id": "5bc09307",
   "metadata": {},
   "outputs": [
    {
     "data": {
      "text/html": [
       "<div>\n",
       "<style scoped>\n",
       "    .dataframe tbody tr th:only-of-type {\n",
       "        vertical-align: middle;\n",
       "    }\n",
       "\n",
       "    .dataframe tbody tr th {\n",
       "        vertical-align: top;\n",
       "    }\n",
       "\n",
       "    .dataframe thead th {\n",
       "        text-align: right;\n",
       "    }\n",
       "</style>\n",
       "<table border=\"1\" class=\"dataframe\">\n",
       "  <thead>\n",
       "    <tr style=\"text-align: right;\">\n",
       "      <th></th>\n",
       "      <th>seller_id</th>\n",
       "      <th>seller_zip_code_prefix</th>\n",
       "      <th>seller_city</th>\n",
       "      <th>seller_state</th>\n",
       "    </tr>\n",
       "  </thead>\n",
       "  <tbody>\n",
       "    <tr>\n",
       "      <th>0</th>\n",
       "      <td>0015a82c2db000af6aaaf3ae2ecb0532</td>\n",
       "      <td>9080</td>\n",
       "      <td>santo andre</td>\n",
       "      <td>SP</td>\n",
       "    </tr>\n",
       "    <tr>\n",
       "      <th>1</th>\n",
       "      <td>001cca7ae9ae17fb1caed9dfb1094831</td>\n",
       "      <td>29156</td>\n",
       "      <td>cariacica</td>\n",
       "      <td>ES</td>\n",
       "    </tr>\n",
       "    <tr>\n",
       "      <th>2</th>\n",
       "      <td>001e6ad469a905060d959994f1b41e4f</td>\n",
       "      <td>24754</td>\n",
       "      <td>sao goncalo</td>\n",
       "      <td>RJ</td>\n",
       "    </tr>\n",
       "    <tr>\n",
       "      <th>3</th>\n",
       "      <td>002100f778ceb8431b7a1020ff7ab48f</td>\n",
       "      <td>14405</td>\n",
       "      <td>franca</td>\n",
       "      <td>SP</td>\n",
       "    </tr>\n",
       "    <tr>\n",
       "      <th>4</th>\n",
       "      <td>003554e2dce176b5555353e4f3555ac8</td>\n",
       "      <td>74565</td>\n",
       "      <td>goiania</td>\n",
       "      <td>GO</td>\n",
       "    </tr>\n",
       "  </tbody>\n",
       "</table>\n",
       "</div>"
      ],
      "text/plain": [
       "                          seller_id seller_zip_code_prefix  seller_city  \\\n",
       "0  0015a82c2db000af6aaaf3ae2ecb0532                   9080  santo andre   \n",
       "1  001cca7ae9ae17fb1caed9dfb1094831                  29156    cariacica   \n",
       "2  001e6ad469a905060d959994f1b41e4f                  24754  sao goncalo   \n",
       "3  002100f778ceb8431b7a1020ff7ab48f                  14405       franca   \n",
       "4  003554e2dce176b5555353e4f3555ac8                  74565      goiania   \n",
       "\n",
       "  seller_state  \n",
       "0           SP  \n",
       "1           ES  \n",
       "2           RJ  \n",
       "3           SP  \n",
       "4           GO  "
      ]
     },
     "execution_count": 30,
     "metadata": {},
     "output_type": "execute_result"
    }
   ],
   "source": [
    "# Visualização das primeiras linhas para entender estrutura, tipos e possíveis padrões nos dados\n",
    "olist_sellers.head()"
   ]
  },
  {
   "cell_type": "code",
   "execution_count": 31,
   "id": "3cb64806",
   "metadata": {},
   "outputs": [
    {
     "name": "stdout",
     "output_type": "stream",
     "text": [
      "<class 'pandas.core.frame.DataFrame'>\n",
      "RangeIndex: 3095 entries, 0 to 3094\n",
      "Data columns (total 4 columns):\n",
      " #   Column                  Non-Null Count  Dtype \n",
      "---  ------                  --------------  ----- \n",
      " 0   seller_id               3095 non-null   object\n",
      " 1   seller_zip_code_prefix  3095 non-null   object\n",
      " 2   seller_city             3095 non-null   object\n",
      " 3   seller_state            3095 non-null   object\n",
      "dtypes: object(4)\n",
      "memory usage: 96.8+ KB\n"
     ]
    }
   ],
   "source": [
    "# Análise inicial da tabela: tipos de dados, quantidade de entradas, valores nulos\n",
    "olist_sellers.info()"
   ]
  },
  {
   "cell_type": "code",
   "execution_count": 32,
   "id": "b3d3128b",
   "metadata": {},
   "outputs": [
    {
     "data": {
      "text/html": [
       "<div>\n",
       "<style scoped>\n",
       "    .dataframe tbody tr th:only-of-type {\n",
       "        vertical-align: middle;\n",
       "    }\n",
       "\n",
       "    .dataframe tbody tr th {\n",
       "        vertical-align: top;\n",
       "    }\n",
       "\n",
       "    .dataframe thead th {\n",
       "        text-align: right;\n",
       "    }\n",
       "</style>\n",
       "<table border=\"1\" class=\"dataframe\">\n",
       "  <thead>\n",
       "    <tr style=\"text-align: right;\">\n",
       "      <th></th>\n",
       "      <th>seller_id</th>\n",
       "      <th>seller_zip_code_prefix</th>\n",
       "      <th>seller_city</th>\n",
       "      <th>seller_state</th>\n",
       "    </tr>\n",
       "  </thead>\n",
       "  <tbody>\n",
       "    <tr>\n",
       "      <th>count</th>\n",
       "      <td>3095</td>\n",
       "      <td>3095</td>\n",
       "      <td>3095</td>\n",
       "      <td>3095</td>\n",
       "    </tr>\n",
       "    <tr>\n",
       "      <th>unique</th>\n",
       "      <td>3095</td>\n",
       "      <td>2246</td>\n",
       "      <td>611</td>\n",
       "      <td>23</td>\n",
       "    </tr>\n",
       "    <tr>\n",
       "      <th>top</th>\n",
       "      <td>0015a82c2db000af6aaaf3ae2ecb0532</td>\n",
       "      <td>14940</td>\n",
       "      <td>sao paulo</td>\n",
       "      <td>SP</td>\n",
       "    </tr>\n",
       "    <tr>\n",
       "      <th>freq</th>\n",
       "      <td>1</td>\n",
       "      <td>49</td>\n",
       "      <td>694</td>\n",
       "      <td>1849</td>\n",
       "    </tr>\n",
       "  </tbody>\n",
       "</table>\n",
       "</div>"
      ],
      "text/plain": [
       "                               seller_id seller_zip_code_prefix seller_city  \\\n",
       "count                               3095                   3095        3095   \n",
       "unique                              3095                   2246         611   \n",
       "top     0015a82c2db000af6aaaf3ae2ecb0532                  14940   sao paulo   \n",
       "freq                                   1                     49         694   \n",
       "\n",
       "       seller_state  \n",
       "count          3095  \n",
       "unique           23  \n",
       "top              SP  \n",
       "freq           1849  "
      ]
     },
     "execution_count": 32,
     "metadata": {},
     "output_type": "execute_result"
    }
   ],
   "source": [
    "# Resumo estatístico da tabela\n",
    "olist_sellers.describe(include=\"all\") # Acrescentando o Parâmetro (include=\"all\") para inclusão dos dados categoricos no resumo"
   ]
  },
  {
   "cell_type": "markdown",
   "id": "2b29a457",
   "metadata": {},
   "source": [
    "**Não tem \"seller_id\" duplicado**\n"
   ]
  },
  {
   "cell_type": "markdown",
   "id": "78242987",
   "metadata": {},
   "source": [
    "### <a id='toc3_3_2_'></a>[Coluna \"seller_zip_code_prefix\"](#toc0_)\n"
   ]
  },
  {
   "cell_type": "code",
   "execution_count": null,
   "id": "6daf8a0d",
   "metadata": {},
   "outputs": [
    {
     "data": {
      "text/plain": [
       "('1001', '9981')"
      ]
     },
     "execution_count": 33,
     "metadata": {},
     "output_type": "execute_result"
    }
   ],
   "source": [
    "# Verificando o intervalo de valores presentes na coluna de CEPs dos vendedores ('seller_zip_code_prefix')\n",
    "# Essa análise ajuda a entender o padrão e a faixa de valores cadastrados no dataset\n",
    "olist_sellers['seller_zip_code_prefix'].min(), olist_sellers['seller_zip_code_prefix'].max()"
   ]
  },
  {
   "cell_type": "code",
   "execution_count": null,
   "id": "89e2544e",
   "metadata": {},
   "outputs": [
    {
     "data": {
      "text/plain": [
       "\"A variável 'padrao' foi criada na Analise da tabela 'olist_geolocation' \""
      ]
     },
     "execution_count": 34,
     "metadata": {},
     "output_type": "execute_result"
    }
   ],
   "source": [
    "# Aplica a verificação na coluna 'seller_zip_code_prefix' do DataFrame 'olist_sellers'\n",
    "# Retorna False para valores que contêm apenas caracteres numéricos\n",
    "# Retorna True para valores que possuem qualquer caractere não numérico (indicando possíveis erros)\n",
    "# Conta e exibe a quantidade de ocorrências de cada caso\n",
    "\n",
    "olist_sellers[\"seller_zip_code_prefix\"].apply(lambda x: bool(re.search(padrao, str(x)))).value_counts()"
   ]
  },
  {
   "cell_type": "markdown",
   "id": "fd1b7ef3",
   "metadata": {},
   "source": [
    "### <a id='toc3_3_3_'></a>[Coluna \"seller_city\"](#toc0_)\n"
   ]
  },
  {
   "cell_type": "code",
   "execution_count": null,
   "id": "2e7ba09b",
   "metadata": {},
   "outputs": [
    {
     "name": "stdout",
     "output_type": "stream",
     "text": [
      "Análise da coluna: 'seller_city'\n",
      "Valores únicos (original): 611\n",
      "Valores únicos (normalizados): 609\n",
      "Variações possivelmente causadas por acentos, caixa ou espaços: 2\n"
     ]
    }
   ],
   "source": [
    "\"\"\"\n",
    "📌 Análise de possíveis inconsistências nos valores da coluna 'seller_city'\n",
    "\n",
    "Utiliza a função 'analisar_variacao_de_valores', originalmente desenvolvida \n",
    "durante a análise da tabela 'olist_geolocation'.\n",
    "\n",
    "Objetivo:\n",
    "- Detectar variações nos valores únicos causadas por acentos, letras maiúsculas/minúsculas ou espaços extras.\n",
    "\n",
    "Retorno:\n",
    "- Quantidade de valores únicos originais\n",
    "- Quantidade de valores únicos normalizados\n",
    "- Diferença entre eles (possíveis erros ou duplicidades ocultas)\n",
    "\"\"\"\n",
    "\n",
    "analisar_variacao_de_valores(olist_sellers, \"seller_city\")"
   ]
  },
  {
   "cell_type": "code",
   "execution_count": null,
   "id": "7bc2c1de",
   "metadata": {},
   "outputs": [
    {
     "name": "stdout",
     "output_type": "stream",
     "text": [
      "Valores com 3 ou menos caracteres na coluna 'seller_city':\n",
      "['uba' 'sp' 'ipe' 'itu' 'poa' 'jau' 'sbc']\n"
     ]
    }
   ],
   "source": [
    "\"\"\"\n",
    "🔍 Verificação de possíveis abreviações nos nomes de cidades\n",
    "\n",
    "Objetivo:\n",
    "Identificar valores na coluna 'seller_city' com 3 ou menos caracteres, que podem representar \n",
    "abreviações, siglas, erros de digitação ou registros incompletos.\n",
    "\n",
    "Função utilizada:\n",
    "- checar_abreviacoes(df, nome_coluna, limite_caracteres)\n",
    "\n",
    "Parâmetros:\n",
    "- DataFrame: olist_sellers\n",
    "- Coluna analisada: 'seller_city'\n",
    "- Limite de caracteres: 3\n",
    "\n",
    "Retorno:\n",
    "- Lista de valores únicos com 3 ou menos caracteres\n",
    "\"\"\"\n",
    "\n",
    "checar_abreviacoes(olist_sellers, \"seller_city\", 3)"
   ]
  },
  {
   "cell_type": "code",
   "execution_count": null,
   "id": "6aef2510",
   "metadata": {},
   "outputs": [
    {
     "name": "stdout",
     "output_type": "stream",
     "text": [
      "Valores com números encontrados na coluna 'seller_city':\n",
      "seller_city\n",
      "04482255    1\n",
      "Name: count, dtype: int64\n",
      "\n",
      "Total de registros com números: 1\n"
     ]
    },
    {
     "name": "stderr",
     "output_type": "stream",
     "text": [
      "<>:1: SyntaxWarning: invalid escape sequence '\\d'\n",
      "<>:1: SyntaxWarning: invalid escape sequence '\\d'\n",
      "C:\\Users\\Paulo\\AppData\\Local\\Temp\\ipykernel_22692\\850471037.py:1: SyntaxWarning: invalid escape sequence '\\d'\n",
      "  \"\"\"\n"
     ]
    }
   ],
   "source": [
    "\"\"\"\n",
    "🔍 Verificação de possíveis valores incorretos contendo números\n",
    "\n",
    "Objetivo:\n",
    "Detectar registros na coluna 'seller_city' que contenham dígitos numéricos (0–9),\n",
    "o que pode indicar erros de entrada, códigos inseridos no lugar de nomes de cidade\n",
    "ou valores não padronizados.\n",
    "\n",
    "Função utilizada:\n",
    "- checar_valores_com_numeros(df, nome_coluna)\n",
    "\n",
    "Parâmetros:\n",
    "- DataFrame: olist_sellers\n",
    "- Coluna analisada: 'seller_city'\n",
    "\n",
    "Retorno:\n",
    "- Série com contagem dos valores contendo números\n",
    "- Total de registros que apresentam esse padrão\n",
    "\n",
    "Observação:\n",
    "- A função utiliza expressão regular r'\\d' para identificar qualquer dígito numérico.\n",
    "\"\"\"\n",
    "\n",
    "checar_valores_com_numeros(olist_sellers, \"seller_city\")"
   ]
  },
  {
   "cell_type": "code",
   "execution_count": null,
   "id": "6be1eb1c",
   "metadata": {},
   "outputs": [
    {
     "data": {
      "text/html": [
       "<div>\n",
       "<style scoped>\n",
       "    .dataframe tbody tr th:only-of-type {\n",
       "        vertical-align: middle;\n",
       "    }\n",
       "\n",
       "    .dataframe tbody tr th {\n",
       "        vertical-align: top;\n",
       "    }\n",
       "\n",
       "    .dataframe thead th {\n",
       "        text-align: right;\n",
       "    }\n",
       "</style>\n",
       "<table border=\"1\" class=\"dataframe\">\n",
       "  <thead>\n",
       "    <tr style=\"text-align: right;\">\n",
       "      <th></th>\n",
       "      <th>seller_id</th>\n",
       "      <th>seller_zip_code_prefix</th>\n",
       "      <th>seller_city</th>\n",
       "      <th>seller_state</th>\n",
       "    </tr>\n",
       "  </thead>\n",
       "  <tbody>\n",
       "    <tr>\n",
       "      <th>2512</th>\n",
       "      <td>ceb7b4fb9401cd378de7886317ad1b47</td>\n",
       "      <td>22790</td>\n",
       "      <td>04482255</td>\n",
       "      <td>RJ</td>\n",
       "    </tr>\n",
       "  </tbody>\n",
       "</table>\n",
       "</div>"
      ],
      "text/plain": [
       "                             seller_id seller_zip_code_prefix seller_city  \\\n",
       "2512  ceb7b4fb9401cd378de7886317ad1b47                  22790    04482255   \n",
       "\n",
       "     seller_state  \n",
       "2512           RJ  "
      ]
     },
     "execution_count": 38,
     "metadata": {},
     "output_type": "execute_result"
    }
   ],
   "source": [
    "\"\"\" \n",
    "Detectado valor atípico na coluna 'seller_city': registro contendo '04482255', \n",
    "provavelmente um erro de entrada (valor numérico em campo textual).\n",
    "\"\"\"\n",
    "\n",
    "# Localizando e exibindo o registro com esse valor específico para análise detalhada.\n",
    "olist_sellers.loc[olist_sellers['seller_city'] == '04482255']"
   ]
  },
  {
   "cell_type": "code",
   "execution_count": null,
   "id": "6f3c84e2",
   "metadata": {},
   "outputs": [
    {
     "data": {
      "text/html": [
       "<div>\n",
       "<style scoped>\n",
       "    .dataframe tbody tr th:only-of-type {\n",
       "        vertical-align: middle;\n",
       "    }\n",
       "\n",
       "    .dataframe tbody tr th {\n",
       "        vertical-align: top;\n",
       "    }\n",
       "\n",
       "    .dataframe thead th {\n",
       "        text-align: right;\n",
       "    }\n",
       "</style>\n",
       "<table border=\"1\" class=\"dataframe\">\n",
       "  <thead>\n",
       "    <tr style=\"text-align: right;\">\n",
       "      <th></th>\n",
       "      <th>seller_id</th>\n",
       "      <th>seller_zip_code_prefix</th>\n",
       "      <th>seller_city</th>\n",
       "      <th>seller_state</th>\n",
       "    </tr>\n",
       "  </thead>\n",
       "  <tbody>\n",
       "    <tr>\n",
       "      <th>609</th>\n",
       "      <td>33ab10be054370c254ddfcf0a6253422</td>\n",
       "      <td>22790</td>\n",
       "      <td>rio de janeiro</td>\n",
       "      <td>RJ</td>\n",
       "    </tr>\n",
       "    <tr>\n",
       "      <th>1504</th>\n",
       "      <td>7a425d299613df3e613bcf9d2eaf5c49</td>\n",
       "      <td>22790</td>\n",
       "      <td>rio de janeiro</td>\n",
       "      <td>RJ</td>\n",
       "    </tr>\n",
       "    <tr>\n",
       "      <th>1956</th>\n",
       "      <td>a13580f0e8f782b7a543885a0ef99f08</td>\n",
       "      <td>22790</td>\n",
       "      <td>rio de janeiro</td>\n",
       "      <td>RJ</td>\n",
       "    </tr>\n",
       "    <tr>\n",
       "      <th>2512</th>\n",
       "      <td>ceb7b4fb9401cd378de7886317ad1b47</td>\n",
       "      <td>22790</td>\n",
       "      <td>04482255</td>\n",
       "      <td>RJ</td>\n",
       "    </tr>\n",
       "    <tr>\n",
       "      <th>2744</th>\n",
       "      <td>e45edf75f568ed2f93f78d060e246e25</td>\n",
       "      <td>22790</td>\n",
       "      <td>rio de janeiro</td>\n",
       "      <td>RJ</td>\n",
       "    </tr>\n",
       "  </tbody>\n",
       "</table>\n",
       "</div>"
      ],
      "text/plain": [
       "                             seller_id seller_zip_code_prefix     seller_city  \\\n",
       "609   33ab10be054370c254ddfcf0a6253422                  22790  rio de janeiro   \n",
       "1504  7a425d299613df3e613bcf9d2eaf5c49                  22790  rio de janeiro   \n",
       "1956  a13580f0e8f782b7a543885a0ef99f08                  22790  rio de janeiro   \n",
       "2512  ceb7b4fb9401cd378de7886317ad1b47                  22790        04482255   \n",
       "2744  e45edf75f568ed2f93f78d060e246e25                  22790  rio de janeiro   \n",
       "\n",
       "     seller_state  \n",
       "609            RJ  \n",
       "1504           RJ  \n",
       "1956           RJ  \n",
       "2512           RJ  \n",
       "2744           RJ  "
      ]
     },
     "execution_count": 39,
     "metadata": {},
     "output_type": "execute_result"
    }
   ],
   "source": [
    "# Buscando o registro na tabela 'olist_sellers' cuja coluna 'seller_zip_code_prefix' corresponde ao CEP '22790'\n",
    "# Objetivo: identificar a cidade associada a esse código postal para validação ou análise\n",
    "olist_sellers.loc[olist_sellers['seller_zip_code_prefix'] == '22790']"
   ]
  },
  {
   "cell_type": "markdown",
   "id": "a22173e7",
   "metadata": {},
   "source": [
    "### <a id='toc3_3_4_'></a>[Coluna \"seller_state\"](#toc0_)\n"
   ]
  },
  {
   "cell_type": "code",
   "execution_count": null,
   "id": "a1068931",
   "metadata": {},
   "outputs": [
    {
     "data": {
      "text/plain": [
       "array(['SP', 'ES', 'RJ', 'GO', 'MG', 'PR', 'RN', 'SC', 'RS', 'MA', 'PB',\n",
       "       'BA', 'DF', 'PE', 'MT', 'CE', 'AM', 'RO', 'PI', 'SE', 'AC', 'MS',\n",
       "       'PA'], dtype=object)"
      ]
     },
     "execution_count": 40,
     "metadata": {},
     "output_type": "execute_result"
    }
   ],
   "source": [
    "# Exibindo todos os valores únicos da coluna 'seller_state' do DataFrame 'olist_sellers'\n",
    "# Essa análise permite identificar os estados distintos presentes e possíveis inconsistências nos dados\n",
    "olist_sellers['seller_state'].unique()"
   ]
  },
  {
   "cell_type": "markdown",
   "id": "e36e1fe1",
   "metadata": {},
   "source": [
    "## <a id='toc3_4_'></a>[Tabela: olist_products](#toc0_)\n"
   ]
  },
  {
   "cell_type": "markdown",
   "id": "526b23ce",
   "metadata": {},
   "source": [
    "### <a id='toc3_4_1_'></a>[Resumo da Tabela](#toc0_)\n"
   ]
  },
  {
   "cell_type": "code",
   "execution_count": 41,
   "id": "3c0f517f",
   "metadata": {},
   "outputs": [
    {
     "data": {
      "text/html": [
       "<div>\n",
       "<style scoped>\n",
       "    .dataframe tbody tr th:only-of-type {\n",
       "        vertical-align: middle;\n",
       "    }\n",
       "\n",
       "    .dataframe tbody tr th {\n",
       "        vertical-align: top;\n",
       "    }\n",
       "\n",
       "    .dataframe thead th {\n",
       "        text-align: right;\n",
       "    }\n",
       "</style>\n",
       "<table border=\"1\" class=\"dataframe\">\n",
       "  <thead>\n",
       "    <tr style=\"text-align: right;\">\n",
       "      <th></th>\n",
       "      <th>product_id</th>\n",
       "      <th>product_category_name</th>\n",
       "      <th>product_name_lenght</th>\n",
       "      <th>product_description_lenght</th>\n",
       "      <th>product_photos_qty</th>\n",
       "      <th>product_weight_g</th>\n",
       "      <th>product_length_cm</th>\n",
       "      <th>product_height_cm</th>\n",
       "      <th>product_width_cm</th>\n",
       "    </tr>\n",
       "  </thead>\n",
       "  <tbody>\n",
       "    <tr>\n",
       "      <th>0</th>\n",
       "      <td>00066f42aeeb9f3007548bb9d3f33c38</td>\n",
       "      <td>perfumaria</td>\n",
       "      <td>53.0</td>\n",
       "      <td>596.0</td>\n",
       "      <td>6.0</td>\n",
       "      <td>300.0</td>\n",
       "      <td>20.0</td>\n",
       "      <td>16.0</td>\n",
       "      <td>16.0</td>\n",
       "    </tr>\n",
       "    <tr>\n",
       "      <th>1</th>\n",
       "      <td>00088930e925c41fd95ebfe695fd2655</td>\n",
       "      <td>automotivo</td>\n",
       "      <td>56.0</td>\n",
       "      <td>752.0</td>\n",
       "      <td>4.0</td>\n",
       "      <td>1225.0</td>\n",
       "      <td>55.0</td>\n",
       "      <td>10.0</td>\n",
       "      <td>26.0</td>\n",
       "    </tr>\n",
       "    <tr>\n",
       "      <th>2</th>\n",
       "      <td>0009406fd7479715e4bef61dd91f2462</td>\n",
       "      <td>cama_mesa_banho</td>\n",
       "      <td>50.0</td>\n",
       "      <td>266.0</td>\n",
       "      <td>2.0</td>\n",
       "      <td>300.0</td>\n",
       "      <td>45.0</td>\n",
       "      <td>15.0</td>\n",
       "      <td>35.0</td>\n",
       "    </tr>\n",
       "    <tr>\n",
       "      <th>3</th>\n",
       "      <td>000b8f95fcb9e0096488278317764d19</td>\n",
       "      <td>utilidades_domesticas</td>\n",
       "      <td>25.0</td>\n",
       "      <td>364.0</td>\n",
       "      <td>3.0</td>\n",
       "      <td>550.0</td>\n",
       "      <td>19.0</td>\n",
       "      <td>24.0</td>\n",
       "      <td>12.0</td>\n",
       "    </tr>\n",
       "    <tr>\n",
       "      <th>4</th>\n",
       "      <td>000d9be29b5207b54e86aa1b1ac54872</td>\n",
       "      <td>relogios_presentes</td>\n",
       "      <td>48.0</td>\n",
       "      <td>613.0</td>\n",
       "      <td>4.0</td>\n",
       "      <td>250.0</td>\n",
       "      <td>22.0</td>\n",
       "      <td>11.0</td>\n",
       "      <td>15.0</td>\n",
       "    </tr>\n",
       "  </tbody>\n",
       "</table>\n",
       "</div>"
      ],
      "text/plain": [
       "                         product_id  product_category_name  \\\n",
       "0  00066f42aeeb9f3007548bb9d3f33c38             perfumaria   \n",
       "1  00088930e925c41fd95ebfe695fd2655             automotivo   \n",
       "2  0009406fd7479715e4bef61dd91f2462        cama_mesa_banho   \n",
       "3  000b8f95fcb9e0096488278317764d19  utilidades_domesticas   \n",
       "4  000d9be29b5207b54e86aa1b1ac54872     relogios_presentes   \n",
       "\n",
       "   product_name_lenght  product_description_lenght  product_photos_qty  \\\n",
       "0                 53.0                       596.0                 6.0   \n",
       "1                 56.0                       752.0                 4.0   \n",
       "2                 50.0                       266.0                 2.0   \n",
       "3                 25.0                       364.0                 3.0   \n",
       "4                 48.0                       613.0                 4.0   \n",
       "\n",
       "   product_weight_g  product_length_cm  product_height_cm  product_width_cm  \n",
       "0             300.0               20.0               16.0              16.0  \n",
       "1            1225.0               55.0               10.0              26.0  \n",
       "2             300.0               45.0               15.0              35.0  \n",
       "3             550.0               19.0               24.0              12.0  \n",
       "4             250.0               22.0               11.0              15.0  "
      ]
     },
     "execution_count": 41,
     "metadata": {},
     "output_type": "execute_result"
    }
   ],
   "source": [
    "# Visualização das primeiras linhas para entender estrutura, tipos e possíveis padrões nos dados\n",
    "olist_products.head()"
   ]
  },
  {
   "cell_type": "code",
   "execution_count": 42,
   "id": "1b76a628",
   "metadata": {},
   "outputs": [
    {
     "name": "stdout",
     "output_type": "stream",
     "text": [
      "<class 'pandas.core.frame.DataFrame'>\n",
      "RangeIndex: 32951 entries, 0 to 32950\n",
      "Data columns (total 9 columns):\n",
      " #   Column                      Non-Null Count  Dtype  \n",
      "---  ------                      --------------  -----  \n",
      " 0   product_id                  32951 non-null  object \n",
      " 1   product_category_name       32341 non-null  object \n",
      " 2   product_name_lenght         32341 non-null  float64\n",
      " 3   product_description_lenght  32341 non-null  float64\n",
      " 4   product_photos_qty          32341 non-null  float64\n",
      " 5   product_weight_g            32949 non-null  float64\n",
      " 6   product_length_cm           32949 non-null  float64\n",
      " 7   product_height_cm           32949 non-null  float64\n",
      " 8   product_width_cm            32949 non-null  float64\n",
      "dtypes: float64(7), object(2)\n",
      "memory usage: 2.3+ MB\n"
     ]
    }
   ],
   "source": [
    "# Análise inicial da tabela: tipos de dados, quantidade de entradas, valores nulos\n",
    "olist_products.info()"
   ]
  },
  {
   "cell_type": "code",
   "execution_count": 43,
   "id": "63fb0835",
   "metadata": {},
   "outputs": [
    {
     "data": {
      "text/html": [
       "<div>\n",
       "<style scoped>\n",
       "    .dataframe tbody tr th:only-of-type {\n",
       "        vertical-align: middle;\n",
       "    }\n",
       "\n",
       "    .dataframe tbody tr th {\n",
       "        vertical-align: top;\n",
       "    }\n",
       "\n",
       "    .dataframe thead th {\n",
       "        text-align: right;\n",
       "    }\n",
       "</style>\n",
       "<table border=\"1\" class=\"dataframe\">\n",
       "  <thead>\n",
       "    <tr style=\"text-align: right;\">\n",
       "      <th></th>\n",
       "      <th>product_id</th>\n",
       "      <th>product_category_name</th>\n",
       "      <th>product_name_lenght</th>\n",
       "      <th>product_description_lenght</th>\n",
       "      <th>product_photos_qty</th>\n",
       "      <th>product_weight_g</th>\n",
       "      <th>product_length_cm</th>\n",
       "      <th>product_height_cm</th>\n",
       "      <th>product_width_cm</th>\n",
       "    </tr>\n",
       "  </thead>\n",
       "  <tbody>\n",
       "    <tr>\n",
       "      <th>count</th>\n",
       "      <td>32951</td>\n",
       "      <td>32341</td>\n",
       "      <td>32341.000000</td>\n",
       "      <td>32341.000000</td>\n",
       "      <td>32341.000000</td>\n",
       "      <td>32949.000000</td>\n",
       "      <td>32949.000000</td>\n",
       "      <td>32949.000000</td>\n",
       "      <td>32949.000000</td>\n",
       "    </tr>\n",
       "    <tr>\n",
       "      <th>unique</th>\n",
       "      <td>32951</td>\n",
       "      <td>73</td>\n",
       "      <td>NaN</td>\n",
       "      <td>NaN</td>\n",
       "      <td>NaN</td>\n",
       "      <td>NaN</td>\n",
       "      <td>NaN</td>\n",
       "      <td>NaN</td>\n",
       "      <td>NaN</td>\n",
       "    </tr>\n",
       "    <tr>\n",
       "      <th>top</th>\n",
       "      <td>00066f42aeeb9f3007548bb9d3f33c38</td>\n",
       "      <td>cama_mesa_banho</td>\n",
       "      <td>NaN</td>\n",
       "      <td>NaN</td>\n",
       "      <td>NaN</td>\n",
       "      <td>NaN</td>\n",
       "      <td>NaN</td>\n",
       "      <td>NaN</td>\n",
       "      <td>NaN</td>\n",
       "    </tr>\n",
       "    <tr>\n",
       "      <th>freq</th>\n",
       "      <td>1</td>\n",
       "      <td>3029</td>\n",
       "      <td>NaN</td>\n",
       "      <td>NaN</td>\n",
       "      <td>NaN</td>\n",
       "      <td>NaN</td>\n",
       "      <td>NaN</td>\n",
       "      <td>NaN</td>\n",
       "      <td>NaN</td>\n",
       "    </tr>\n",
       "    <tr>\n",
       "      <th>mean</th>\n",
       "      <td>NaN</td>\n",
       "      <td>NaN</td>\n",
       "      <td>48.476949</td>\n",
       "      <td>771.495285</td>\n",
       "      <td>2.188986</td>\n",
       "      <td>2276.472488</td>\n",
       "      <td>30.815078</td>\n",
       "      <td>16.937661</td>\n",
       "      <td>23.196728</td>\n",
       "    </tr>\n",
       "    <tr>\n",
       "      <th>std</th>\n",
       "      <td>NaN</td>\n",
       "      <td>NaN</td>\n",
       "      <td>10.245741</td>\n",
       "      <td>635.115225</td>\n",
       "      <td>1.736766</td>\n",
       "      <td>4282.038731</td>\n",
       "      <td>16.914458</td>\n",
       "      <td>13.637554</td>\n",
       "      <td>12.079047</td>\n",
       "    </tr>\n",
       "    <tr>\n",
       "      <th>min</th>\n",
       "      <td>NaN</td>\n",
       "      <td>NaN</td>\n",
       "      <td>5.000000</td>\n",
       "      <td>4.000000</td>\n",
       "      <td>1.000000</td>\n",
       "      <td>0.000000</td>\n",
       "      <td>7.000000</td>\n",
       "      <td>2.000000</td>\n",
       "      <td>6.000000</td>\n",
       "    </tr>\n",
       "    <tr>\n",
       "      <th>25%</th>\n",
       "      <td>NaN</td>\n",
       "      <td>NaN</td>\n",
       "      <td>42.000000</td>\n",
       "      <td>339.000000</td>\n",
       "      <td>1.000000</td>\n",
       "      <td>300.000000</td>\n",
       "      <td>18.000000</td>\n",
       "      <td>8.000000</td>\n",
       "      <td>15.000000</td>\n",
       "    </tr>\n",
       "    <tr>\n",
       "      <th>50%</th>\n",
       "      <td>NaN</td>\n",
       "      <td>NaN</td>\n",
       "      <td>51.000000</td>\n",
       "      <td>595.000000</td>\n",
       "      <td>1.000000</td>\n",
       "      <td>700.000000</td>\n",
       "      <td>25.000000</td>\n",
       "      <td>13.000000</td>\n",
       "      <td>20.000000</td>\n",
       "    </tr>\n",
       "    <tr>\n",
       "      <th>75%</th>\n",
       "      <td>NaN</td>\n",
       "      <td>NaN</td>\n",
       "      <td>57.000000</td>\n",
       "      <td>972.000000</td>\n",
       "      <td>3.000000</td>\n",
       "      <td>1900.000000</td>\n",
       "      <td>38.000000</td>\n",
       "      <td>21.000000</td>\n",
       "      <td>30.000000</td>\n",
       "    </tr>\n",
       "    <tr>\n",
       "      <th>max</th>\n",
       "      <td>NaN</td>\n",
       "      <td>NaN</td>\n",
       "      <td>76.000000</td>\n",
       "      <td>3992.000000</td>\n",
       "      <td>20.000000</td>\n",
       "      <td>40425.000000</td>\n",
       "      <td>105.000000</td>\n",
       "      <td>105.000000</td>\n",
       "      <td>118.000000</td>\n",
       "    </tr>\n",
       "  </tbody>\n",
       "</table>\n",
       "</div>"
      ],
      "text/plain": [
       "                              product_id product_category_name  \\\n",
       "count                              32951                 32341   \n",
       "unique                             32951                    73   \n",
       "top     00066f42aeeb9f3007548bb9d3f33c38       cama_mesa_banho   \n",
       "freq                                   1                  3029   \n",
       "mean                                 NaN                   NaN   \n",
       "std                                  NaN                   NaN   \n",
       "min                                  NaN                   NaN   \n",
       "25%                                  NaN                   NaN   \n",
       "50%                                  NaN                   NaN   \n",
       "75%                                  NaN                   NaN   \n",
       "max                                  NaN                   NaN   \n",
       "\n",
       "        product_name_lenght  product_description_lenght  product_photos_qty  \\\n",
       "count          32341.000000                32341.000000        32341.000000   \n",
       "unique                  NaN                         NaN                 NaN   \n",
       "top                     NaN                         NaN                 NaN   \n",
       "freq                    NaN                         NaN                 NaN   \n",
       "mean              48.476949                  771.495285            2.188986   \n",
       "std               10.245741                  635.115225            1.736766   \n",
       "min                5.000000                    4.000000            1.000000   \n",
       "25%               42.000000                  339.000000            1.000000   \n",
       "50%               51.000000                  595.000000            1.000000   \n",
       "75%               57.000000                  972.000000            3.000000   \n",
       "max               76.000000                 3992.000000           20.000000   \n",
       "\n",
       "        product_weight_g  product_length_cm  product_height_cm  \\\n",
       "count       32949.000000       32949.000000       32949.000000   \n",
       "unique               NaN                NaN                NaN   \n",
       "top                  NaN                NaN                NaN   \n",
       "freq                 NaN                NaN                NaN   \n",
       "mean         2276.472488          30.815078          16.937661   \n",
       "std          4282.038731          16.914458          13.637554   \n",
       "min             0.000000           7.000000           2.000000   \n",
       "25%           300.000000          18.000000           8.000000   \n",
       "50%           700.000000          25.000000          13.000000   \n",
       "75%          1900.000000          38.000000          21.000000   \n",
       "max         40425.000000         105.000000         105.000000   \n",
       "\n",
       "        product_width_cm  \n",
       "count       32949.000000  \n",
       "unique               NaN  \n",
       "top                  NaN  \n",
       "freq                 NaN  \n",
       "mean           23.196728  \n",
       "std            12.079047  \n",
       "min             6.000000  \n",
       "25%            15.000000  \n",
       "50%            20.000000  \n",
       "75%            30.000000  \n",
       "max           118.000000  "
      ]
     },
     "execution_count": 43,
     "metadata": {},
     "output_type": "execute_result"
    }
   ],
   "source": [
    "# Resumo estatístico da tabela\n",
    "olist_products.describe(include=\"all\") # Acrescentando o Parâmetro (include=\"all\") para inclusão dos dados categoricos no resumo"
   ]
  },
  {
   "cell_type": "markdown",
   "id": "1aff5b60",
   "metadata": {},
   "source": [
    "### <a id='toc3_4_2_'></a>[Analisando Valores ausentes/nulos](#toc0_)\n"
   ]
  },
  {
   "cell_type": "code",
   "execution_count": null,
   "id": "e244c8da",
   "metadata": {},
   "outputs": [
    {
     "data": {
      "text/plain": [
       "product_id                      0\n",
       "product_category_name         610\n",
       "product_name_lenght           610\n",
       "product_description_lenght    610\n",
       "product_photos_qty            610\n",
       "product_weight_g                2\n",
       "product_length_cm               2\n",
       "product_height_cm               2\n",
       "product_width_cm                2\n",
       "dtype: int64"
      ]
     },
     "execution_count": 44,
     "metadata": {},
     "output_type": "execute_result"
    }
   ],
   "source": [
    "# Contabiliza a quantidade de valores nulos em cada coluna do DataFrame 'olist_products'\n",
    "olist_products.isnull().sum()"
   ]
  },
  {
   "cell_type": "markdown",
   "id": "0d58dad7",
   "metadata": {},
   "source": [
    "## <a id='toc3_5_'></a>[Tabela: olist_orders](#toc0_)\n"
   ]
  },
  {
   "cell_type": "markdown",
   "id": "78dceba3",
   "metadata": {},
   "source": [
    "### <a id='toc3_5_1_'></a>[Resumo da Tabela](#toc0_)\n"
   ]
  },
  {
   "cell_type": "code",
   "execution_count": 45,
   "id": "f378036f",
   "metadata": {},
   "outputs": [
    {
     "data": {
      "text/html": [
       "<div>\n",
       "<style scoped>\n",
       "    .dataframe tbody tr th:only-of-type {\n",
       "        vertical-align: middle;\n",
       "    }\n",
       "\n",
       "    .dataframe tbody tr th {\n",
       "        vertical-align: top;\n",
       "    }\n",
       "\n",
       "    .dataframe thead th {\n",
       "        text-align: right;\n",
       "    }\n",
       "</style>\n",
       "<table border=\"1\" class=\"dataframe\">\n",
       "  <thead>\n",
       "    <tr style=\"text-align: right;\">\n",
       "      <th></th>\n",
       "      <th>order_id</th>\n",
       "      <th>customer_id</th>\n",
       "      <th>order_status</th>\n",
       "      <th>order_purchase_timestamp</th>\n",
       "      <th>order_approved_at</th>\n",
       "      <th>order_delivered_carrier_date</th>\n",
       "      <th>order_delivered_customer_date</th>\n",
       "      <th>order_estimated_delivery_date</th>\n",
       "    </tr>\n",
       "  </thead>\n",
       "  <tbody>\n",
       "    <tr>\n",
       "      <th>0</th>\n",
       "      <td>00010242fe8c5a6d1ba2dd792cb16214</td>\n",
       "      <td>3ce436f183e68e07877b285a838db11a</td>\n",
       "      <td>delivered</td>\n",
       "      <td>2017-09-13 08:59:02</td>\n",
       "      <td>2017-09-13 09:45:35</td>\n",
       "      <td>2017-09-19 18:34:16</td>\n",
       "      <td>2017-09-20 23:43:48</td>\n",
       "      <td>2017-09-29</td>\n",
       "    </tr>\n",
       "    <tr>\n",
       "      <th>1</th>\n",
       "      <td>00018f77f2f0320c557190d7a144bdd3</td>\n",
       "      <td>f6dd3ec061db4e3987629fe6b26e5cce</td>\n",
       "      <td>delivered</td>\n",
       "      <td>2017-04-26 10:53:06</td>\n",
       "      <td>2017-04-26 11:05:13</td>\n",
       "      <td>2017-05-04 14:35:00</td>\n",
       "      <td>2017-05-12 16:04:24</td>\n",
       "      <td>2017-05-15</td>\n",
       "    </tr>\n",
       "    <tr>\n",
       "      <th>2</th>\n",
       "      <td>000229ec398224ef6ca0657da4fc703e</td>\n",
       "      <td>6489ae5e4333f3693df5ad4372dab6d3</td>\n",
       "      <td>delivered</td>\n",
       "      <td>2018-01-14 14:33:31</td>\n",
       "      <td>2018-01-14 14:48:30</td>\n",
       "      <td>2018-01-16 12:36:48</td>\n",
       "      <td>2018-01-22 13:19:16</td>\n",
       "      <td>2018-02-05</td>\n",
       "    </tr>\n",
       "    <tr>\n",
       "      <th>3</th>\n",
       "      <td>00024acbcdf0a6daa1e931b038114c75</td>\n",
       "      <td>d4eb9395c8c0431ee92fce09860c5a06</td>\n",
       "      <td>delivered</td>\n",
       "      <td>2018-08-08 10:00:35</td>\n",
       "      <td>2018-08-08 10:10:18</td>\n",
       "      <td>2018-08-10 13:28:00</td>\n",
       "      <td>2018-08-14 13:32:39</td>\n",
       "      <td>2018-08-20</td>\n",
       "    </tr>\n",
       "    <tr>\n",
       "      <th>4</th>\n",
       "      <td>00042b26cf59d7ce69dfabb4e55b4fd9</td>\n",
       "      <td>58dbd0b2d70206bf40e62cd34e84d795</td>\n",
       "      <td>delivered</td>\n",
       "      <td>2017-02-04 13:57:51</td>\n",
       "      <td>2017-02-04 14:10:13</td>\n",
       "      <td>2017-02-16 09:46:09</td>\n",
       "      <td>2017-03-01 16:42:31</td>\n",
       "      <td>2017-03-17</td>\n",
       "    </tr>\n",
       "  </tbody>\n",
       "</table>\n",
       "</div>"
      ],
      "text/plain": [
       "                           order_id                       customer_id  \\\n",
       "0  00010242fe8c5a6d1ba2dd792cb16214  3ce436f183e68e07877b285a838db11a   \n",
       "1  00018f77f2f0320c557190d7a144bdd3  f6dd3ec061db4e3987629fe6b26e5cce   \n",
       "2  000229ec398224ef6ca0657da4fc703e  6489ae5e4333f3693df5ad4372dab6d3   \n",
       "3  00024acbcdf0a6daa1e931b038114c75  d4eb9395c8c0431ee92fce09860c5a06   \n",
       "4  00042b26cf59d7ce69dfabb4e55b4fd9  58dbd0b2d70206bf40e62cd34e84d795   \n",
       "\n",
       "  order_status order_purchase_timestamp   order_approved_at  \\\n",
       "0    delivered      2017-09-13 08:59:02 2017-09-13 09:45:35   \n",
       "1    delivered      2017-04-26 10:53:06 2017-04-26 11:05:13   \n",
       "2    delivered      2018-01-14 14:33:31 2018-01-14 14:48:30   \n",
       "3    delivered      2018-08-08 10:00:35 2018-08-08 10:10:18   \n",
       "4    delivered      2017-02-04 13:57:51 2017-02-04 14:10:13   \n",
       "\n",
       "  order_delivered_carrier_date order_delivered_customer_date  \\\n",
       "0          2017-09-19 18:34:16           2017-09-20 23:43:48   \n",
       "1          2017-05-04 14:35:00           2017-05-12 16:04:24   \n",
       "2          2018-01-16 12:36:48           2018-01-22 13:19:16   \n",
       "3          2018-08-10 13:28:00           2018-08-14 13:32:39   \n",
       "4          2017-02-16 09:46:09           2017-03-01 16:42:31   \n",
       "\n",
       "  order_estimated_delivery_date  \n",
       "0                    2017-09-29  \n",
       "1                    2017-05-15  \n",
       "2                    2018-02-05  \n",
       "3                    2018-08-20  \n",
       "4                    2017-03-17  "
      ]
     },
     "execution_count": 45,
     "metadata": {},
     "output_type": "execute_result"
    }
   ],
   "source": [
    "# Visualização das primeiras linhas para entender estrutura, tipos e possíveis padrões nos dados\n",
    "olist_orders.head()"
   ]
  },
  {
   "cell_type": "code",
   "execution_count": 46,
   "id": "3c4554be",
   "metadata": {},
   "outputs": [
    {
     "name": "stdout",
     "output_type": "stream",
     "text": [
      "<class 'pandas.core.frame.DataFrame'>\n",
      "RangeIndex: 99441 entries, 0 to 99440\n",
      "Data columns (total 8 columns):\n",
      " #   Column                         Non-Null Count  Dtype         \n",
      "---  ------                         --------------  -----         \n",
      " 0   order_id                       99441 non-null  object        \n",
      " 1   customer_id                    99441 non-null  object        \n",
      " 2   order_status                   99441 non-null  object        \n",
      " 3   order_purchase_timestamp       99441 non-null  datetime64[ns]\n",
      " 4   order_approved_at              99281 non-null  datetime64[ns]\n",
      " 5   order_delivered_carrier_date   97658 non-null  datetime64[ns]\n",
      " 6   order_delivered_customer_date  96476 non-null  datetime64[ns]\n",
      " 7   order_estimated_delivery_date  99441 non-null  datetime64[ns]\n",
      "dtypes: datetime64[ns](5), object(3)\n",
      "memory usage: 6.1+ MB\n"
     ]
    }
   ],
   "source": [
    "# Análise inicial da tabela: tipos de dados, quantidade de entradas, valores nulos\n",
    "olist_orders.info()"
   ]
  },
  {
   "cell_type": "code",
   "execution_count": 47,
   "id": "6bacbe3b",
   "metadata": {},
   "outputs": [
    {
     "data": {
      "text/html": [
       "<div>\n",
       "<style scoped>\n",
       "    .dataframe tbody tr th:only-of-type {\n",
       "        vertical-align: middle;\n",
       "    }\n",
       "\n",
       "    .dataframe tbody tr th {\n",
       "        vertical-align: top;\n",
       "    }\n",
       "\n",
       "    .dataframe thead th {\n",
       "        text-align: right;\n",
       "    }\n",
       "</style>\n",
       "<table border=\"1\" class=\"dataframe\">\n",
       "  <thead>\n",
       "    <tr style=\"text-align: right;\">\n",
       "      <th></th>\n",
       "      <th>order_id</th>\n",
       "      <th>customer_id</th>\n",
       "      <th>order_status</th>\n",
       "      <th>order_purchase_timestamp</th>\n",
       "      <th>order_approved_at</th>\n",
       "      <th>order_delivered_carrier_date</th>\n",
       "      <th>order_delivered_customer_date</th>\n",
       "      <th>order_estimated_delivery_date</th>\n",
       "    </tr>\n",
       "  </thead>\n",
       "  <tbody>\n",
       "    <tr>\n",
       "      <th>count</th>\n",
       "      <td>99441</td>\n",
       "      <td>99441</td>\n",
       "      <td>99441</td>\n",
       "      <td>99441</td>\n",
       "      <td>99281</td>\n",
       "      <td>97658</td>\n",
       "      <td>96476</td>\n",
       "      <td>99441</td>\n",
       "    </tr>\n",
       "    <tr>\n",
       "      <th>unique</th>\n",
       "      <td>99441</td>\n",
       "      <td>99441</td>\n",
       "      <td>8</td>\n",
       "      <td>NaN</td>\n",
       "      <td>NaN</td>\n",
       "      <td>NaN</td>\n",
       "      <td>NaN</td>\n",
       "      <td>NaN</td>\n",
       "    </tr>\n",
       "    <tr>\n",
       "      <th>top</th>\n",
       "      <td>00010242fe8c5a6d1ba2dd792cb16214</td>\n",
       "      <td>3ce436f183e68e07877b285a838db11a</td>\n",
       "      <td>delivered</td>\n",
       "      <td>NaN</td>\n",
       "      <td>NaN</td>\n",
       "      <td>NaN</td>\n",
       "      <td>NaN</td>\n",
       "      <td>NaN</td>\n",
       "    </tr>\n",
       "    <tr>\n",
       "      <th>freq</th>\n",
       "      <td>1</td>\n",
       "      <td>1</td>\n",
       "      <td>96478</td>\n",
       "      <td>NaN</td>\n",
       "      <td>NaN</td>\n",
       "      <td>NaN</td>\n",
       "      <td>NaN</td>\n",
       "      <td>NaN</td>\n",
       "    </tr>\n",
       "    <tr>\n",
       "      <th>mean</th>\n",
       "      <td>NaN</td>\n",
       "      <td>NaN</td>\n",
       "      <td>NaN</td>\n",
       "      <td>2017-12-31 08:43:12.776581120</td>\n",
       "      <td>2017-12-31 18:35:24.098800384</td>\n",
       "      <td>2018-01-04 21:49:48.138278400</td>\n",
       "      <td>2018-01-14 12:09:19.035542272</td>\n",
       "      <td>2018-01-24 03:08:37.730111232</td>\n",
       "    </tr>\n",
       "    <tr>\n",
       "      <th>min</th>\n",
       "      <td>NaN</td>\n",
       "      <td>NaN</td>\n",
       "      <td>NaN</td>\n",
       "      <td>2016-09-04 21:15:19</td>\n",
       "      <td>2016-09-15 12:16:38</td>\n",
       "      <td>2016-10-08 10:34:01</td>\n",
       "      <td>2016-10-11 13:46:32</td>\n",
       "      <td>2016-09-30 00:00:00</td>\n",
       "    </tr>\n",
       "    <tr>\n",
       "      <th>25%</th>\n",
       "      <td>NaN</td>\n",
       "      <td>NaN</td>\n",
       "      <td>NaN</td>\n",
       "      <td>2017-09-12 14:46:19</td>\n",
       "      <td>2017-09-12 23:24:16</td>\n",
       "      <td>2017-09-15 22:28:50.249999872</td>\n",
       "      <td>2017-09-25 22:07:22.249999872</td>\n",
       "      <td>2017-10-03 00:00:00</td>\n",
       "    </tr>\n",
       "    <tr>\n",
       "      <th>50%</th>\n",
       "      <td>NaN</td>\n",
       "      <td>NaN</td>\n",
       "      <td>NaN</td>\n",
       "      <td>2018-01-18 23:04:36</td>\n",
       "      <td>2018-01-19 11:36:13</td>\n",
       "      <td>2018-01-24 16:10:58</td>\n",
       "      <td>2018-02-02 19:28:10.500000</td>\n",
       "      <td>2018-02-15 00:00:00</td>\n",
       "    </tr>\n",
       "    <tr>\n",
       "      <th>75%</th>\n",
       "      <td>NaN</td>\n",
       "      <td>NaN</td>\n",
       "      <td>NaN</td>\n",
       "      <td>2018-05-04 15:42:16</td>\n",
       "      <td>2018-05-04 20:35:10</td>\n",
       "      <td>2018-05-08 13:37:45</td>\n",
       "      <td>2018-05-15 22:48:52.249999872</td>\n",
       "      <td>2018-05-25 00:00:00</td>\n",
       "    </tr>\n",
       "    <tr>\n",
       "      <th>max</th>\n",
       "      <td>NaN</td>\n",
       "      <td>NaN</td>\n",
       "      <td>NaN</td>\n",
       "      <td>2018-10-17 17:30:18</td>\n",
       "      <td>2018-09-03 17:40:06</td>\n",
       "      <td>2018-09-11 19:48:28</td>\n",
       "      <td>2018-10-17 13:22:46</td>\n",
       "      <td>2018-11-12 00:00:00</td>\n",
       "    </tr>\n",
       "  </tbody>\n",
       "</table>\n",
       "</div>"
      ],
      "text/plain": [
       "                                order_id                       customer_id  \\\n",
       "count                              99441                             99441   \n",
       "unique                             99441                             99441   \n",
       "top     00010242fe8c5a6d1ba2dd792cb16214  3ce436f183e68e07877b285a838db11a   \n",
       "freq                                   1                                 1   \n",
       "mean                                 NaN                               NaN   \n",
       "min                                  NaN                               NaN   \n",
       "25%                                  NaN                               NaN   \n",
       "50%                                  NaN                               NaN   \n",
       "75%                                  NaN                               NaN   \n",
       "max                                  NaN                               NaN   \n",
       "\n",
       "       order_status       order_purchase_timestamp  \\\n",
       "count         99441                          99441   \n",
       "unique            8                            NaN   \n",
       "top       delivered                            NaN   \n",
       "freq          96478                            NaN   \n",
       "mean            NaN  2017-12-31 08:43:12.776581120   \n",
       "min             NaN            2016-09-04 21:15:19   \n",
       "25%             NaN            2017-09-12 14:46:19   \n",
       "50%             NaN            2018-01-18 23:04:36   \n",
       "75%             NaN            2018-05-04 15:42:16   \n",
       "max             NaN            2018-10-17 17:30:18   \n",
       "\n",
       "                    order_approved_at   order_delivered_carrier_date  \\\n",
       "count                           99281                          97658   \n",
       "unique                            NaN                            NaN   \n",
       "top                               NaN                            NaN   \n",
       "freq                              NaN                            NaN   \n",
       "mean    2017-12-31 18:35:24.098800384  2018-01-04 21:49:48.138278400   \n",
       "min               2016-09-15 12:16:38            2016-10-08 10:34:01   \n",
       "25%               2017-09-12 23:24:16  2017-09-15 22:28:50.249999872   \n",
       "50%               2018-01-19 11:36:13            2018-01-24 16:10:58   \n",
       "75%               2018-05-04 20:35:10            2018-05-08 13:37:45   \n",
       "max               2018-09-03 17:40:06            2018-09-11 19:48:28   \n",
       "\n",
       "        order_delivered_customer_date  order_estimated_delivery_date  \n",
       "count                           96476                          99441  \n",
       "unique                            NaN                            NaN  \n",
       "top                               NaN                            NaN  \n",
       "freq                              NaN                            NaN  \n",
       "mean    2018-01-14 12:09:19.035542272  2018-01-24 03:08:37.730111232  \n",
       "min               2016-10-11 13:46:32            2016-09-30 00:00:00  \n",
       "25%     2017-09-25 22:07:22.249999872            2017-10-03 00:00:00  \n",
       "50%        2018-02-02 19:28:10.500000            2018-02-15 00:00:00  \n",
       "75%     2018-05-15 22:48:52.249999872            2018-05-25 00:00:00  \n",
       "max               2018-10-17 13:22:46            2018-11-12 00:00:00  "
      ]
     },
     "execution_count": 47,
     "metadata": {},
     "output_type": "execute_result"
    }
   ],
   "source": [
    "# Resumo estatístico da tabela\n",
    "olist_orders.describe(include=\"all\") # Acrescentando o Parâmetro (include=\"all\") para inclusão dos dados categoricos no resumo"
   ]
  },
  {
   "cell_type": "markdown",
   "id": "a62fcd6f",
   "metadata": {},
   "source": [
    "### <a id='toc3_5_2_'></a>[Analisando dados ausentes/nulos + Coluna \"order_status\"](#toc0_)"
   ]
  },
  {
   "cell_type": "markdown",
   "id": "a48924da",
   "metadata": {},
   "source": [
    "**Observação:**\n",
    "\n",
    "\n",
    "**É esperado que alguns campos de data estejam nulos, dependendo do valor de 'order_status'. Por exemplo, pedidos com status 'canceled' não terão data de entrega ao cliente** **(\"order_delivered_customer_date\"), pois não foram enviados nem finalizados. Esses nulos não indicam erro ou inconsistência.**"
   ]
  },
  {
   "cell_type": "code",
   "execution_count": null,
   "id": "ea762e4d",
   "metadata": {},
   "outputs": [
    {
     "data": {
      "text/plain": [
       "order_id                            0\n",
       "customer_id                         0\n",
       "order_status                        0\n",
       "order_purchase_timestamp            0\n",
       "order_approved_at                 160\n",
       "order_delivered_carrier_date     1783\n",
       "order_delivered_customer_date    2965\n",
       "order_estimated_delivery_date       0\n",
       "dtype: int64"
      ]
     },
     "execution_count": 48,
     "metadata": {},
     "output_type": "execute_result"
    }
   ],
   "source": [
    "# Contabiliza a quantidade de valores nulos em cada coluna do DataFrame 'olist_products'\n",
    "olist_orders.isnull().sum()"
   ]
  },
  {
   "cell_type": "code",
   "execution_count": null,
   "id": "eba375b2",
   "metadata": {},
   "outputs": [
    {
     "data": {
      "text/plain": [
       "order_status\n",
       "delivered      96478\n",
       "shipped         1107\n",
       "canceled         625\n",
       "unavailable      609\n",
       "invoiced         314\n",
       "processing       301\n",
       "created            5\n",
       "approved           2\n",
       "Name: count, dtype: int64"
      ]
     },
     "execution_count": 49,
     "metadata": {},
     "output_type": "execute_result"
    }
   ],
   "source": [
    "# Contagem do número de registros para cada categoria presente na coluna 'order_status' do DataFrame 'olist_orders'\n",
    "# Essa análise permite entender a distribuição dos diferentes status dos pedidos\n",
    "olist_orders['order_status'].value_counts()"
   ]
  },
  {
   "cell_type": "code",
   "execution_count": null,
   "id": "9cfda5f3",
   "metadata": {},
   "outputs": [
    {
     "name": "stderr",
     "output_type": "stream",
     "text": [
      "C:\\Users\\Paulo\\AppData\\Local\\Temp\\ipykernel_22692\\2041118480.py:2: DeprecationWarning: DataFrameGroupBy.apply operated on the grouping columns. This behavior is deprecated, and in a future version of pandas the grouping columns will be excluded from the operation. Either pass `include_groups=False` to exclude the groupings or explicitly select the grouping columns after groupby to silence this warning.\n",
      "  olist_orders.groupby('order_status').apply(lambda x: x.isnull().sum())\n"
     ]
    },
    {
     "data": {
      "text/html": [
       "<div>\n",
       "<style scoped>\n",
       "    .dataframe tbody tr th:only-of-type {\n",
       "        vertical-align: middle;\n",
       "    }\n",
       "\n",
       "    .dataframe tbody tr th {\n",
       "        vertical-align: top;\n",
       "    }\n",
       "\n",
       "    .dataframe thead th {\n",
       "        text-align: right;\n",
       "    }\n",
       "</style>\n",
       "<table border=\"1\" class=\"dataframe\">\n",
       "  <thead>\n",
       "    <tr style=\"text-align: right;\">\n",
       "      <th></th>\n",
       "      <th>order_id</th>\n",
       "      <th>customer_id</th>\n",
       "      <th>order_status</th>\n",
       "      <th>order_purchase_timestamp</th>\n",
       "      <th>order_approved_at</th>\n",
       "      <th>order_delivered_carrier_date</th>\n",
       "      <th>order_delivered_customer_date</th>\n",
       "      <th>order_estimated_delivery_date</th>\n",
       "    </tr>\n",
       "    <tr>\n",
       "      <th>order_status</th>\n",
       "      <th></th>\n",
       "      <th></th>\n",
       "      <th></th>\n",
       "      <th></th>\n",
       "      <th></th>\n",
       "      <th></th>\n",
       "      <th></th>\n",
       "      <th></th>\n",
       "    </tr>\n",
       "  </thead>\n",
       "  <tbody>\n",
       "    <tr>\n",
       "      <th>approved</th>\n",
       "      <td>0</td>\n",
       "      <td>0</td>\n",
       "      <td>0</td>\n",
       "      <td>0</td>\n",
       "      <td>0</td>\n",
       "      <td>2</td>\n",
       "      <td>2</td>\n",
       "      <td>0</td>\n",
       "    </tr>\n",
       "    <tr>\n",
       "      <th>canceled</th>\n",
       "      <td>0</td>\n",
       "      <td>0</td>\n",
       "      <td>0</td>\n",
       "      <td>0</td>\n",
       "      <td>141</td>\n",
       "      <td>550</td>\n",
       "      <td>619</td>\n",
       "      <td>0</td>\n",
       "    </tr>\n",
       "    <tr>\n",
       "      <th>created</th>\n",
       "      <td>0</td>\n",
       "      <td>0</td>\n",
       "      <td>0</td>\n",
       "      <td>0</td>\n",
       "      <td>5</td>\n",
       "      <td>5</td>\n",
       "      <td>5</td>\n",
       "      <td>0</td>\n",
       "    </tr>\n",
       "    <tr>\n",
       "      <th>delivered</th>\n",
       "      <td>0</td>\n",
       "      <td>0</td>\n",
       "      <td>0</td>\n",
       "      <td>0</td>\n",
       "      <td>14</td>\n",
       "      <td>2</td>\n",
       "      <td>8</td>\n",
       "      <td>0</td>\n",
       "    </tr>\n",
       "    <tr>\n",
       "      <th>invoiced</th>\n",
       "      <td>0</td>\n",
       "      <td>0</td>\n",
       "      <td>0</td>\n",
       "      <td>0</td>\n",
       "      <td>0</td>\n",
       "      <td>314</td>\n",
       "      <td>314</td>\n",
       "      <td>0</td>\n",
       "    </tr>\n",
       "    <tr>\n",
       "      <th>processing</th>\n",
       "      <td>0</td>\n",
       "      <td>0</td>\n",
       "      <td>0</td>\n",
       "      <td>0</td>\n",
       "      <td>0</td>\n",
       "      <td>301</td>\n",
       "      <td>301</td>\n",
       "      <td>0</td>\n",
       "    </tr>\n",
       "    <tr>\n",
       "      <th>shipped</th>\n",
       "      <td>0</td>\n",
       "      <td>0</td>\n",
       "      <td>0</td>\n",
       "      <td>0</td>\n",
       "      <td>0</td>\n",
       "      <td>0</td>\n",
       "      <td>1107</td>\n",
       "      <td>0</td>\n",
       "    </tr>\n",
       "    <tr>\n",
       "      <th>unavailable</th>\n",
       "      <td>0</td>\n",
       "      <td>0</td>\n",
       "      <td>0</td>\n",
       "      <td>0</td>\n",
       "      <td>0</td>\n",
       "      <td>609</td>\n",
       "      <td>609</td>\n",
       "      <td>0</td>\n",
       "    </tr>\n",
       "  </tbody>\n",
       "</table>\n",
       "</div>"
      ],
      "text/plain": [
       "              order_id  customer_id  order_status  order_purchase_timestamp  \\\n",
       "order_status                                                                  \n",
       "approved             0            0             0                         0   \n",
       "canceled             0            0             0                         0   \n",
       "created              0            0             0                         0   \n",
       "delivered            0            0             0                         0   \n",
       "invoiced             0            0             0                         0   \n",
       "processing           0            0             0                         0   \n",
       "shipped              0            0             0                         0   \n",
       "unavailable          0            0             0                         0   \n",
       "\n",
       "              order_approved_at  order_delivered_carrier_date  \\\n",
       "order_status                                                    \n",
       "approved                      0                             2   \n",
       "canceled                    141                           550   \n",
       "created                       5                             5   \n",
       "delivered                    14                             2   \n",
       "invoiced                      0                           314   \n",
       "processing                    0                           301   \n",
       "shipped                       0                             0   \n",
       "unavailable                   0                           609   \n",
       "\n",
       "              order_delivered_customer_date  order_estimated_delivery_date  \n",
       "order_status                                                                \n",
       "approved                                  2                              0  \n",
       "canceled                                619                              0  \n",
       "created                                   5                              0  \n",
       "delivered                                 8                              0  \n",
       "invoiced                                314                              0  \n",
       "processing                              301                              0  \n",
       "shipped                                1107                              0  \n",
       "unavailable                             609                              0  "
      ]
     },
     "execution_count": 50,
     "metadata": {},
     "output_type": "execute_result"
    }
   ],
   "source": [
    "# Calcula a quantidade de valores nulos em cada coluna, agrupando os dados por 'order_status'\n",
    "# Essa análise ajuda a identificar padrões de dados faltantes específicos para cada status de pedido\n",
    "olist_orders.groupby('order_status').apply(lambda x: x.isnull().sum())"
   ]
  },
  {
   "cell_type": "markdown",
   "id": "5ff0921f",
   "metadata": {},
   "source": [
    "## <a id='toc3_6_'></a>[Tabela: olist_order_items](#toc0_)\n"
   ]
  },
  {
   "cell_type": "markdown",
   "id": "a7494115",
   "metadata": {},
   "source": [
    "### <a id='toc3_6_1_'></a>[Resumo da tabela](#toc0_)"
   ]
  },
  {
   "cell_type": "code",
   "execution_count": 51,
   "id": "d9792378",
   "metadata": {},
   "outputs": [
    {
     "data": {
      "text/html": [
       "<div>\n",
       "<style scoped>\n",
       "    .dataframe tbody tr th:only-of-type {\n",
       "        vertical-align: middle;\n",
       "    }\n",
       "\n",
       "    .dataframe tbody tr th {\n",
       "        vertical-align: top;\n",
       "    }\n",
       "\n",
       "    .dataframe thead th {\n",
       "        text-align: right;\n",
       "    }\n",
       "</style>\n",
       "<table border=\"1\" class=\"dataframe\">\n",
       "  <thead>\n",
       "    <tr style=\"text-align: right;\">\n",
       "      <th></th>\n",
       "      <th>order_id</th>\n",
       "      <th>order_item_id</th>\n",
       "      <th>product_id</th>\n",
       "      <th>seller_id</th>\n",
       "      <th>shipping_limit_date</th>\n",
       "      <th>price</th>\n",
       "      <th>freight_value</th>\n",
       "    </tr>\n",
       "  </thead>\n",
       "  <tbody>\n",
       "    <tr>\n",
       "      <th>0</th>\n",
       "      <td>00010242fe8c5a6d1ba2dd792cb16214</td>\n",
       "      <td>1</td>\n",
       "      <td>4244733e06e7ecb4970a6e2683c13e61</td>\n",
       "      <td>48436dade18ac8b2bce089ec2a041202</td>\n",
       "      <td>2017-09-19 09:45:35</td>\n",
       "      <td>58.90</td>\n",
       "      <td>13.29</td>\n",
       "    </tr>\n",
       "    <tr>\n",
       "      <th>1</th>\n",
       "      <td>00018f77f2f0320c557190d7a144bdd3</td>\n",
       "      <td>1</td>\n",
       "      <td>e5f2d52b802189ee658865ca93d83a8f</td>\n",
       "      <td>dd7ddc04e1b6c2c614352b383efe2d36</td>\n",
       "      <td>2017-05-03 11:05:13</td>\n",
       "      <td>239.90</td>\n",
       "      <td>19.93</td>\n",
       "    </tr>\n",
       "    <tr>\n",
       "      <th>2</th>\n",
       "      <td>000229ec398224ef6ca0657da4fc703e</td>\n",
       "      <td>1</td>\n",
       "      <td>c777355d18b72b67abbeef9df44fd0fd</td>\n",
       "      <td>5b51032eddd242adc84c38acab88f23d</td>\n",
       "      <td>2018-01-18 14:48:30</td>\n",
       "      <td>199.00</td>\n",
       "      <td>17.87</td>\n",
       "    </tr>\n",
       "    <tr>\n",
       "      <th>3</th>\n",
       "      <td>00024acbcdf0a6daa1e931b038114c75</td>\n",
       "      <td>1</td>\n",
       "      <td>7634da152a4610f1595efa32f14722fc</td>\n",
       "      <td>9d7a1d34a5052409006425275ba1c2b4</td>\n",
       "      <td>2018-08-15 10:10:18</td>\n",
       "      <td>12.99</td>\n",
       "      <td>12.79</td>\n",
       "    </tr>\n",
       "    <tr>\n",
       "      <th>4</th>\n",
       "      <td>00042b26cf59d7ce69dfabb4e55b4fd9</td>\n",
       "      <td>1</td>\n",
       "      <td>ac6c3623068f30de03045865e4e10089</td>\n",
       "      <td>df560393f3a51e74553ab94004ba5c87</td>\n",
       "      <td>2017-02-13 13:57:51</td>\n",
       "      <td>199.90</td>\n",
       "      <td>18.14</td>\n",
       "    </tr>\n",
       "  </tbody>\n",
       "</table>\n",
       "</div>"
      ],
      "text/plain": [
       "                           order_id  order_item_id  \\\n",
       "0  00010242fe8c5a6d1ba2dd792cb16214              1   \n",
       "1  00018f77f2f0320c557190d7a144bdd3              1   \n",
       "2  000229ec398224ef6ca0657da4fc703e              1   \n",
       "3  00024acbcdf0a6daa1e931b038114c75              1   \n",
       "4  00042b26cf59d7ce69dfabb4e55b4fd9              1   \n",
       "\n",
       "                         product_id                         seller_id  \\\n",
       "0  4244733e06e7ecb4970a6e2683c13e61  48436dade18ac8b2bce089ec2a041202   \n",
       "1  e5f2d52b802189ee658865ca93d83a8f  dd7ddc04e1b6c2c614352b383efe2d36   \n",
       "2  c777355d18b72b67abbeef9df44fd0fd  5b51032eddd242adc84c38acab88f23d   \n",
       "3  7634da152a4610f1595efa32f14722fc  9d7a1d34a5052409006425275ba1c2b4   \n",
       "4  ac6c3623068f30de03045865e4e10089  df560393f3a51e74553ab94004ba5c87   \n",
       "\n",
       "  shipping_limit_date   price  freight_value  \n",
       "0 2017-09-19 09:45:35   58.90          13.29  \n",
       "1 2017-05-03 11:05:13  239.90          19.93  \n",
       "2 2018-01-18 14:48:30  199.00          17.87  \n",
       "3 2018-08-15 10:10:18   12.99          12.79  \n",
       "4 2017-02-13 13:57:51  199.90          18.14  "
      ]
     },
     "execution_count": 51,
     "metadata": {},
     "output_type": "execute_result"
    }
   ],
   "source": [
    "# Visualização das primeiras linhas para entender estrutura, tipos e possíveis padrões nos dados\n",
    "olist_order_items.head()"
   ]
  },
  {
   "cell_type": "code",
   "execution_count": 52,
   "id": "b8073cd8",
   "metadata": {},
   "outputs": [
    {
     "name": "stdout",
     "output_type": "stream",
     "text": [
      "<class 'pandas.core.frame.DataFrame'>\n",
      "RangeIndex: 112650 entries, 0 to 112649\n",
      "Data columns (total 7 columns):\n",
      " #   Column               Non-Null Count   Dtype         \n",
      "---  ------               --------------   -----         \n",
      " 0   order_id             112650 non-null  object        \n",
      " 1   order_item_id        112650 non-null  int64         \n",
      " 2   product_id           112650 non-null  object        \n",
      " 3   seller_id            112650 non-null  object        \n",
      " 4   shipping_limit_date  112650 non-null  datetime64[ns]\n",
      " 5   price                112650 non-null  float64       \n",
      " 6   freight_value        112650 non-null  float64       \n",
      "dtypes: datetime64[ns](1), float64(2), int64(1), object(3)\n",
      "memory usage: 6.0+ MB\n"
     ]
    }
   ],
   "source": [
    "# Análise inicial da tabela: tipos de dados, quantidade de entradas, valores nulos\n",
    "olist_order_items.info()"
   ]
  },
  {
   "cell_type": "code",
   "execution_count": 53,
   "id": "d9b7bc51",
   "metadata": {},
   "outputs": [
    {
     "data": {
      "text/html": [
       "<div>\n",
       "<style scoped>\n",
       "    .dataframe tbody tr th:only-of-type {\n",
       "        vertical-align: middle;\n",
       "    }\n",
       "\n",
       "    .dataframe tbody tr th {\n",
       "        vertical-align: top;\n",
       "    }\n",
       "\n",
       "    .dataframe thead th {\n",
       "        text-align: right;\n",
       "    }\n",
       "</style>\n",
       "<table border=\"1\" class=\"dataframe\">\n",
       "  <thead>\n",
       "    <tr style=\"text-align: right;\">\n",
       "      <th></th>\n",
       "      <th>order_id</th>\n",
       "      <th>order_item_id</th>\n",
       "      <th>product_id</th>\n",
       "      <th>seller_id</th>\n",
       "      <th>shipping_limit_date</th>\n",
       "      <th>price</th>\n",
       "      <th>freight_value</th>\n",
       "    </tr>\n",
       "  </thead>\n",
       "  <tbody>\n",
       "    <tr>\n",
       "      <th>count</th>\n",
       "      <td>112650</td>\n",
       "      <td>112650.000000</td>\n",
       "      <td>112650</td>\n",
       "      <td>112650</td>\n",
       "      <td>112650</td>\n",
       "      <td>112650.000000</td>\n",
       "      <td>112650.000000</td>\n",
       "    </tr>\n",
       "    <tr>\n",
       "      <th>unique</th>\n",
       "      <td>98666</td>\n",
       "      <td>NaN</td>\n",
       "      <td>32951</td>\n",
       "      <td>3095</td>\n",
       "      <td>NaN</td>\n",
       "      <td>NaN</td>\n",
       "      <td>NaN</td>\n",
       "    </tr>\n",
       "    <tr>\n",
       "      <th>top</th>\n",
       "      <td>8272b63d03f5f79c56e9e4120aec44ef</td>\n",
       "      <td>NaN</td>\n",
       "      <td>aca2eb7d00ea1a7b8ebd4e68314663af</td>\n",
       "      <td>6560211a19b47992c3666cc44a7e94c0</td>\n",
       "      <td>NaN</td>\n",
       "      <td>NaN</td>\n",
       "      <td>NaN</td>\n",
       "    </tr>\n",
       "    <tr>\n",
       "      <th>freq</th>\n",
       "      <td>21</td>\n",
       "      <td>NaN</td>\n",
       "      <td>527</td>\n",
       "      <td>2033</td>\n",
       "      <td>NaN</td>\n",
       "      <td>NaN</td>\n",
       "      <td>NaN</td>\n",
       "    </tr>\n",
       "    <tr>\n",
       "      <th>mean</th>\n",
       "      <td>NaN</td>\n",
       "      <td>1.197834</td>\n",
       "      <td>NaN</td>\n",
       "      <td>NaN</td>\n",
       "      <td>2018-01-07 15:36:52.192685312</td>\n",
       "      <td>120.653739</td>\n",
       "      <td>19.990320</td>\n",
       "    </tr>\n",
       "    <tr>\n",
       "      <th>min</th>\n",
       "      <td>NaN</td>\n",
       "      <td>1.000000</td>\n",
       "      <td>NaN</td>\n",
       "      <td>NaN</td>\n",
       "      <td>2016-09-19 00:15:34</td>\n",
       "      <td>0.850000</td>\n",
       "      <td>0.000000</td>\n",
       "    </tr>\n",
       "    <tr>\n",
       "      <th>25%</th>\n",
       "      <td>NaN</td>\n",
       "      <td>1.000000</td>\n",
       "      <td>NaN</td>\n",
       "      <td>NaN</td>\n",
       "      <td>2017-09-20 20:57:27.500000</td>\n",
       "      <td>39.900000</td>\n",
       "      <td>13.080000</td>\n",
       "    </tr>\n",
       "    <tr>\n",
       "      <th>50%</th>\n",
       "      <td>NaN</td>\n",
       "      <td>1.000000</td>\n",
       "      <td>NaN</td>\n",
       "      <td>NaN</td>\n",
       "      <td>2018-01-26 13:59:35</td>\n",
       "      <td>74.990000</td>\n",
       "      <td>16.260000</td>\n",
       "    </tr>\n",
       "    <tr>\n",
       "      <th>75%</th>\n",
       "      <td>NaN</td>\n",
       "      <td>1.000000</td>\n",
       "      <td>NaN</td>\n",
       "      <td>NaN</td>\n",
       "      <td>2018-05-10 14:34:00.750000128</td>\n",
       "      <td>134.900000</td>\n",
       "      <td>21.150000</td>\n",
       "    </tr>\n",
       "    <tr>\n",
       "      <th>max</th>\n",
       "      <td>NaN</td>\n",
       "      <td>21.000000</td>\n",
       "      <td>NaN</td>\n",
       "      <td>NaN</td>\n",
       "      <td>2020-04-09 22:35:08</td>\n",
       "      <td>6735.000000</td>\n",
       "      <td>409.680000</td>\n",
       "    </tr>\n",
       "    <tr>\n",
       "      <th>std</th>\n",
       "      <td>NaN</td>\n",
       "      <td>0.705124</td>\n",
       "      <td>NaN</td>\n",
       "      <td>NaN</td>\n",
       "      <td>NaN</td>\n",
       "      <td>183.633928</td>\n",
       "      <td>15.806405</td>\n",
       "    </tr>\n",
       "  </tbody>\n",
       "</table>\n",
       "</div>"
      ],
      "text/plain": [
       "                                order_id  order_item_id  \\\n",
       "count                             112650  112650.000000   \n",
       "unique                             98666            NaN   \n",
       "top     8272b63d03f5f79c56e9e4120aec44ef            NaN   \n",
       "freq                                  21            NaN   \n",
       "mean                                 NaN       1.197834   \n",
       "min                                  NaN       1.000000   \n",
       "25%                                  NaN       1.000000   \n",
       "50%                                  NaN       1.000000   \n",
       "75%                                  NaN       1.000000   \n",
       "max                                  NaN      21.000000   \n",
       "std                                  NaN       0.705124   \n",
       "\n",
       "                              product_id                         seller_id  \\\n",
       "count                             112650                            112650   \n",
       "unique                             32951                              3095   \n",
       "top     aca2eb7d00ea1a7b8ebd4e68314663af  6560211a19b47992c3666cc44a7e94c0   \n",
       "freq                                 527                              2033   \n",
       "mean                                 NaN                               NaN   \n",
       "min                                  NaN                               NaN   \n",
       "25%                                  NaN                               NaN   \n",
       "50%                                  NaN                               NaN   \n",
       "75%                                  NaN                               NaN   \n",
       "max                                  NaN                               NaN   \n",
       "std                                  NaN                               NaN   \n",
       "\n",
       "                  shipping_limit_date          price  freight_value  \n",
       "count                          112650  112650.000000  112650.000000  \n",
       "unique                            NaN            NaN            NaN  \n",
       "top                               NaN            NaN            NaN  \n",
       "freq                              NaN            NaN            NaN  \n",
       "mean    2018-01-07 15:36:52.192685312     120.653739      19.990320  \n",
       "min               2016-09-19 00:15:34       0.850000       0.000000  \n",
       "25%        2017-09-20 20:57:27.500000      39.900000      13.080000  \n",
       "50%               2018-01-26 13:59:35      74.990000      16.260000  \n",
       "75%     2018-05-10 14:34:00.750000128     134.900000      21.150000  \n",
       "max               2020-04-09 22:35:08    6735.000000     409.680000  \n",
       "std                               NaN     183.633928      15.806405  "
      ]
     },
     "execution_count": 53,
     "metadata": {},
     "output_type": "execute_result"
    }
   ],
   "source": [
    "# Resumo estatístico da tabela\n",
    "olist_order_items.describe(include=\"all\") # Acrescentando o Parâmetro (include=\"all\") para inclusão dos dados categoricos no resumo"
   ]
  },
  {
   "cell_type": "markdown",
   "id": "01d157cd",
   "metadata": {},
   "source": [
    "**Nas colunas \"price\" e \"freight_value\", a grande diferença entre o terceiro quartil (Q3, que representa 75% dos dados) e o valor máximo sugere a presença de outliers — valores significativamente acima da maioria que podem distorcer a análise.**"
   ]
  },
  {
   "cell_type": "code",
   "execution_count": null,
   "id": "f2304fd7",
   "metadata": {},
   "outputs": [
    {
     "data": {
      "text/html": [
       "<div>\n",
       "<style scoped>\n",
       "    .dataframe tbody tr th:only-of-type {\n",
       "        vertical-align: middle;\n",
       "    }\n",
       "\n",
       "    .dataframe tbody tr th {\n",
       "        vertical-align: top;\n",
       "    }\n",
       "\n",
       "    .dataframe thead th {\n",
       "        text-align: right;\n",
       "    }\n",
       "</style>\n",
       "<table border=\"1\" class=\"dataframe\">\n",
       "  <thead>\n",
       "    <tr style=\"text-align: right;\">\n",
       "      <th></th>\n",
       "      <th>order_id</th>\n",
       "      <th>order_item_id</th>\n",
       "      <th>product_id</th>\n",
       "      <th>seller_id</th>\n",
       "      <th>shipping_limit_date</th>\n",
       "      <th>price</th>\n",
       "      <th>freight_value</th>\n",
       "    </tr>\n",
       "  </thead>\n",
       "  <tbody>\n",
       "  </tbody>\n",
       "</table>\n",
       "</div>"
      ],
      "text/plain": [
       "Empty DataFrame\n",
       "Columns: [order_id, order_item_id, product_id, seller_id, shipping_limit_date, price, freight_value]\n",
       "Index: []"
      ]
     },
     "execution_count": 54,
     "metadata": {},
     "output_type": "execute_result"
    }
   ],
   "source": [
    "# Aplica a função 'encontrar_linhas_duplicadas' no DataFrame 'olist_order_items'\n",
    "# Retorna todas as linhas que aparecem mais de uma vez, considerando todas as colunas\n",
    "# Essa verificação é importante para identificar registros duplicados que podem afetar a qualidade dos dados\n",
    "encontrar_linhas_duplicadas(olist_order_items)"
   ]
  },
  {
   "cell_type": "markdown",
   "id": "68edb085",
   "metadata": {},
   "source": [
    "### <a id='toc3_6_2_'></a>[Coluna \"shipping_limit_date\"](#toc0_)"
   ]
  },
  {
   "cell_type": "code",
   "execution_count": null,
   "id": "a73a6a89",
   "metadata": {},
   "outputs": [
    {
     "data": {
      "image/png": "[encoded data removed]",
      "text/plain": [
       "<Figure size 640x480 with 1 Axes>"
      ]
     },
     "metadata": {},
     "output_type": "display_data"
    }
   ],
   "source": [
    "# Análise gráfica da contagem de pedidos por ano, com base na coluna 'shipping_limit_date'\n",
    "\n",
    "# Extrai o ano da data de limite de envio e conta a quantidade de registros por ano\n",
    "ano_plot = olist_order_items['shipping_limit_date'].dt.year.value_counts().sort_index()\n",
    "\n",
    "# Cria um gráfico de barras para visualizar a distribuição anual dos pedidos\n",
    "plt.bar(ano_plot.index, ano_plot.values, color='skyblue')\n",
    "plt.title('Contagem de pedidos por Ano')\n",
    "plt.xlabel('Ano')\n",
    "plt.ylabel('Quantidade de Registros')\n",
    "plt.grid(axis='y', linestyle='--', alpha=0.7)\n",
    "plt.xticks(ano_plot.index)\n",
    "\n",
    "# Adiciona rótulos numéricos no topo de cada barra para facilitar a leitura dos valores\n",
    "for i, valor in enumerate(ano_plot.values):\n",
    "    plt.text(ano_plot.index[i], valor + 1, str(valor), ha='center', va='bottom', fontsize=10, fontweight='bold')\n",
    "\n",
    "plt.tight_layout()\n",
    "plt.show()"
   ]
  },
  {
   "cell_type": "code",
   "execution_count": null,
   "id": "167a77e6",
   "metadata": {},
   "outputs": [
    {
     "data": {
      "text/html": [
       "<div>\n",
       "<style scoped>\n",
       "    .dataframe tbody tr th:only-of-type {\n",
       "        vertical-align: middle;\n",
       "    }\n",
       "\n",
       "    .dataframe tbody tr th {\n",
       "        vertical-align: top;\n",
       "    }\n",
       "\n",
       "    .dataframe thead th {\n",
       "        text-align: right;\n",
       "    }\n",
       "</style>\n",
       "<table border=\"1\" class=\"dataframe\">\n",
       "  <thead>\n",
       "    <tr style=\"text-align: right;\">\n",
       "      <th></th>\n",
       "      <th>order_id</th>\n",
       "      <th>order_item_id</th>\n",
       "      <th>product_id</th>\n",
       "      <th>seller_id</th>\n",
       "      <th>shipping_limit_date</th>\n",
       "      <th>price</th>\n",
       "      <th>freight_value</th>\n",
       "    </tr>\n",
       "  </thead>\n",
       "  <tbody>\n",
       "    <tr>\n",
       "      <th>8643</th>\n",
       "      <td>13bdf405f961a6deec817d817f5c6624</td>\n",
       "      <td>1</td>\n",
       "      <td>96ea060e41bdecc64e2de00b97068975</td>\n",
       "      <td>7a241947449cc45dbfda4f9d0798d9d0</td>\n",
       "      <td>2020-02-05 03:30:51</td>\n",
       "      <td>69.99</td>\n",
       "      <td>14.66</td>\n",
       "    </tr>\n",
       "    <tr>\n",
       "      <th>68516</th>\n",
       "      <td>9c94a4ea2f7876660fa6f1b59b69c8e6</td>\n",
       "      <td>1</td>\n",
       "      <td>282b126b2354516c5f400154398f616d</td>\n",
       "      <td>7a241947449cc45dbfda4f9d0798d9d0</td>\n",
       "      <td>2020-02-03 20:23:22</td>\n",
       "      <td>75.99</td>\n",
       "      <td>14.70</td>\n",
       "    </tr>\n",
       "    <tr>\n",
       "      <th>85729</th>\n",
       "      <td>c2bb89b5c1dd978d507284be78a04cb2</td>\n",
       "      <td>1</td>\n",
       "      <td>87b92e06b320e803d334ac23966c80b1</td>\n",
       "      <td>7a241947449cc45dbfda4f9d0798d9d0</td>\n",
       "      <td>2020-04-09 22:35:08</td>\n",
       "      <td>99.99</td>\n",
       "      <td>61.44</td>\n",
       "    </tr>\n",
       "    <tr>\n",
       "      <th>85730</th>\n",
       "      <td>c2bb89b5c1dd978d507284be78a04cb2</td>\n",
       "      <td>2</td>\n",
       "      <td>87b92e06b320e803d334ac23966c80b1</td>\n",
       "      <td>7a241947449cc45dbfda4f9d0798d9d0</td>\n",
       "      <td>2020-04-09 22:35:08</td>\n",
       "      <td>99.99</td>\n",
       "      <td>61.44</td>\n",
       "    </tr>\n",
       "  </tbody>\n",
       "</table>\n",
       "</div>"
      ],
      "text/plain": [
       "                               order_id  order_item_id  \\\n",
       "8643   13bdf405f961a6deec817d817f5c6624              1   \n",
       "68516  9c94a4ea2f7876660fa6f1b59b69c8e6              1   \n",
       "85729  c2bb89b5c1dd978d507284be78a04cb2              1   \n",
       "85730  c2bb89b5c1dd978d507284be78a04cb2              2   \n",
       "\n",
       "                             product_id                         seller_id  \\\n",
       "8643   96ea060e41bdecc64e2de00b97068975  7a241947449cc45dbfda4f9d0798d9d0   \n",
       "68516  282b126b2354516c5f400154398f616d  7a241947449cc45dbfda4f9d0798d9d0   \n",
       "85729  87b92e06b320e803d334ac23966c80b1  7a241947449cc45dbfda4f9d0798d9d0   \n",
       "85730  87b92e06b320e803d334ac23966c80b1  7a241947449cc45dbfda4f9d0798d9d0   \n",
       "\n",
       "      shipping_limit_date  price  freight_value  \n",
       "8643  2020-02-05 03:30:51  69.99          14.66  \n",
       "68516 2020-02-03 20:23:22  75.99          14.70  \n",
       "85729 2020-04-09 22:35:08  99.99          61.44  \n",
       "85730 2020-04-09 22:35:08  99.99          61.44  "
      ]
     },
     "execution_count": 56,
     "metadata": {},
     "output_type": "execute_result"
    }
   ],
   "source": [
    "# Filtrando apenas os registros do ano de 2020\n",
    "olist_order_items.loc[olist_order_items['shipping_limit_date'].dt.year == 2020]"
   ]
  },
  {
   "cell_type": "markdown",
   "id": "aa248ddf",
   "metadata": {},
   "source": [
    "### <a id='toc3_6_3_'></a>[Coluna \"price\"](#toc0_)"
   ]
  },
  {
   "cell_type": "code",
   "execution_count": null,
   "id": "5d7d991b",
   "metadata": {},
   "outputs": [
    {
     "data": {
      "image/png": "[encoded data removed]",
      "text/plain": [
       "<Figure size 640x480 with 1 Axes>"
      ]
     },
     "metadata": {},
     "output_type": "display_data"
    }
   ],
   "source": [
    "# Análise da distribuição dos preços dos produtos na tabela 'olist_order_items' usando boxplot\n",
    "\n",
    "# Estilo do gráfico\n",
    "sns.set_theme(style=\"whitegrid\")\n",
    "\n",
    "# Plot boxplot da coluna 'price'\n",
    "sns.boxplot(data=olist_order_items, x='price')\n",
    "\n",
    "# Título e rótulos\n",
    "plt.title('Distribuição dos Preços dos Produtos')\n",
    "plt.xlabel('Preço (R$)')\n",
    "\n",
    "# Mostrar o gráfico\n",
    "plt.show()"
   ]
  },
  {
   "cell_type": "code",
   "execution_count": null,
   "id": "2e48cf47",
   "metadata": {},
   "outputs": [
    {
     "name": "stdout",
     "output_type": "stream",
     "text": [
      "Número de valores acima do 3º quartil (Q3): 28114\n"
     ]
    }
   ],
   "source": [
    "# Calcula o terceiro quartil (Q3) da coluna 'price', que representa o limite superior do intervalo interquartil\n",
    "q3 = olist_order_items['price'].quantile(0.75)\n",
    "\n",
    "# Filtra os registros cujo preço é maior que o terceiro quartil, identificando valores potencialmente altos (outliers superiores)\n",
    "outliers_acima_q3 = olist_order_items[olist_order_items['price'] > q3]\n",
    "\n",
    "# Conta a quantidade de registros classificados como outliers acima do Q3\n",
    "quantidade_outliers = outliers_acima_q3.shape[0]\n",
    "\n",
    "print(f\"Número de valores acima do 3º quartil (Q3): {quantidade_outliers}\")\n"
   ]
  },
  {
   "cell_type": "code",
   "execution_count": null,
   "id": "8daa2267",
   "metadata": {},
   "outputs": [
    {
     "name": "stdout",
     "output_type": "stream",
     "text": [
      "Número de valores acima do 95º percentil (P95): 5505\n"
     ]
    }
   ],
   "source": [
    "# Calcula o 95º percentil (P95) da coluna 'price', representando o valor abaixo do qual estão 95% dos dados\n",
    "p95 = olist_order_items['price'].quantile(0.95)\n",
    "\n",
    "# Filtra os registros com preço acima do 95º percentil, identificando os valores mais altos (top 5%)\n",
    "valores_acima_p95 = olist_order_items[olist_order_items['price'] > p95]\n",
    "\n",
    "# Conta quantos registros possuem preço acima desse limite\n",
    "quantidade_acima_p95 = valores_acima_p95.shape[0]\n",
    "\n",
    "print(f\"Número de valores acima do 95º percentil (P95): {quantidade_acima_p95}\")"
   ]
  },
  {
   "cell_type": "markdown",
   "id": "0b98a15c",
   "metadata": {},
   "source": [
    "**Embora os valores acima do 95º percentil sejam elevados, eles não devem ser classificados como outliers,**\n",
    "**pois representam cerca de 5 mil registros em uma base de 112 mil, indicando que são relativamente comuns dentro da distribuição dos dados.**\n"
   ]
  },
  {
   "cell_type": "markdown",
   "id": "041e9b25",
   "metadata": {},
   "source": [
    "### <a id='toc3_6_4_'></a>[Coluna \"freight_value\"](#toc0_)"
   ]
  },
  {
   "cell_type": "code",
   "execution_count": null,
   "id": "918bcea0",
   "metadata": {},
   "outputs": [
    {
     "data": {
      "image/png": "[encoded data removed]",
      "text/plain": [
       "<Figure size 640x480 with 1 Axes>"
      ]
     },
     "metadata": {},
     "output_type": "display_data"
    }
   ],
   "source": [
    "# Análise visual da distribuição dos valores de frete na tabela 'olist_order_items' utilizando boxplot\n",
    "\n",
    "# Configura o estilo do gráfico com grade branca para melhor visualização\n",
    "sns.set_theme(style=\"whitegrid\")\n",
    "\n",
    "# Cria o boxplot para identificar mediana, dispersão, quartis e possíveis outliers na coluna 'freight_value'\n",
    "sns.boxplot(data=olist_order_items, x='freight_value')\n",
    "\n",
    "# Define título e rótulo do eixo X para contextualizar o gráfico\n",
    "plt.title('Distribuição dos fretes')\n",
    "plt.xlabel('Preço (R$)')\n",
    "\n",
    "# Exibe o gráfico\n",
    "plt.show()\n"
   ]
  },
  {
   "cell_type": "code",
   "execution_count": null,
   "id": "12132cd7",
   "metadata": {},
   "outputs": [
    {
     "name": "stdout",
     "output_type": "stream",
     "text": [
      "Número de valores acima do 3º quartil (Q3): 28106\n"
     ]
    }
   ],
   "source": [
    "# Calcula o terceiro quartil (Q3) da coluna 'freight_value', que representa o limite superior do intervalo interquartil\n",
    "q3 = olist_order_items['freight_value'].quantile(0.75)\n",
    "\n",
    "# Filtra os registros cujo valor de frete está acima do terceiro quartil, indicando valores relativamente altos\n",
    "outliers_acima_q3 = olist_order_items[olist_order_items['freight_value'] > q3]\n",
    "\n",
    "# Conta a quantidade desses registros com frete elevado\n",
    "quantidade_outliers = outliers_acima_q3.shape[0]\n",
    "\n",
    "print(f\"Número de valores acima do 3º quartil (Q3): {quantidade_outliers}\")\n"
   ]
  },
  {
   "cell_type": "code",
   "execution_count": null,
   "id": "b8cac232",
   "metadata": {},
   "outputs": [
    {
     "name": "stdout",
     "output_type": "stream",
     "text": [
      "Número de valores acima do 95º percentil (P95): 5630\n"
     ]
    }
   ],
   "source": [
    "# Calcula o 95º percentil (P95) da coluna 'freight_value', indicando o valor acima do qual estão os 5% maiores dados\n",
    "p95 = olist_order_items['freight_value'].quantile(0.95)\n",
    "\n",
    "# Filtra os registros cujo valor de frete está acima do 95º percentil, destacando os valores mais elevados\n",
    "valores_acima_p95 = olist_order_items[olist_order_items['freight_value'] > p95]\n",
    "\n",
    "# Conta a quantidade de registros com frete acima desse limite\n",
    "quantidade_acima_p95 = valores_acima_p95.shape[0]\n",
    "\n",
    "print(f\"Número de valores acima do 95º percentil (P95): {quantidade_acima_p95}\")\n"
   ]
  },
  {
   "cell_type": "markdown",
   "id": "86f23a38",
   "metadata": {},
   "source": [
    "**Assim como ocorre com a coluna \"price\", os valores elevados em \"freight_value\" não devem ser classificados automaticamente como outliers,**  \n",
    "**pois existe uma quantidade significativa de registros acima do terceiro quartil e até mesmo do 95º percentil,**\n",
    "**indicando que esses valores fazem parte do comportamento natural da distribuição.**\n"
   ]
  },
  {
   "cell_type": "markdown",
   "id": "219add67",
   "metadata": {},
   "source": [
    "## <a id='toc3_7_'></a>[Tabela: olist_order_payments](#toc0_)\n"
   ]
  },
  {
   "cell_type": "markdown",
   "id": "931157bb",
   "metadata": {},
   "source": [
    "### <a id='toc3_7_1_'></a>[Resumo da tabela](#toc0_)"
   ]
  },
  {
   "cell_type": "code",
   "execution_count": 63,
   "id": "c4ed3406",
   "metadata": {},
   "outputs": [
    {
     "data": {
      "text/html": [
       "<div>\n",
       "<style scoped>\n",
       "    .dataframe tbody tr th:only-of-type {\n",
       "        vertical-align: middle;\n",
       "    }\n",
       "\n",
       "    .dataframe tbody tr th {\n",
       "        vertical-align: top;\n",
       "    }\n",
       "\n",
       "    .dataframe thead th {\n",
       "        text-align: right;\n",
       "    }\n",
       "</style>\n",
       "<table border=\"1\" class=\"dataframe\">\n",
       "  <thead>\n",
       "    <tr style=\"text-align: right;\">\n",
       "      <th></th>\n",
       "      <th>order_id</th>\n",
       "      <th>payment_sequential</th>\n",
       "      <th>payment_type</th>\n",
       "      <th>payment_installments</th>\n",
       "      <th>payment_value</th>\n",
       "    </tr>\n",
       "  </thead>\n",
       "  <tbody>\n",
       "    <tr>\n",
       "      <th>0</th>\n",
       "      <td>00010242fe8c5a6d1ba2dd792cb16214</td>\n",
       "      <td>1</td>\n",
       "      <td>credit_card</td>\n",
       "      <td>2</td>\n",
       "      <td>72.19</td>\n",
       "    </tr>\n",
       "    <tr>\n",
       "      <th>1</th>\n",
       "      <td>00018f77f2f0320c557190d7a144bdd3</td>\n",
       "      <td>1</td>\n",
       "      <td>credit_card</td>\n",
       "      <td>3</td>\n",
       "      <td>259.83</td>\n",
       "    </tr>\n",
       "    <tr>\n",
       "      <th>2</th>\n",
       "      <td>000229ec398224ef6ca0657da4fc703e</td>\n",
       "      <td>1</td>\n",
       "      <td>credit_card</td>\n",
       "      <td>5</td>\n",
       "      <td>216.87</td>\n",
       "    </tr>\n",
       "    <tr>\n",
       "      <th>3</th>\n",
       "      <td>00024acbcdf0a6daa1e931b038114c75</td>\n",
       "      <td>1</td>\n",
       "      <td>credit_card</td>\n",
       "      <td>2</td>\n",
       "      <td>25.78</td>\n",
       "    </tr>\n",
       "    <tr>\n",
       "      <th>4</th>\n",
       "      <td>00042b26cf59d7ce69dfabb4e55b4fd9</td>\n",
       "      <td>1</td>\n",
       "      <td>credit_card</td>\n",
       "      <td>3</td>\n",
       "      <td>218.04</td>\n",
       "    </tr>\n",
       "  </tbody>\n",
       "</table>\n",
       "</div>"
      ],
      "text/plain": [
       "                           order_id  payment_sequential payment_type  \\\n",
       "0  00010242fe8c5a6d1ba2dd792cb16214                   1  credit_card   \n",
       "1  00018f77f2f0320c557190d7a144bdd3                   1  credit_card   \n",
       "2  000229ec398224ef6ca0657da4fc703e                   1  credit_card   \n",
       "3  00024acbcdf0a6daa1e931b038114c75                   1  credit_card   \n",
       "4  00042b26cf59d7ce69dfabb4e55b4fd9                   1  credit_card   \n",
       "\n",
       "   payment_installments  payment_value  \n",
       "0                     2          72.19  \n",
       "1                     3         259.83  \n",
       "2                     5         216.87  \n",
       "3                     2          25.78  \n",
       "4                     3         218.04  "
      ]
     },
     "execution_count": 63,
     "metadata": {},
     "output_type": "execute_result"
    }
   ],
   "source": [
    "# Visualização das primeiras linhas para entender estrutura, tipos e possíveis padrões nos dados\n",
    "olist_order_payments.head()"
   ]
  },
  {
   "cell_type": "code",
   "execution_count": 64,
   "id": "cd0ad602",
   "metadata": {},
   "outputs": [
    {
     "name": "stdout",
     "output_type": "stream",
     "text": [
      "<class 'pandas.core.frame.DataFrame'>\n",
      "RangeIndex: 103886 entries, 0 to 103885\n",
      "Data columns (total 5 columns):\n",
      " #   Column                Non-Null Count   Dtype  \n",
      "---  ------                --------------   -----  \n",
      " 0   order_id              103886 non-null  object \n",
      " 1   payment_sequential    103886 non-null  int64  \n",
      " 2   payment_type          103886 non-null  object \n",
      " 3   payment_installments  103886 non-null  int64  \n",
      " 4   payment_value         103886 non-null  float64\n",
      "dtypes: float64(1), int64(2), object(2)\n",
      "memory usage: 4.0+ MB\n"
     ]
    }
   ],
   "source": [
    "# Análise inicial da tabela: tipos de dados, quantidade de entradas, valores nulos\n",
    "olist_order_payments.info()"
   ]
  },
  {
   "cell_type": "code",
   "execution_count": 65,
   "id": "0c628acf",
   "metadata": {},
   "outputs": [
    {
     "data": {
      "text/html": [
       "<div>\n",
       "<style scoped>\n",
       "    .dataframe tbody tr th:only-of-type {\n",
       "        vertical-align: middle;\n",
       "    }\n",
       "\n",
       "    .dataframe tbody tr th {\n",
       "        vertical-align: top;\n",
       "    }\n",
       "\n",
       "    .dataframe thead th {\n",
       "        text-align: right;\n",
       "    }\n",
       "</style>\n",
       "<table border=\"1\" class=\"dataframe\">\n",
       "  <thead>\n",
       "    <tr style=\"text-align: right;\">\n",
       "      <th></th>\n",
       "      <th>order_id</th>\n",
       "      <th>payment_sequential</th>\n",
       "      <th>payment_type</th>\n",
       "      <th>payment_installments</th>\n",
       "      <th>payment_value</th>\n",
       "    </tr>\n",
       "  </thead>\n",
       "  <tbody>\n",
       "    <tr>\n",
       "      <th>count</th>\n",
       "      <td>103886</td>\n",
       "      <td>103886.000000</td>\n",
       "      <td>103886</td>\n",
       "      <td>103886.000000</td>\n",
       "      <td>103886.000000</td>\n",
       "    </tr>\n",
       "    <tr>\n",
       "      <th>unique</th>\n",
       "      <td>99440</td>\n",
       "      <td>NaN</td>\n",
       "      <td>5</td>\n",
       "      <td>NaN</td>\n",
       "      <td>NaN</td>\n",
       "    </tr>\n",
       "    <tr>\n",
       "      <th>top</th>\n",
       "      <td>fa65dad1b0e818e3ccc5cb0e39231352</td>\n",
       "      <td>NaN</td>\n",
       "      <td>credit_card</td>\n",
       "      <td>NaN</td>\n",
       "      <td>NaN</td>\n",
       "    </tr>\n",
       "    <tr>\n",
       "      <th>freq</th>\n",
       "      <td>29</td>\n",
       "      <td>NaN</td>\n",
       "      <td>76795</td>\n",
       "      <td>NaN</td>\n",
       "      <td>NaN</td>\n",
       "    </tr>\n",
       "    <tr>\n",
       "      <th>mean</th>\n",
       "      <td>NaN</td>\n",
       "      <td>1.092679</td>\n",
       "      <td>NaN</td>\n",
       "      <td>2.853349</td>\n",
       "      <td>154.100380</td>\n",
       "    </tr>\n",
       "    <tr>\n",
       "      <th>std</th>\n",
       "      <td>NaN</td>\n",
       "      <td>0.706584</td>\n",
       "      <td>NaN</td>\n",
       "      <td>2.687051</td>\n",
       "      <td>217.494064</td>\n",
       "    </tr>\n",
       "    <tr>\n",
       "      <th>min</th>\n",
       "      <td>NaN</td>\n",
       "      <td>1.000000</td>\n",
       "      <td>NaN</td>\n",
       "      <td>0.000000</td>\n",
       "      <td>0.000000</td>\n",
       "    </tr>\n",
       "    <tr>\n",
       "      <th>25%</th>\n",
       "      <td>NaN</td>\n",
       "      <td>1.000000</td>\n",
       "      <td>NaN</td>\n",
       "      <td>1.000000</td>\n",
       "      <td>56.790000</td>\n",
       "    </tr>\n",
       "    <tr>\n",
       "      <th>50%</th>\n",
       "      <td>NaN</td>\n",
       "      <td>1.000000</td>\n",
       "      <td>NaN</td>\n",
       "      <td>1.000000</td>\n",
       "      <td>100.000000</td>\n",
       "    </tr>\n",
       "    <tr>\n",
       "      <th>75%</th>\n",
       "      <td>NaN</td>\n",
       "      <td>1.000000</td>\n",
       "      <td>NaN</td>\n",
       "      <td>4.000000</td>\n",
       "      <td>171.837500</td>\n",
       "    </tr>\n",
       "    <tr>\n",
       "      <th>max</th>\n",
       "      <td>NaN</td>\n",
       "      <td>29.000000</td>\n",
       "      <td>NaN</td>\n",
       "      <td>24.000000</td>\n",
       "      <td>13664.080000</td>\n",
       "    </tr>\n",
       "  </tbody>\n",
       "</table>\n",
       "</div>"
      ],
      "text/plain": [
       "                                order_id  payment_sequential payment_type  \\\n",
       "count                             103886       103886.000000       103886   \n",
       "unique                             99440                 NaN            5   \n",
       "top     fa65dad1b0e818e3ccc5cb0e39231352                 NaN  credit_card   \n",
       "freq                                  29                 NaN        76795   \n",
       "mean                                 NaN            1.092679          NaN   \n",
       "std                                  NaN            0.706584          NaN   \n",
       "min                                  NaN            1.000000          NaN   \n",
       "25%                                  NaN            1.000000          NaN   \n",
       "50%                                  NaN            1.000000          NaN   \n",
       "75%                                  NaN            1.000000          NaN   \n",
       "max                                  NaN           29.000000          NaN   \n",
       "\n",
       "        payment_installments  payment_value  \n",
       "count          103886.000000  103886.000000  \n",
       "unique                   NaN            NaN  \n",
       "top                      NaN            NaN  \n",
       "freq                     NaN            NaN  \n",
       "mean                2.853349     154.100380  \n",
       "std                 2.687051     217.494064  \n",
       "min                 0.000000       0.000000  \n",
       "25%                 1.000000      56.790000  \n",
       "50%                 1.000000     100.000000  \n",
       "75%                 4.000000     171.837500  \n",
       "max                24.000000   13664.080000  "
      ]
     },
     "execution_count": 65,
     "metadata": {},
     "output_type": "execute_result"
    }
   ],
   "source": [
    "# Resumo estatístico da tabela\n",
    "olist_order_payments.describe(include=\"all\") # Acrescentando o Parâmetro (include=\"all\") para inclusão dos dados categoricos no resumo"
   ]
  },
  {
   "cell_type": "code",
   "execution_count": null,
   "id": "103ed959",
   "metadata": {},
   "outputs": [
    {
     "data": {
      "text/html": [
       "<div>\n",
       "<style scoped>\n",
       "    .dataframe tbody tr th:only-of-type {\n",
       "        vertical-align: middle;\n",
       "    }\n",
       "\n",
       "    .dataframe tbody tr th {\n",
       "        vertical-align: top;\n",
       "    }\n",
       "\n",
       "    .dataframe thead th {\n",
       "        text-align: right;\n",
       "    }\n",
       "</style>\n",
       "<table border=\"1\" class=\"dataframe\">\n",
       "  <thead>\n",
       "    <tr style=\"text-align: right;\">\n",
       "      <th></th>\n",
       "      <th>order_id</th>\n",
       "      <th>payment_sequential</th>\n",
       "      <th>payment_type</th>\n",
       "      <th>payment_installments</th>\n",
       "      <th>payment_value</th>\n",
       "    </tr>\n",
       "  </thead>\n",
       "  <tbody>\n",
       "  </tbody>\n",
       "</table>\n",
       "</div>"
      ],
      "text/plain": [
       "Empty DataFrame\n",
       "Columns: [order_id, payment_sequential, payment_type, payment_installments, payment_value]\n",
       "Index: []"
      ]
     },
     "execution_count": 66,
     "metadata": {},
     "output_type": "execute_result"
    }
   ],
   "source": [
    "# Aplica a função 'encontrar_linhas_duplicadas' no DataFrame 'olist_order_payments'\n",
    "# Retorna todas as linhas que estão duplicadas com base em todas as colunas\n",
    "encontrar_linhas_duplicadas(olist_order_payments)"
   ]
  },
  {
   "cell_type": "markdown",
   "id": "ad9d0525",
   "metadata": {},
   "source": [
    "### <a id='toc3_7_2_'></a>[Coluna \"payment_sequential\"](#toc0_)"
   ]
  },
  {
   "cell_type": "code",
   "execution_count": null,
   "id": "821103d2",
   "metadata": {},
   "outputs": [
    {
     "data": {
      "image/png": "[encoded data removed]",
      "text/plain": [
       "<Figure size 640x480 with 1 Axes>"
      ]
     },
     "metadata": {},
     "output_type": "display_data"
    }
   ],
   "source": [
    "# Análise visual da distribuição dos valores na coluna 'payment_sequential' do DataFrame 'olist_order_payments' usando boxplot\n",
    "\n",
    "# Configura o estilo do gráfico com grade branca para facilitar a leitura\n",
    "sns.set_theme(style=\"whitegrid\")\n",
    "\n",
    "# Cria o boxplot para visualizar a dispersão, mediana, quartis e possíveis outliers na coluna 'payment_sequential'\n",
    "sns.boxplot(data=olist_order_payments, x='payment_sequential')\n",
    "\n",
    "# Exibe o gráfico\n",
    "plt.show()\n"
   ]
  },
  {
   "cell_type": "code",
   "execution_count": null,
   "id": "e2bd5983",
   "metadata": {},
   "outputs": [
    {
     "name": "stdout",
     "output_type": "stream",
     "text": [
      "Número de valores acima do 3º quartil (Q3): 4526\n"
     ]
    }
   ],
   "source": [
    "# Calcula o terceiro quartil (Q3) da coluna 'payment_sequential', que representa o limite superior do intervalo interquartil\n",
    "q3 = olist_order_payments['payment_sequential'].quantile(0.75)\n",
    "\n",
    "# Filtra os registros cujo valor em 'payment_sequential' está acima do terceiro quartil, identificando valores relativamente altos\n",
    "outliers_acima_q3 = olist_order_payments[olist_order_payments['payment_sequential'] > q3]\n",
    "\n",
    "# Conta a quantidade desses registros\n",
    "quantidade_outliers = outliers_acima_q3.shape[0]\n",
    "\n",
    "print(f\"Número de valores acima do 3º quartil (Q3): {quantidade_outliers}\")"
   ]
  },
  {
   "cell_type": "code",
   "execution_count": null,
   "id": "5b1ddb25",
   "metadata": {},
   "outputs": [
    {
     "name": "stdout",
     "output_type": "stream",
     "text": [
      "Número de valores acima do 95º percentil (P95): 4526\n"
     ]
    }
   ],
   "source": [
    "# Calcula o 95º percentil (P95) da coluna 'payment_sequential', indicando o valor acima do qual estão os 5% maiores dados\n",
    "p95 = olist_order_payments['payment_sequential'].quantile(0.95)\n",
    "\n",
    "# Filtra os registros cujo valor em 'payment_sequential' está acima do 95º percentil, destacando os valores mais elevados\n",
    "valores_acima_p95 = olist_order_payments[olist_order_payments['payment_sequential'] > p95]\n",
    "\n",
    "# Conta a quantidade desses registros\n",
    "quantidade_acima_p95 = valores_acima_p95.shape[0]\n",
    "\n",
    "print(f\"Número de valores acima do 95º percentil (P95): {quantidade_acima_p95}\")\n"
   ]
  },
  {
   "cell_type": "markdown",
   "id": "b25d28f3",
   "metadata": {},
   "source": [
    "### <a id='toc3_7_3_'></a>[Coluna \"payment_installments\"](#toc0_)"
   ]
  },
  {
   "cell_type": "code",
   "execution_count": null,
   "id": "3b2b96a6",
   "metadata": {},
   "outputs": [
    {
     "data": {
      "image/png": "[encoded data removed]",
      "text/plain": [
       "<Figure size 640x480 with 1 Axes>"
      ]
     },
     "metadata": {},
     "output_type": "display_data"
    }
   ],
   "source": [
    "# Análise visual da distribuição dos valores da coluna 'payment_installments' em 'olist_order_payments' usando boxplot\n",
    "\n",
    "# Configura o estilo do gráfico com grade branca para facilitar a leitura\n",
    "sns.set_theme(style=\"whitegrid\")\n",
    "\n",
    "# Cria o boxplot para visualizar mediana, dispersão, quartis e possíveis outliers na coluna 'payment_installments'\n",
    "sns.boxplot(data=olist_order_payments, x='payment_installments')\n",
    "\n",
    "# Exibe o gráfico\n",
    "plt.show()"
   ]
  },
  {
   "cell_type": "code",
   "execution_count": null,
   "id": "2eedc3d6",
   "metadata": {},
   "outputs": [
    {
     "name": "stdout",
     "output_type": "stream",
     "text": [
      "Número de valores acima do 3º quartil (Q3): 21366\n"
     ]
    }
   ],
   "source": [
    "# Calcula o terceiro quartil (Q3) da coluna 'payment_installments', que representa o limite superior do intervalo interquartil\n",
    "q3 = olist_order_payments['payment_installments'].quantile(0.75)\n",
    "\n",
    "# Filtra os registros onde o número de parcelas é maior que o terceiro quartil, identificando valores relativamente altos\n",
    "outliers_acima_q3 = olist_order_payments[olist_order_payments['payment_installments'] > q3]\n",
    "\n",
    "# Conta a quantidade desses registros com número elevado de parcelas\n",
    "quantidade_outliers = outliers_acima_q3.shape[0]\n",
    "\n",
    "print(f\"Número de valores acima do 3º quartil (Q3): {quantidade_outliers}\")\n"
   ]
  },
  {
   "cell_type": "code",
   "execution_count": null,
   "id": "28fdb2ea",
   "metadata": {},
   "outputs": [
    {
     "name": "stdout",
     "output_type": "stream",
     "text": [
      "Número de valores acima do 95º percentil (P95): 341\n"
     ]
    }
   ],
   "source": [
    "# Calcula o 95º percentil (P95) da coluna 'payment_installments', indicando o valor acima do qual estão os 5% maiores dados\n",
    "p95 = olist_order_payments['payment_installments'].quantile(0.95)\n",
    "\n",
    "# Filtra os registros com número de parcelas acima do 95º percentil, destacando os casos extremos\n",
    "valores_acima_p95 = olist_order_payments[olist_order_payments['payment_installments'] > p95]\n",
    "\n",
    "# Conta a quantidade desses registros\n",
    "quantidade_acima_p95 = valores_acima_p95.shape[0]\n",
    "\n",
    "print(f\"Número de valores acima do 95º percentil (P95): {quantidade_acima_p95}\")\n"
   ]
  },
  {
   "cell_type": "code",
   "execution_count": null,
   "id": "49294c57",
   "metadata": {},
   "outputs": [
    {
     "data": {
      "text/html": [
       "<div>\n",
       "<style scoped>\n",
       "    .dataframe tbody tr th:only-of-type {\n",
       "        vertical-align: middle;\n",
       "    }\n",
       "\n",
       "    .dataframe tbody tr th {\n",
       "        vertical-align: top;\n",
       "    }\n",
       "\n",
       "    .dataframe thead th {\n",
       "        text-align: right;\n",
       "    }\n",
       "</style>\n",
       "<table border=\"1\" class=\"dataframe\">\n",
       "  <thead>\n",
       "    <tr style=\"text-align: right;\">\n",
       "      <th></th>\n",
       "      <th>order_id</th>\n",
       "      <th>payment_sequential</th>\n",
       "      <th>payment_type</th>\n",
       "      <th>payment_installments</th>\n",
       "      <th>payment_value</th>\n",
       "    </tr>\n",
       "  </thead>\n",
       "  <tbody>\n",
       "    <tr>\n",
       "      <th>10691</th>\n",
       "      <td>1a57108394169c0b47d8f876acc9ba2d</td>\n",
       "      <td>2</td>\n",
       "      <td>credit_card</td>\n",
       "      <td>0</td>\n",
       "      <td>129.94</td>\n",
       "    </tr>\n",
       "    <tr>\n",
       "      <th>47346</th>\n",
       "      <td>744bade1fcf9ff3f31d860ace076d422</td>\n",
       "      <td>2</td>\n",
       "      <td>credit_card</td>\n",
       "      <td>0</td>\n",
       "      <td>58.69</td>\n",
       "    </tr>\n",
       "  </tbody>\n",
       "</table>\n",
       "</div>"
      ],
      "text/plain": [
       "                               order_id  payment_sequential payment_type  \\\n",
       "10691  1a57108394169c0b47d8f876acc9ba2d                   2  credit_card   \n",
       "47346  744bade1fcf9ff3f31d860ace076d422                   2  credit_card   \n",
       "\n",
       "       payment_installments  payment_value  \n",
       "10691                     0         129.94  \n",
       "47346                     0          58.69  "
      ]
     },
     "execution_count": 74,
     "metadata": {},
     "output_type": "execute_result"
    }
   ],
   "source": [
    "# Checando o(s) valor(es) igual a zero\n",
    "olist_order_payments.loc[olist_order_payments['payment_installments'] == 0]"
   ]
  },
  {
   "cell_type": "markdown",
   "id": "6f2d1ec6",
   "metadata": {},
   "source": [
    "### <a id='toc3_7_4_'></a>[Coluna \"payment_value\"](#toc0_)"
   ]
  },
  {
   "cell_type": "code",
   "execution_count": null,
   "id": "5f6e3737",
   "metadata": {},
   "outputs": [
    {
     "data": {
      "image/png": "[encoded data removed]",
      "text/plain": [
       "<Figure size 640x480 with 1 Axes>"
      ]
     },
     "metadata": {},
     "output_type": "display_data"
    }
   ],
   "source": [
    "# Análise visual da distribuição dos valores na coluna 'payment_value' do DataFrame 'olist_order_payments' usando boxplot\n",
    "\n",
    "# Configura o estilo do gráfico para grade branca, facilitando a visualização dos dados\n",
    "sns.set_theme(style=\"whitegrid\")\n",
    "\n",
    "# Cria o boxplot para mostrar mediana, dispersão, quartis e potenciais outliers em 'payment_value'\n",
    "sns.boxplot(data=olist_order_payments, x='payment_value')\n",
    "\n",
    "# Exibe o gráfico\n",
    "plt.show()\n"
   ]
  },
  {
   "cell_type": "code",
   "execution_count": null,
   "id": "f80826eb",
   "metadata": {},
   "outputs": [
    {
     "name": "stdout",
     "output_type": "stream",
     "text": [
      "Número de valores acima do 3º quartil (Q3): 25972\n"
     ]
    }
   ],
   "source": [
    "# Calcula o terceiro quartil (Q3) da coluna 'payment_value', que representa o limite superior do intervalo interquartil\n",
    "q3 = olist_order_payments['payment_value'].quantile(0.75)\n",
    "\n",
    "# Filtra os registros onde o valor do pagamento é maior que o terceiro quartil, indicando valores relativamente altos\n",
    "outliers_acima_q3 = olist_order_payments[olist_order_payments['payment_value'] > q3]\n",
    "\n",
    "# Conta a quantidade desses registros com pagamento elevado\n",
    "quantidade_outliers = outliers_acima_q3.shape[0]\n",
    "\n",
    "print(f\"Número de valores acima do 3º quartil (Q3): {quantidade_outliers}\")"
   ]
  },
  {
   "cell_type": "code",
   "execution_count": null,
   "id": "ca5e4c25",
   "metadata": {},
   "outputs": [
    {
     "name": "stdout",
     "output_type": "stream",
     "text": [
      "Número de valores acima do 95º percentil (P95): 5195\n"
     ]
    }
   ],
   "source": [
    "# Calcula o 95º percentil (P95) da coluna 'payment_value', que indica o valor acima do qual estão os 5% maiores pagamentos\n",
    "p95 = olist_order_payments['payment_value'].quantile(0.95)\n",
    "\n",
    "# Filtra os registros cujo valor de pagamento está acima do 95º percentil, destacando os pagamentos mais elevados\n",
    "valores_acima_p95 = olist_order_payments[olist_order_payments['payment_value'] > p95]\n",
    "\n",
    "# Conta a quantidade desses registros\n",
    "quantidade_acima_p95 = valores_acima_p95.shape[0]\n",
    "\n",
    "print(f\"Número de valores acima do 95º percentil (P95): {quantidade_acima_p95}\")"
   ]
  },
  {
   "cell_type": "code",
   "execution_count": null,
   "id": "cffc009c",
   "metadata": {},
   "outputs": [
    {
     "data": {
      "text/html": [
       "<div>\n",
       "<style scoped>\n",
       "    .dataframe tbody tr th:only-of-type {\n",
       "        vertical-align: middle;\n",
       "    }\n",
       "\n",
       "    .dataframe tbody tr th {\n",
       "        vertical-align: top;\n",
       "    }\n",
       "\n",
       "    .dataframe thead th {\n",
       "        text-align: right;\n",
       "    }\n",
       "</style>\n",
       "<table border=\"1\" class=\"dataframe\">\n",
       "  <thead>\n",
       "    <tr style=\"text-align: right;\">\n",
       "      <th></th>\n",
       "      <th>order_id</th>\n",
       "      <th>payment_sequential</th>\n",
       "      <th>payment_type</th>\n",
       "      <th>payment_installments</th>\n",
       "      <th>payment_value</th>\n",
       "    </tr>\n",
       "  </thead>\n",
       "  <tbody>\n",
       "    <tr>\n",
       "      <th>259</th>\n",
       "      <td>00b1cb0320190ca0daa2c88b35206009</td>\n",
       "      <td>1</td>\n",
       "      <td>not_defined</td>\n",
       "      <td>1</td>\n",
       "      <td>0.0</td>\n",
       "    </tr>\n",
       "    <tr>\n",
       "      <th>28436</th>\n",
       "      <td>45ed6e85398a87c253db47c2d9f48216</td>\n",
       "      <td>3</td>\n",
       "      <td>voucher</td>\n",
       "      <td>1</td>\n",
       "      <td>0.0</td>\n",
       "    </tr>\n",
       "    <tr>\n",
       "      <th>28566</th>\n",
       "      <td>4637ca194b6387e2d538dc89b124b0ee</td>\n",
       "      <td>1</td>\n",
       "      <td>not_defined</td>\n",
       "      <td>1</td>\n",
       "      <td>0.0</td>\n",
       "    </tr>\n",
       "    <tr>\n",
       "      <th>44305</th>\n",
       "      <td>6ccb433e00daae1283ccc956189c82ae</td>\n",
       "      <td>4</td>\n",
       "      <td>voucher</td>\n",
       "      <td>1</td>\n",
       "      <td>0.0</td>\n",
       "    </tr>\n",
       "    <tr>\n",
       "      <th>56620</th>\n",
       "      <td>8bcbe01d44d147f901cd3192671144db</td>\n",
       "      <td>4</td>\n",
       "      <td>voucher</td>\n",
       "      <td>1</td>\n",
       "      <td>0.0</td>\n",
       "    </tr>\n",
       "    <tr>\n",
       "      <th>72173</th>\n",
       "      <td>b23878b3e8eb4d25a158f57d96331b18</td>\n",
       "      <td>4</td>\n",
       "      <td>voucher</td>\n",
       "      <td>1</td>\n",
       "      <td>0.0</td>\n",
       "    </tr>\n",
       "    <tr>\n",
       "      <th>81460</th>\n",
       "      <td>c8c528189310eaa44a745b8d9d26908b</td>\n",
       "      <td>1</td>\n",
       "      <td>not_defined</td>\n",
       "      <td>1</td>\n",
       "      <td>0.0</td>\n",
       "    </tr>\n",
       "    <tr>\n",
       "      <th>101581</th>\n",
       "      <td>fa65dad1b0e818e3ccc5cb0e39231352</td>\n",
       "      <td>13</td>\n",
       "      <td>voucher</td>\n",
       "      <td>1</td>\n",
       "      <td>0.0</td>\n",
       "    </tr>\n",
       "    <tr>\n",
       "      <th>101582</th>\n",
       "      <td>fa65dad1b0e818e3ccc5cb0e39231352</td>\n",
       "      <td>14</td>\n",
       "      <td>voucher</td>\n",
       "      <td>1</td>\n",
       "      <td>0.0</td>\n",
       "    </tr>\n",
       "  </tbody>\n",
       "</table>\n",
       "</div>"
      ],
      "text/plain": [
       "                                order_id  payment_sequential payment_type  \\\n",
       "259     00b1cb0320190ca0daa2c88b35206009                   1  not_defined   \n",
       "28436   45ed6e85398a87c253db47c2d9f48216                   3      voucher   \n",
       "28566   4637ca194b6387e2d538dc89b124b0ee                   1  not_defined   \n",
       "44305   6ccb433e00daae1283ccc956189c82ae                   4      voucher   \n",
       "56620   8bcbe01d44d147f901cd3192671144db                   4      voucher   \n",
       "72173   b23878b3e8eb4d25a158f57d96331b18                   4      voucher   \n",
       "81460   c8c528189310eaa44a745b8d9d26908b                   1  not_defined   \n",
       "101581  fa65dad1b0e818e3ccc5cb0e39231352                  13      voucher   \n",
       "101582  fa65dad1b0e818e3ccc5cb0e39231352                  14      voucher   \n",
       "\n",
       "        payment_installments  payment_value  \n",
       "259                        1            0.0  \n",
       "28436                      1            0.0  \n",
       "28566                      1            0.0  \n",
       "44305                      1            0.0  \n",
       "56620                      1            0.0  \n",
       "72173                      1            0.0  \n",
       "81460                      1            0.0  \n",
       "101581                     1            0.0  \n",
       "101582                     1            0.0  "
      ]
     },
     "execution_count": 78,
     "metadata": {},
     "output_type": "execute_result"
    }
   ],
   "source": [
    "# Checando o(s) valor(es) igual a zero\n",
    "olist_order_payments.loc[olist_order_payments['payment_value'] == 0]"
   ]
  },
  {
   "cell_type": "markdown",
   "id": "2ed09744",
   "metadata": {},
   "source": [
    "### <a id='toc3_7_5_'></a>[Coluna \"payment_type\"](#toc0_)"
   ]
  },
  {
   "cell_type": "code",
   "execution_count": null,
   "id": "e04f7acd",
   "metadata": {},
   "outputs": [
    {
     "data": {
      "image/png": "[encoded data removed]",
      "text/plain": [
       "<Figure size 800x800 with 1 Axes>"
      ]
     },
     "metadata": {},
     "output_type": "display_data"
    }
   ],
   "source": [
    "# Entendendo a distribuição dos valores da coluna \"payment_type\"\n",
    "# Calcula a contagem de registros para cada categoria na coluna 'payment_type' do DataFrame 'olist_order_payments'\n",
    "pt = olist_order_payments['payment_type'].value_counts()\n",
    "\n",
    "# Cria um gráfico de pizza para visualizar a distribuição percentual dos tipos de pagamento\n",
    "plt.figure(figsize=(8, 8))\n",
    "plt.pie(pt, labels=pt.index, autopct='%1.1f%%', startangle=140)\n",
    "plt.title('Distribuição dos Tipos de Pagamento')\n",
    "plt.axis('equal')  # Assegura que o gráfico tenha formato circular\n",
    "plt.show()"
   ]
  },
  {
   "cell_type": "code",
   "execution_count": 80,
   "id": "dc2d55fe",
   "metadata": {},
   "outputs": [
    {
     "data": {
      "text/html": [
       "<div>\n",
       "<style scoped>\n",
       "    .dataframe tbody tr th:only-of-type {\n",
       "        vertical-align: middle;\n",
       "    }\n",
       "\n",
       "    .dataframe tbody tr th {\n",
       "        vertical-align: top;\n",
       "    }\n",
       "\n",
       "    .dataframe thead th {\n",
       "        text-align: right;\n",
       "    }\n",
       "</style>\n",
       "<table border=\"1\" class=\"dataframe\">\n",
       "  <thead>\n",
       "    <tr style=\"text-align: right;\">\n",
       "      <th></th>\n",
       "      <th>order_id</th>\n",
       "      <th>payment_sequential</th>\n",
       "      <th>payment_type</th>\n",
       "      <th>payment_installments</th>\n",
       "      <th>payment_value</th>\n",
       "    </tr>\n",
       "  </thead>\n",
       "  <tbody>\n",
       "    <tr>\n",
       "      <th>259</th>\n",
       "      <td>00b1cb0320190ca0daa2c88b35206009</td>\n",
       "      <td>1</td>\n",
       "      <td>not_defined</td>\n",
       "      <td>1</td>\n",
       "      <td>0.0</td>\n",
       "    </tr>\n",
       "    <tr>\n",
       "      <th>28566</th>\n",
       "      <td>4637ca194b6387e2d538dc89b124b0ee</td>\n",
       "      <td>1</td>\n",
       "      <td>not_defined</td>\n",
       "      <td>1</td>\n",
       "      <td>0.0</td>\n",
       "    </tr>\n",
       "    <tr>\n",
       "      <th>81460</th>\n",
       "      <td>c8c528189310eaa44a745b8d9d26908b</td>\n",
       "      <td>1</td>\n",
       "      <td>not_defined</td>\n",
       "      <td>1</td>\n",
       "      <td>0.0</td>\n",
       "    </tr>\n",
       "  </tbody>\n",
       "</table>\n",
       "</div>"
      ],
      "text/plain": [
       "                               order_id  payment_sequential payment_type  \\\n",
       "259    00b1cb0320190ca0daa2c88b35206009                   1  not_defined   \n",
       "28566  4637ca194b6387e2d538dc89b124b0ee                   1  not_defined   \n",
       "81460  c8c528189310eaa44a745b8d9d26908b                   1  not_defined   \n",
       "\n",
       "       payment_installments  payment_value  \n",
       "259                       1            0.0  \n",
       "28566                     1            0.0  \n",
       "81460                     1            0.0  "
      ]
     },
     "execution_count": 80,
     "metadata": {},
     "output_type": "execute_result"
    }
   ],
   "source": [
    "# Checando os valores não definidos (\"not_defined\")\n",
    "olist_order_payments.loc[olist_order_payments['payment_type'] == \"not_defined\"]"
   ]
  },
  {
   "cell_type": "markdown",
   "id": "558831b6",
   "metadata": {},
   "source": [
    "## <a id='toc3_8_'></a>[Tabela: olist_order_reviews](#toc0_)\n"
   ]
  },
  {
   "cell_type": "markdown",
   "id": "8cb91794",
   "metadata": {},
   "source": [
    "### <a id='toc3_8_1_'></a>[Resumo da tabela](#toc0_)"
   ]
  },
  {
   "cell_type": "code",
   "execution_count": 81,
   "id": "f72e0cbd",
   "metadata": {},
   "outputs": [
    {
     "data": {
      "text/html": [
       "<div>\n",
       "<style scoped>\n",
       "    .dataframe tbody tr th:only-of-type {\n",
       "        vertical-align: middle;\n",
       "    }\n",
       "\n",
       "    .dataframe tbody tr th {\n",
       "        vertical-align: top;\n",
       "    }\n",
       "\n",
       "    .dataframe thead th {\n",
       "        text-align: right;\n",
       "    }\n",
       "</style>\n",
       "<table border=\"1\" class=\"dataframe\">\n",
       "  <thead>\n",
       "    <tr style=\"text-align: right;\">\n",
       "      <th></th>\n",
       "      <th>review_id</th>\n",
       "      <th>order_id</th>\n",
       "      <th>review_score</th>\n",
       "      <th>review_comment_title</th>\n",
       "      <th>review_comment_message</th>\n",
       "      <th>review_creation_date</th>\n",
       "      <th>review_answer_timestamp</th>\n",
       "    </tr>\n",
       "  </thead>\n",
       "  <tbody>\n",
       "    <tr>\n",
       "      <th>0</th>\n",
       "      <td>7bc2406110b926393aa56f80a40eba40</td>\n",
       "      <td>73fc7af87114b39712e6da79b0a377eb</td>\n",
       "      <td>4</td>\n",
       "      <td>None</td>\n",
       "      <td>None</td>\n",
       "      <td>2018-01-18</td>\n",
       "      <td>2018-01-18 21:46:59</td>\n",
       "    </tr>\n",
       "    <tr>\n",
       "      <th>1</th>\n",
       "      <td>80e641a11e56f04c1ad469d5645fdfde</td>\n",
       "      <td>a548910a1c6147796b98fdf73dbeba33</td>\n",
       "      <td>5</td>\n",
       "      <td>None</td>\n",
       "      <td>None</td>\n",
       "      <td>2018-03-10</td>\n",
       "      <td>2018-03-11 03:05:13</td>\n",
       "    </tr>\n",
       "    <tr>\n",
       "      <th>2</th>\n",
       "      <td>228ce5500dc1d8e020d8d1322874b6f0</td>\n",
       "      <td>f9e4b658b201a9f2ecdecbb34bed034b</td>\n",
       "      <td>5</td>\n",
       "      <td>None</td>\n",
       "      <td>None</td>\n",
       "      <td>2018-02-17</td>\n",
       "      <td>2018-02-18 14:36:24</td>\n",
       "    </tr>\n",
       "    <tr>\n",
       "      <th>3</th>\n",
       "      <td>e64fb393e7b32834bb789ff8bb30750e</td>\n",
       "      <td>658677c97b385a9be170737859d3511b</td>\n",
       "      <td>5</td>\n",
       "      <td>None</td>\n",
       "      <td>Recebi bem antes do prazo estipulado.</td>\n",
       "      <td>2017-04-21</td>\n",
       "      <td>2017-04-21 22:02:06</td>\n",
       "    </tr>\n",
       "    <tr>\n",
       "      <th>4</th>\n",
       "      <td>f7c4243c7fe1938f181bec41a392bdeb</td>\n",
       "      <td>8e6bfb81e283fa7e4f11123a3fb894f1</td>\n",
       "      <td>5</td>\n",
       "      <td>None</td>\n",
       "      <td>Parabéns lojas lannister adorei comprar pela I...</td>\n",
       "      <td>2018-03-01</td>\n",
       "      <td>2018-03-02 10:26:53</td>\n",
       "    </tr>\n",
       "  </tbody>\n",
       "</table>\n",
       "</div>"
      ],
      "text/plain": [
       "                          review_id                          order_id  \\\n",
       "0  7bc2406110b926393aa56f80a40eba40  73fc7af87114b39712e6da79b0a377eb   \n",
       "1  80e641a11e56f04c1ad469d5645fdfde  a548910a1c6147796b98fdf73dbeba33   \n",
       "2  228ce5500dc1d8e020d8d1322874b6f0  f9e4b658b201a9f2ecdecbb34bed034b   \n",
       "3  e64fb393e7b32834bb789ff8bb30750e  658677c97b385a9be170737859d3511b   \n",
       "4  f7c4243c7fe1938f181bec41a392bdeb  8e6bfb81e283fa7e4f11123a3fb894f1   \n",
       "\n",
       "   review_score review_comment_title  \\\n",
       "0             4                 None   \n",
       "1             5                 None   \n",
       "2             5                 None   \n",
       "3             5                 None   \n",
       "4             5                 None   \n",
       "\n",
       "                              review_comment_message review_creation_date  \\\n",
       "0                                               None           2018-01-18   \n",
       "1                                               None           2018-03-10   \n",
       "2                                               None           2018-02-17   \n",
       "3              Recebi bem antes do prazo estipulado.           2017-04-21   \n",
       "4  Parabéns lojas lannister adorei comprar pela I...           2018-03-01   \n",
       "\n",
       "  review_answer_timestamp  \n",
       "0     2018-01-18 21:46:59  \n",
       "1     2018-03-11 03:05:13  \n",
       "2     2018-02-18 14:36:24  \n",
       "3     2017-04-21 22:02:06  \n",
       "4     2018-03-02 10:26:53  "
      ]
     },
     "execution_count": 81,
     "metadata": {},
     "output_type": "execute_result"
    }
   ],
   "source": [
    "# Visualização das primeiras linhas para entender estrutura, tipos e possíveis padrões nos dados\n",
    "olist_order_reviews.head()"
   ]
  },
  {
   "cell_type": "code",
   "execution_count": 82,
   "id": "ff974d1f",
   "metadata": {},
   "outputs": [
    {
     "name": "stdout",
     "output_type": "stream",
     "text": [
      "<class 'pandas.core.frame.DataFrame'>\n",
      "RangeIndex: 99224 entries, 0 to 99223\n",
      "Data columns (total 7 columns):\n",
      " #   Column                   Non-Null Count  Dtype         \n",
      "---  ------                   --------------  -----         \n",
      " 0   review_id                99224 non-null  object        \n",
      " 1   order_id                 99224 non-null  object        \n",
      " 2   review_score             99224 non-null  int64         \n",
      " 3   review_comment_title     11568 non-null  object        \n",
      " 4   review_comment_message   40977 non-null  object        \n",
      " 5   review_creation_date     99224 non-null  datetime64[ns]\n",
      " 6   review_answer_timestamp  99224 non-null  datetime64[ns]\n",
      "dtypes: datetime64[ns](2), int64(1), object(4)\n",
      "memory usage: 5.3+ MB\n"
     ]
    }
   ],
   "source": [
    "# Análise inicial da tabela: tipos de dados, quantidade de entradas, valores nulos\n",
    "olist_order_reviews.info()"
   ]
  },
  {
   "cell_type": "code",
   "execution_count": 83,
   "id": "475af5e7",
   "metadata": {},
   "outputs": [
    {
     "data": {
      "text/html": [
       "<div>\n",
       "<style scoped>\n",
       "    .dataframe tbody tr th:only-of-type {\n",
       "        vertical-align: middle;\n",
       "    }\n",
       "\n",
       "    .dataframe tbody tr th {\n",
       "        vertical-align: top;\n",
       "    }\n",
       "\n",
       "    .dataframe thead th {\n",
       "        text-align: right;\n",
       "    }\n",
       "</style>\n",
       "<table border=\"1\" class=\"dataframe\">\n",
       "  <thead>\n",
       "    <tr style=\"text-align: right;\">\n",
       "      <th></th>\n",
       "      <th>review_id</th>\n",
       "      <th>order_id</th>\n",
       "      <th>review_score</th>\n",
       "      <th>review_comment_title</th>\n",
       "      <th>review_comment_message</th>\n",
       "      <th>review_creation_date</th>\n",
       "      <th>review_answer_timestamp</th>\n",
       "    </tr>\n",
       "  </thead>\n",
       "  <tbody>\n",
       "    <tr>\n",
       "      <th>count</th>\n",
       "      <td>99224</td>\n",
       "      <td>99224</td>\n",
       "      <td>99224.000000</td>\n",
       "      <td>11568</td>\n",
       "      <td>40977</td>\n",
       "      <td>99224</td>\n",
       "      <td>99224</td>\n",
       "    </tr>\n",
       "    <tr>\n",
       "      <th>unique</th>\n",
       "      <td>98410</td>\n",
       "      <td>98673</td>\n",
       "      <td>NaN</td>\n",
       "      <td>4527</td>\n",
       "      <td>36159</td>\n",
       "      <td>NaN</td>\n",
       "      <td>NaN</td>\n",
       "    </tr>\n",
       "    <tr>\n",
       "      <th>top</th>\n",
       "      <td>7b606b0d57b078384f0b58eac1d41d78</td>\n",
       "      <td>c88b1d1b157a9999ce368f218a407141</td>\n",
       "      <td>NaN</td>\n",
       "      <td>Recomendo</td>\n",
       "      <td>Muito bom</td>\n",
       "      <td>NaN</td>\n",
       "      <td>NaN</td>\n",
       "    </tr>\n",
       "    <tr>\n",
       "      <th>freq</th>\n",
       "      <td>3</td>\n",
       "      <td>3</td>\n",
       "      <td>NaN</td>\n",
       "      <td>423</td>\n",
       "      <td>230</td>\n",
       "      <td>NaN</td>\n",
       "      <td>NaN</td>\n",
       "    </tr>\n",
       "    <tr>\n",
       "      <th>mean</th>\n",
       "      <td>NaN</td>\n",
       "      <td>NaN</td>\n",
       "      <td>4.086421</td>\n",
       "      <td>NaN</td>\n",
       "      <td>NaN</td>\n",
       "      <td>2018-01-12 20:49:23.948238336</td>\n",
       "      <td>2018-01-16 00:23:56.977938688</td>\n",
       "    </tr>\n",
       "    <tr>\n",
       "      <th>min</th>\n",
       "      <td>NaN</td>\n",
       "      <td>NaN</td>\n",
       "      <td>1.000000</td>\n",
       "      <td>NaN</td>\n",
       "      <td>NaN</td>\n",
       "      <td>2016-10-02 00:00:00</td>\n",
       "      <td>2016-10-07 18:32:28</td>\n",
       "    </tr>\n",
       "    <tr>\n",
       "      <th>25%</th>\n",
       "      <td>NaN</td>\n",
       "      <td>NaN</td>\n",
       "      <td>4.000000</td>\n",
       "      <td>NaN</td>\n",
       "      <td>NaN</td>\n",
       "      <td>2017-09-23 00:00:00</td>\n",
       "      <td>2017-09-27 01:53:27.249999872</td>\n",
       "    </tr>\n",
       "    <tr>\n",
       "      <th>50%</th>\n",
       "      <td>NaN</td>\n",
       "      <td>NaN</td>\n",
       "      <td>5.000000</td>\n",
       "      <td>NaN</td>\n",
       "      <td>NaN</td>\n",
       "      <td>2018-02-02 00:00:00</td>\n",
       "      <td>2018-02-04 22:41:47.500000</td>\n",
       "    </tr>\n",
       "    <tr>\n",
       "      <th>75%</th>\n",
       "      <td>NaN</td>\n",
       "      <td>NaN</td>\n",
       "      <td>5.000000</td>\n",
       "      <td>NaN</td>\n",
       "      <td>NaN</td>\n",
       "      <td>2018-05-16 00:00:00</td>\n",
       "      <td>2018-05-20 12:11:21.500000</td>\n",
       "    </tr>\n",
       "    <tr>\n",
       "      <th>max</th>\n",
       "      <td>NaN</td>\n",
       "      <td>NaN</td>\n",
       "      <td>5.000000</td>\n",
       "      <td>NaN</td>\n",
       "      <td>NaN</td>\n",
       "      <td>2018-08-31 00:00:00</td>\n",
       "      <td>2018-10-29 12:27:35</td>\n",
       "    </tr>\n",
       "    <tr>\n",
       "      <th>std</th>\n",
       "      <td>NaN</td>\n",
       "      <td>NaN</td>\n",
       "      <td>1.347579</td>\n",
       "      <td>NaN</td>\n",
       "      <td>NaN</td>\n",
       "      <td>NaN</td>\n",
       "      <td>NaN</td>\n",
       "    </tr>\n",
       "  </tbody>\n",
       "</table>\n",
       "</div>"
      ],
      "text/plain": [
       "                               review_id                          order_id  \\\n",
       "count                              99224                             99224   \n",
       "unique                             98410                             98673   \n",
       "top     7b606b0d57b078384f0b58eac1d41d78  c88b1d1b157a9999ce368f218a407141   \n",
       "freq                                   3                                 3   \n",
       "mean                                 NaN                               NaN   \n",
       "min                                  NaN                               NaN   \n",
       "25%                                  NaN                               NaN   \n",
       "50%                                  NaN                               NaN   \n",
       "75%                                  NaN                               NaN   \n",
       "max                                  NaN                               NaN   \n",
       "std                                  NaN                               NaN   \n",
       "\n",
       "        review_score review_comment_title review_comment_message  \\\n",
       "count   99224.000000                11568                  40977   \n",
       "unique           NaN                 4527                  36159   \n",
       "top              NaN            Recomendo              Muito bom   \n",
       "freq             NaN                  423                    230   \n",
       "mean        4.086421                  NaN                    NaN   \n",
       "min         1.000000                  NaN                    NaN   \n",
       "25%         4.000000                  NaN                    NaN   \n",
       "50%         5.000000                  NaN                    NaN   \n",
       "75%         5.000000                  NaN                    NaN   \n",
       "max         5.000000                  NaN                    NaN   \n",
       "std         1.347579                  NaN                    NaN   \n",
       "\n",
       "                 review_creation_date        review_answer_timestamp  \n",
       "count                           99224                          99224  \n",
       "unique                            NaN                            NaN  \n",
       "top                               NaN                            NaN  \n",
       "freq                              NaN                            NaN  \n",
       "mean    2018-01-12 20:49:23.948238336  2018-01-16 00:23:56.977938688  \n",
       "min               2016-10-02 00:00:00            2016-10-07 18:32:28  \n",
       "25%               2017-09-23 00:00:00  2017-09-27 01:53:27.249999872  \n",
       "50%               2018-02-02 00:00:00     2018-02-04 22:41:47.500000  \n",
       "75%               2018-05-16 00:00:00     2018-05-20 12:11:21.500000  \n",
       "max               2018-08-31 00:00:00            2018-10-29 12:27:35  \n",
       "std                               NaN                            NaN  "
      ]
     },
     "execution_count": 83,
     "metadata": {},
     "output_type": "execute_result"
    }
   ],
   "source": [
    "# Resumo estatístico da tabela\n",
    "olist_order_reviews.describe(include=\"all\") # Acrescentando o Parâmetro (include=\"all\") para inclusão dos dados categoricos no resumo"
   ]
  },
  {
   "cell_type": "code",
   "execution_count": 84,
   "id": "95ccb726",
   "metadata": {},
   "outputs": [
    {
     "data": {
      "text/html": [
       "<div>\n",
       "<style scoped>\n",
       "    .dataframe tbody tr th:only-of-type {\n",
       "        vertical-align: middle;\n",
       "    }\n",
       "\n",
       "    .dataframe tbody tr th {\n",
       "        vertical-align: top;\n",
       "    }\n",
       "\n",
       "    .dataframe thead th {\n",
       "        text-align: right;\n",
       "    }\n",
       "</style>\n",
       "<table border=\"1\" class=\"dataframe\">\n",
       "  <thead>\n",
       "    <tr style=\"text-align: right;\">\n",
       "      <th></th>\n",
       "      <th>review_id</th>\n",
       "      <th>order_id</th>\n",
       "      <th>review_score</th>\n",
       "      <th>review_comment_title</th>\n",
       "      <th>review_comment_message</th>\n",
       "      <th>review_creation_date</th>\n",
       "      <th>review_answer_timestamp</th>\n",
       "    </tr>\n",
       "  </thead>\n",
       "  <tbody>\n",
       "  </tbody>\n",
       "</table>\n",
       "</div>"
      ],
      "text/plain": [
       "Empty DataFrame\n",
       "Columns: [review_id, order_id, review_score, review_comment_title, review_comment_message, review_creation_date, review_answer_timestamp]\n",
       "Index: []"
      ]
     },
     "execution_count": 84,
     "metadata": {},
     "output_type": "execute_result"
    }
   ],
   "source": [
    "# Checando se tem linhas duplicados\n",
    "encontrar_linhas_duplicadas(olist_order_reviews)"
   ]
  }
 ],
 "metadata": {
  "kernelspec": {
   "display_name": "base",
   "language": "python",
   "name": "python3"
  },
  "language_info": {
   "codemirror_mode": {
    "name": "ipython",
    "version": 3
   },
   "file_extension": ".py",
   "mimetype": "text/x-python",
   "name": "python",
   "nbconvert_exporter": "python",
   "pygments_lexer": "ipython3",
   "version": "3.12.7"
  }
 },
 "nbformat": 4,
 "nbformat_minor": 5
}

